{
 "cells": [
  {
   "cell_type": "code",
   "execution_count": 1,
   "metadata": {},
   "outputs": [
    {
     "name": "stdout",
     "output_type": "stream",
     "text": [
      "package 'ggplot2' successfully unpacked and MD5 sums checked\n",
      "\n",
      "The downloaded binary packages are in\n",
      "\tC:\\Users\\student\\AppData\\Local\\Temp\\Rtmpi2pMEV\\downloaded_packages\n"
     ]
    }
   ],
   "source": [
    "install.packages(\"ggplot2\")"
   ]
  },
  {
   "cell_type": "code",
   "execution_count": 3,
   "metadata": {},
   "outputs": [
    {
     "data": {
      "text/html": [
       "<ol class=list-inline>\n",
       "\t<li>'PID'</li>\n",
       "\t<li>'county'</li>\n",
       "\t<li>'state'</li>\n",
       "\t<li>'area'</li>\n",
       "\t<li>'poptotal'</li>\n",
       "\t<li>'popdensity'</li>\n",
       "\t<li>'popwhite'</li>\n",
       "\t<li>'popblack'</li>\n",
       "\t<li>'popamerindian'</li>\n",
       "\t<li>'popasian'</li>\n",
       "\t<li>'popother'</li>\n",
       "\t<li>'percwhite'</li>\n",
       "\t<li>'percblack'</li>\n",
       "\t<li>'percamerindan'</li>\n",
       "\t<li>'percasian'</li>\n",
       "\t<li>'percother'</li>\n",
       "\t<li>'popadults'</li>\n",
       "\t<li>'perchsd'</li>\n",
       "\t<li>'percollege'</li>\n",
       "\t<li>'percprof'</li>\n",
       "\t<li>'poppovertyknown'</li>\n",
       "\t<li>'percpovertyknown'</li>\n",
       "\t<li>'percbelowpoverty'</li>\n",
       "\t<li>'percchildbelowpovert'</li>\n",
       "\t<li>'percadultpoverty'</li>\n",
       "\t<li>'percelderlypoverty'</li>\n",
       "\t<li>'inmetro'</li>\n",
       "\t<li>'category'</li>\n",
       "</ol>\n"
      ],
      "text/latex": [
       "\\begin{enumerate*}\n",
       "\\item 'PID'\n",
       "\\item 'county'\n",
       "\\item 'state'\n",
       "\\item 'area'\n",
       "\\item 'poptotal'\n",
       "\\item 'popdensity'\n",
       "\\item 'popwhite'\n",
       "\\item 'popblack'\n",
       "\\item 'popamerindian'\n",
       "\\item 'popasian'\n",
       "\\item 'popother'\n",
       "\\item 'percwhite'\n",
       "\\item 'percblack'\n",
       "\\item 'percamerindan'\n",
       "\\item 'percasian'\n",
       "\\item 'percother'\n",
       "\\item 'popadults'\n",
       "\\item 'perchsd'\n",
       "\\item 'percollege'\n",
       "\\item 'percprof'\n",
       "\\item 'poppovertyknown'\n",
       "\\item 'percpovertyknown'\n",
       "\\item 'percbelowpoverty'\n",
       "\\item 'percchildbelowpovert'\n",
       "\\item 'percadultpoverty'\n",
       "\\item 'percelderlypoverty'\n",
       "\\item 'inmetro'\n",
       "\\item 'category'\n",
       "\\end{enumerate*}\n"
      ],
      "text/markdown": [
       "1. 'PID'\n",
       "2. 'county'\n",
       "3. 'state'\n",
       "4. 'area'\n",
       "5. 'poptotal'\n",
       "6. 'popdensity'\n",
       "7. 'popwhite'\n",
       "8. 'popblack'\n",
       "9. 'popamerindian'\n",
       "10. 'popasian'\n",
       "11. 'popother'\n",
       "12. 'percwhite'\n",
       "13. 'percblack'\n",
       "14. 'percamerindan'\n",
       "15. 'percasian'\n",
       "16. 'percother'\n",
       "17. 'popadults'\n",
       "18. 'perchsd'\n",
       "19. 'percollege'\n",
       "20. 'percprof'\n",
       "21. 'poppovertyknown'\n",
       "22. 'percpovertyknown'\n",
       "23. 'percbelowpoverty'\n",
       "24. 'percchildbelowpovert'\n",
       "25. 'percadultpoverty'\n",
       "26. 'percelderlypoverty'\n",
       "27. 'inmetro'\n",
       "28. 'category'\n",
       "\n",
       "\n"
      ],
      "text/plain": [
       " [1] \"PID\"                  \"county\"               \"state\"               \n",
       " [4] \"area\"                 \"poptotal\"             \"popdensity\"          \n",
       " [7] \"popwhite\"             \"popblack\"             \"popamerindian\"       \n",
       "[10] \"popasian\"             \"popother\"             \"percwhite\"           \n",
       "[13] \"percblack\"            \"percamerindan\"        \"percasian\"           \n",
       "[16] \"percother\"            \"popadults\"            \"perchsd\"             \n",
       "[19] \"percollege\"           \"percprof\"             \"poppovertyknown\"     \n",
       "[22] \"percpovertyknown\"     \"percbelowpoverty\"     \"percchildbelowpovert\"\n",
       "[25] \"percadultpoverty\"     \"percelderlypoverty\"   \"inmetro\"             \n",
       "[28] \"category\"            "
      ]
     },
     "metadata": {},
     "output_type": "display_data"
    },
    {
     "name": "stdout",
     "output_type": "stream",
     "text": [
      "tibble [437 x 28] (S3: tbl_df/tbl/data.frame)\n",
      " $ PID                 : int [1:437] 561 562 563 564 565 566 567 568 569 570 ...\n",
      " $ county              : chr [1:437] \"ADAMS\" \"ALEXANDER\" \"BOND\" \"BOONE\" ...\n",
      " $ state               : chr [1:437] \"IL\" \"IL\" \"IL\" \"IL\" ...\n",
      " $ area                : num [1:437] 0.052 0.014 0.022 0.017 0.018 0.05 0.017 0.027 0.024 0.058 ...\n",
      " $ poptotal            : int [1:437] 66090 10626 14991 30806 5836 35688 5322 16805 13437 173025 ...\n",
      " $ popdensity          : num [1:437] 1271 759 681 1812 324 ...\n",
      " $ popwhite            : int [1:437] 63917 7054 14477 29344 5264 35157 5298 16519 13384 146506 ...\n",
      " $ popblack            : int [1:437] 1702 3496 429 127 547 50 1 111 16 16559 ...\n",
      " $ popamerindian       : int [1:437] 98 19 35 46 14 65 8 30 8 331 ...\n",
      " $ popasian            : int [1:437] 249 48 16 150 5 195 15 61 23 8033 ...\n",
      " $ popother            : int [1:437] 124 9 34 1139 6 221 0 84 6 1596 ...\n",
      " $ percwhite           : num [1:437] 96.7 66.4 96.6 95.3 90.2 ...\n",
      " $ percblack           : num [1:437] 2.575 32.9 2.862 0.412 9.373 ...\n",
      " $ percamerindan       : num [1:437] 0.148 0.179 0.233 0.149 0.24 ...\n",
      " $ percasian           : num [1:437] 0.3768 0.4517 0.1067 0.4869 0.0857 ...\n",
      " $ percother           : num [1:437] 0.1876 0.0847 0.2268 3.6973 0.1028 ...\n",
      " $ popadults           : int [1:437] 43298 6724 9669 19272 3979 23444 3583 11323 8825 95971 ...\n",
      " $ perchsd             : num [1:437] 75.1 59.7 69.3 75.5 68.9 ...\n",
      " $ percollege          : num [1:437] 19.6 11.2 17 17.3 14.5 ...\n",
      " $ percprof            : num [1:437] 4.36 2.87 4.49 4.2 3.37 ...\n",
      " $ poppovertyknown     : int [1:437] 63628 10529 14235 30337 4815 35107 5241 16455 13081 154934 ...\n",
      " $ percpovertyknown    : num [1:437] 96.3 99.1 95 98.5 82.5 ...\n",
      " $ percbelowpoverty    : num [1:437] 13.15 32.24 12.07 7.21 13.52 ...\n",
      " $ percchildbelowpovert: num [1:437] 18 45.8 14 11.2 13 ...\n",
      " $ percadultpoverty    : num [1:437] 11.01 27.39 10.85 5.54 11.14 ...\n",
      " $ percelderlypoverty  : num [1:437] 12.44 25.23 12.7 6.22 19.2 ...\n",
      " $ inmetro             : int [1:437] 0 0 0 1 0 0 0 0 0 1 ...\n",
      " $ category            : chr [1:437] \"AAR\" \"LHR\" \"AAR\" \"ALU\" ...\n"
     ]
    },
    {
     "data": {
      "text/html": [
       "<h3>Data sets</h3>\n",
       "<table>\n",
       "<thead><tr><th scope=col>Package</th><th scope=col>Item</th><th scope=col>Title</th></tr></thead>\n",
       "<tbody>\n",
       "\t<tr><td>ggplot2                                                          </td><td>diamonds                                                         </td><td>Prices of over 50,000 round cut diamonds                         </td></tr>\n",
       "\t<tr><td>ggplot2                                                          </td><td>economics                                                        </td><td>US economic time series                                          </td></tr>\n",
       "\t<tr><td>ggplot2                                                          </td><td>economics_long                                                   </td><td>US economic time series                                          </td></tr>\n",
       "\t<tr><td>ggplot2                                                          </td><td>faithfuld                                                        </td><td>2d density estimate of Old Faithful data                         </td></tr>\n",
       "\t<tr><td>ggplot2                                                          </td><td>luv_colours                                                      </td><td>'colors()' in Luv space                                          </td></tr>\n",
       "\t<tr><td>ggplot2                                                          </td><td>midwest                                                          </td><td>Midwest demographics                                             </td></tr>\n",
       "\t<tr><td>ggplot2                                                          </td><td>mpg                                                              </td><td>Fuel economy data from 1999 to 2008 for 38 popular models of cars</td></tr>\n",
       "\t<tr><td>ggplot2                                                          </td><td>msleep                                                           </td><td>An updated and expanded version of the mammals sleep dataset     </td></tr>\n",
       "\t<tr><td>ggplot2                                                          </td><td>presidential                                                     </td><td>Terms of 11 presidents from Eisenhower to Obama                  </td></tr>\n",
       "\t<tr><td>ggplot2                                                          </td><td>seals                                                            </td><td>Vector field of seal movements                                   </td></tr>\n",
       "\t<tr><td>ggplot2                                                          </td><td>txhousing                                                        </td><td>Housing sales in TX                                              </td></tr>\n",
       "</tbody>\n",
       "</table>\n",
       "\n"
      ],
      "text/plain": [
       "Data sets in package 'ggplot2':\n",
       "\n",
       "diamonds                Prices of over 50,000 round cut diamonds\n",
       "economics               US economic time series\n",
       "economics_long          US economic time series\n",
       "faithfuld               2d density estimate of Old Faithful data\n",
       "luv_colours             'colors()' in Luv space\n",
       "midwest                 Midwest demographics\n",
       "mpg                     Fuel economy data from 1999 to 2008 for 38\n",
       "                        popular models of cars\n",
       "msleep                  An updated and expanded version of the mammals\n",
       "                        sleep dataset\n",
       "presidential            Terms of 11 presidents from Eisenhower to Obama\n",
       "seals                   Vector field of seal movements\n",
       "txhousing               Housing sales in TX"
      ]
     },
     "metadata": {},
     "output_type": "display_data"
    }
   ],
   "source": [
    "library(ggplot2)\n",
    "data(package=\"ggplot2\")\n",
    "\n",
    "df = ggplot2::midwest\n",
    "colnames(df)\n",
    "str(df)\n"
   ]
  }
 ],
 "metadata": {
  "kernelspec": {
   "display_name": "R",
   "language": "R",
   "name": "ir"
  },
  "language_info": {
   "codemirror_mode": "r",
   "file_extension": ".r",
   "mimetype": "text/x-r-source",
   "name": "R",
   "pygments_lexer": "r",
   "version": "3.6.1"
  }
 },
 "nbformat": 4,
 "nbformat_minor": 4
}
