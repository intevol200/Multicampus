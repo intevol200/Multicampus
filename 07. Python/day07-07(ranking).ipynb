{
 "cells": [
  {
   "cell_type": "code",
   "execution_count": 1,
   "metadata": {},
   "outputs": [
    {
     "data": {
      "text/html": [
       "<div>\n",
       "<style scoped>\n",
       "    .dataframe tbody tr th:only-of-type {\n",
       "        vertical-align: middle;\n",
       "    }\n",
       "\n",
       "    .dataframe tbody tr th {\n",
       "        vertical-align: top;\n",
       "    }\n",
       "\n",
       "    .dataframe thead th {\n",
       "        text-align: right;\n",
       "    }\n",
       "</style>\n",
       "<table border=\"1\" class=\"dataframe\">\n",
       "  <thead>\n",
       "    <tr style=\"text-align: right;\">\n",
       "      <th></th>\n",
       "      <th>자바</th>\n",
       "      <th>파이썬</th>\n",
       "      <th>하둡</th>\n",
       "    </tr>\n",
       "  </thead>\n",
       "  <tbody>\n",
       "    <tr>\n",
       "      <th>김</th>\n",
       "      <td>50</td>\n",
       "      <td>90</td>\n",
       "      <td>100</td>\n",
       "    </tr>\n",
       "    <tr>\n",
       "      <th>양</th>\n",
       "      <td>90</td>\n",
       "      <td>20</td>\n",
       "      <td>50</td>\n",
       "    </tr>\n",
       "    <tr>\n",
       "      <th>정</th>\n",
       "      <td>20</td>\n",
       "      <td>80</td>\n",
       "      <td>90</td>\n",
       "    </tr>\n",
       "    <tr>\n",
       "      <th>박</th>\n",
       "      <td>70</td>\n",
       "      <td>40</td>\n",
       "      <td>60</td>\n",
       "    </tr>\n",
       "    <tr>\n",
       "      <th>오</th>\n",
       "      <td>60</td>\n",
       "      <td>100</td>\n",
       "      <td>80</td>\n",
       "    </tr>\n",
       "  </tbody>\n",
       "</table>\n",
       "</div>"
      ],
      "text/plain": [
       "   자바  파이썬   하둡\n",
       "김  50   90  100\n",
       "양  90   20   50\n",
       "정  20   80   90\n",
       "박  70   40   60\n",
       "오  60  100   80"
      ]
     },
     "execution_count": 1,
     "metadata": {},
     "output_type": "execute_result"
    }
   ],
   "source": [
    "import pandas as pd\n",
    "data = {\"자바\":[50,90,20,70,60],\n",
    "        \"파이썬\":[90,20,80,40,100],\n",
    "        \"하둡\":[100,50,90,60,80]}\n",
    "index = [\"김\",\"양\",\"정\",\"박\",\"오\"]\n",
    "df = pd.DataFrame(data, index=index)\n",
    "df"
   ]
  },
  {
   "cell_type": "code",
   "execution_count": 21,
   "metadata": {},
   "outputs": [
    {
     "data": {
      "text/plain": [
       "'오'"
      ]
     },
     "execution_count": 21,
     "metadata": {},
     "output_type": "execute_result"
    }
   ],
   "source": [
    "#파이썬 점수중에 가장 높은 사람의 index\n",
    "df[\"파이썬\"].idxmax()"
   ]
  },
  {
   "cell_type": "code",
   "execution_count": 22,
   "metadata": {},
   "outputs": [
    {
     "name": "stdout",
     "output_type": "stream",
     "text": [
      "<class 'pandas.core.series.Series'>\n",
      "자바      60\n",
      "파이썬    100\n",
      "하둡      80\n",
      "Name: 오, dtype: int64\n"
     ]
    }
   ],
   "source": [
    "#파이썬 점수 가장높은 사람의 값들 (series)\n",
    "aa=df.loc[df[\"파이썬\"].idxmax()]\n",
    "print(type(aa))\n",
    "print(aa)"
   ]
  },
  {
   "cell_type": "code",
   "execution_count": 23,
   "metadata": {},
   "outputs": [
    {
     "data": {
      "text/html": [
       "<div>\n",
       "<style scoped>\n",
       "    .dataframe tbody tr th:only-of-type {\n",
       "        vertical-align: middle;\n",
       "    }\n",
       "\n",
       "    .dataframe tbody tr th {\n",
       "        vertical-align: top;\n",
       "    }\n",
       "\n",
       "    .dataframe thead th {\n",
       "        text-align: right;\n",
       "    }\n",
       "</style>\n",
       "<table border=\"1\" class=\"dataframe\">\n",
       "  <thead>\n",
       "    <tr style=\"text-align: right;\">\n",
       "      <th></th>\n",
       "      <th>자바</th>\n",
       "      <th>파이썬</th>\n",
       "      <th>하둡</th>\n",
       "      <th>가장잘한과목</th>\n",
       "    </tr>\n",
       "  </thead>\n",
       "  <tbody>\n",
       "    <tr>\n",
       "      <th>김</th>\n",
       "      <td>50</td>\n",
       "      <td>90</td>\n",
       "      <td>100</td>\n",
       "      <td>하둡</td>\n",
       "    </tr>\n",
       "    <tr>\n",
       "      <th>양</th>\n",
       "      <td>90</td>\n",
       "      <td>20</td>\n",
       "      <td>50</td>\n",
       "      <td>자바</td>\n",
       "    </tr>\n",
       "    <tr>\n",
       "      <th>정</th>\n",
       "      <td>20</td>\n",
       "      <td>80</td>\n",
       "      <td>90</td>\n",
       "      <td>하둡</td>\n",
       "    </tr>\n",
       "    <tr>\n",
       "      <th>박</th>\n",
       "      <td>70</td>\n",
       "      <td>40</td>\n",
       "      <td>60</td>\n",
       "      <td>자바</td>\n",
       "    </tr>\n",
       "    <tr>\n",
       "      <th>오</th>\n",
       "      <td>60</td>\n",
       "      <td>100</td>\n",
       "      <td>80</td>\n",
       "      <td>파이썬</td>\n",
       "    </tr>\n",
       "  </tbody>\n",
       "</table>\n",
       "</div>"
      ],
      "text/plain": [
       "   자바  파이썬   하둡 가장잘한과목\n",
       "김  50   90  100     하둡\n",
       "양  90   20   50     자바\n",
       "정  20   80   90     하둡\n",
       "박  70   40   60     자바\n",
       "오  60  100   80    파이썬"
      ]
     },
     "execution_count": 23,
     "metadata": {},
     "output_type": "execute_result"
    }
   ],
   "source": [
    "#행방향 가장 잘한과목 찾기 \n",
    "df[\"가장잘한과목\"] = df.idxmax(axis=1)\n",
    "df"
   ]
  },
  {
   "cell_type": "code",
   "execution_count": 34,
   "metadata": {},
   "outputs": [],
   "source": [
    "data = {\"자바\":[50,90,20,70,60],\n",
    "        \"파이썬\":[90,20,80,40,100],\n",
    "        \"하둡\":[100,50,90,60,80]}\n",
    "index = [\"김\",\"양\",\"정\",\"박\",\"오\"]\n",
    "df = pd.DataFrame(data, index=index)\n",
    "df\n",
    "rowRanking = df.apply(np.argsort, axis=1)\n",
    "colRanking = df.apply(np.argsort, axis=0)"
   ]
  },
  {
   "cell_type": "code",
   "execution_count": 29,
   "metadata": {},
   "outputs": [
    {
     "data": {
      "text/html": [
       "<div>\n",
       "<style scoped>\n",
       "    .dataframe tbody tr th:only-of-type {\n",
       "        vertical-align: middle;\n",
       "    }\n",
       "\n",
       "    .dataframe tbody tr th {\n",
       "        vertical-align: top;\n",
       "    }\n",
       "\n",
       "    .dataframe thead th {\n",
       "        text-align: right;\n",
       "    }\n",
       "</style>\n",
       "<table border=\"1\" class=\"dataframe\">\n",
       "  <thead>\n",
       "    <tr style=\"text-align: right;\">\n",
       "      <th></th>\n",
       "      <th>자바</th>\n",
       "      <th>파이썬</th>\n",
       "      <th>하둡</th>\n",
       "    </tr>\n",
       "  </thead>\n",
       "  <tbody>\n",
       "    <tr>\n",
       "      <th>김</th>\n",
       "      <td>2</td>\n",
       "      <td>1</td>\n",
       "      <td>1</td>\n",
       "    </tr>\n",
       "    <tr>\n",
       "      <th>양</th>\n",
       "      <td>0</td>\n",
       "      <td>3</td>\n",
       "      <td>3</td>\n",
       "    </tr>\n",
       "    <tr>\n",
       "      <th>정</th>\n",
       "      <td>4</td>\n",
       "      <td>2</td>\n",
       "      <td>4</td>\n",
       "    </tr>\n",
       "    <tr>\n",
       "      <th>박</th>\n",
       "      <td>3</td>\n",
       "      <td>0</td>\n",
       "      <td>2</td>\n",
       "    </tr>\n",
       "    <tr>\n",
       "      <th>오</th>\n",
       "      <td>1</td>\n",
       "      <td>4</td>\n",
       "      <td>0</td>\n",
       "    </tr>\n",
       "  </tbody>\n",
       "</table>\n",
       "</div>"
      ],
      "text/plain": [
       "   자바  파이썬  하둡\n",
       "김   2    1   1\n",
       "양   0    3   3\n",
       "정   4    2   4\n",
       "박   3    0   2\n",
       "오   1    4   0"
      ]
     },
     "execution_count": 29,
     "metadata": {},
     "output_type": "execute_result"
    }
   ],
   "source": [
    "colRanking"
   ]
  },
  {
   "cell_type": "code",
   "execution_count": 30,
   "metadata": {},
   "outputs": [
    {
     "data": {
      "text/plain": [
       "array([[2, 1, 1],\n",
       "       [0, 3, 3],\n",
       "       [4, 2, 4],\n",
       "       [3, 0, 2],\n",
       "       [1, 4, 0]], dtype=int64)"
      ]
     },
     "execution_count": 30,
     "metadata": {},
     "output_type": "execute_result"
    }
   ],
   "source": [
    "colRanking.values"
   ]
  },
  {
   "cell_type": "code",
   "execution_count": 35,
   "metadata": {},
   "outputs": [
    {
     "data": {
      "text/html": [
       "<div>\n",
       "<style scoped>\n",
       "    .dataframe tbody tr th:only-of-type {\n",
       "        vertical-align: middle;\n",
       "    }\n",
       "\n",
       "    .dataframe tbody tr th {\n",
       "        vertical-align: top;\n",
       "    }\n",
       "\n",
       "    .dataframe thead th {\n",
       "        text-align: right;\n",
       "    }\n",
       "</style>\n",
       "<table border=\"1\" class=\"dataframe\">\n",
       "  <thead>\n",
       "    <tr style=\"text-align: right;\">\n",
       "      <th></th>\n",
       "      <th>자바</th>\n",
       "      <th>파이썬</th>\n",
       "      <th>하둡</th>\n",
       "    </tr>\n",
       "  </thead>\n",
       "  <tbody>\n",
       "    <tr>\n",
       "      <th>김</th>\n",
       "      <td>0</td>\n",
       "      <td>1</td>\n",
       "      <td>2</td>\n",
       "    </tr>\n",
       "    <tr>\n",
       "      <th>양</th>\n",
       "      <td>1</td>\n",
       "      <td>2</td>\n",
       "      <td>0</td>\n",
       "    </tr>\n",
       "    <tr>\n",
       "      <th>정</th>\n",
       "      <td>0</td>\n",
       "      <td>1</td>\n",
       "      <td>2</td>\n",
       "    </tr>\n",
       "    <tr>\n",
       "      <th>박</th>\n",
       "      <td>1</td>\n",
       "      <td>2</td>\n",
       "      <td>0</td>\n",
       "    </tr>\n",
       "    <tr>\n",
       "      <th>오</th>\n",
       "      <td>0</td>\n",
       "      <td>2</td>\n",
       "      <td>1</td>\n",
       "    </tr>\n",
       "  </tbody>\n",
       "</table>\n",
       "</div>"
      ],
      "text/plain": [
       "   자바  파이썬  하둡\n",
       "김   0    1   2\n",
       "양   1    2   0\n",
       "정   0    1   2\n",
       "박   1    2   0\n",
       "오   0    2   1"
      ]
     },
     "execution_count": 35,
     "metadata": {},
     "output_type": "execute_result"
    }
   ],
   "source": [
    "rowRanking"
   ]
  },
  {
   "cell_type": "code",
   "execution_count": 36,
   "metadata": {},
   "outputs": [
    {
     "data": {
      "text/plain": [
       "array([[0, 1, 2],\n",
       "       [1, 2, 0],\n",
       "       [0, 1, 2],\n",
       "       [1, 2, 0],\n",
       "       [0, 2, 1]], dtype=int64)"
      ]
     },
     "execution_count": 36,
     "metadata": {},
     "output_type": "execute_result"
    }
   ],
   "source": [
    "rowRanking.values"
   ]
  },
  {
   "cell_type": "code",
   "execution_count": 41,
   "metadata": {},
   "outputs": [
    {
     "data": {
      "text/plain": [
       "array([['하둡', '파이썬', '자바'],\n",
       "       ['자바', '하둡', '파이썬'],\n",
       "       ['하둡', '파이썬', '자바'],\n",
       "       ['자바', '하둡', '파이썬'],\n",
       "       ['파이썬', '하둡', '자바']], dtype=object)"
      ]
     },
     "execution_count": 41,
     "metadata": {},
     "output_type": "execute_result"
    }
   ],
   "source": [
    "rk = df.columns.to_series()[rowRanking.values][:, ::-1] #역순\n",
    "rk"
   ]
  },
  {
   "cell_type": "code",
   "execution_count": 42,
   "metadata": {},
   "outputs": [
    {
     "data": {
      "text/html": [
       "<div>\n",
       "<style scoped>\n",
       "    .dataframe tbody tr th:only-of-type {\n",
       "        vertical-align: middle;\n",
       "    }\n",
       "\n",
       "    .dataframe tbody tr th {\n",
       "        vertical-align: top;\n",
       "    }\n",
       "\n",
       "    .dataframe thead th {\n",
       "        text-align: right;\n",
       "    }\n",
       "</style>\n",
       "<table border=\"1\" class=\"dataframe\">\n",
       "  <thead>\n",
       "    <tr style=\"text-align: right;\">\n",
       "      <th></th>\n",
       "      <th>자바</th>\n",
       "      <th>파이썬</th>\n",
       "      <th>하둡</th>\n",
       "      <th>1등</th>\n",
       "      <th>2등</th>\n",
       "      <th>3등</th>\n",
       "    </tr>\n",
       "  </thead>\n",
       "  <tbody>\n",
       "    <tr>\n",
       "      <th>김</th>\n",
       "      <td>50</td>\n",
       "      <td>90</td>\n",
       "      <td>100</td>\n",
       "      <td>하둡</td>\n",
       "      <td>파이썬</td>\n",
       "      <td>자바</td>\n",
       "    </tr>\n",
       "    <tr>\n",
       "      <th>양</th>\n",
       "      <td>90</td>\n",
       "      <td>20</td>\n",
       "      <td>50</td>\n",
       "      <td>자바</td>\n",
       "      <td>하둡</td>\n",
       "      <td>파이썬</td>\n",
       "    </tr>\n",
       "    <tr>\n",
       "      <th>정</th>\n",
       "      <td>20</td>\n",
       "      <td>80</td>\n",
       "      <td>90</td>\n",
       "      <td>하둡</td>\n",
       "      <td>파이썬</td>\n",
       "      <td>자바</td>\n",
       "    </tr>\n",
       "    <tr>\n",
       "      <th>박</th>\n",
       "      <td>70</td>\n",
       "      <td>40</td>\n",
       "      <td>60</td>\n",
       "      <td>자바</td>\n",
       "      <td>하둡</td>\n",
       "      <td>파이썬</td>\n",
       "    </tr>\n",
       "    <tr>\n",
       "      <th>오</th>\n",
       "      <td>60</td>\n",
       "      <td>100</td>\n",
       "      <td>80</td>\n",
       "      <td>파이썬</td>\n",
       "      <td>하둡</td>\n",
       "      <td>자바</td>\n",
       "    </tr>\n",
       "  </tbody>\n",
       "</table>\n",
       "</div>"
      ],
      "text/plain": [
       "   자바  파이썬   하둡   1등   2등   3등\n",
       "김  50   90  100   하둡  파이썬   자바\n",
       "양  90   20   50   자바   하둡  파이썬\n",
       "정  20   80   90   하둡  파이썬   자바\n",
       "박  70   40   60   자바   하둡  파이썬\n",
       "오  60  100   80  파이썬   하둡   자바"
      ]
     },
     "execution_count": 42,
     "metadata": {},
     "output_type": "execute_result"
    }
   ],
   "source": [
    "df[[\"1등\",\"2등\",\"3등\"]] = pd.DataFrame(rk, index=df.index)\n",
    "df"
   ]
  },
  {
   "cell_type": "code",
   "execution_count": null,
   "metadata": {},
   "outputs": [],
   "source": []
  }
 ],
 "metadata": {
  "kernelspec": {
   "display_name": "Python 3",
   "language": "python",
   "name": "python3"
  },
  "language_info": {
   "codemirror_mode": {
    "name": "ipython",
    "version": 3
   },
   "file_extension": ".py",
   "mimetype": "text/x-python",
   "name": "python",
   "nbconvert_exporter": "python",
   "pygments_lexer": "ipython3",
   "version": "3.7.4"
  }
 },
 "nbformat": 4,
 "nbformat_minor": 4
}
