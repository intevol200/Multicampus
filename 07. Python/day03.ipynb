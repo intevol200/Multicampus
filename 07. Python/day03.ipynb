{
 "cells": [
  {
   "cell_type": "code",
   "execution_count": 95,
   "metadata": {},
   "outputs": [
    {
     "name": "stdout",
     "output_type": "stream",
     "text": [
      "<class 'int'>\n"
     ]
    }
   ],
   "source": [
    "#class : object만드는 틀, template ...int\n",
    "#object: class로 만든 독립된 실체 ...a\n",
    "a=10\n",
    "b=20\n",
    "print(type(a))"
   ]
  },
  {
   "cell_type": "code",
   "execution_count": 99,
   "metadata": {},
   "outputs": [
    {
     "name": "stdout",
     "output_type": "stream",
     "text": [
      "<class 'str'>\n",
      "hello\n",
      "world!\n"
     ]
    }
   ],
   "source": [
    "s = \"hello world!\"  #class :str, object :s\n",
    "print(type(s))\n",
    "dir(s)\n",
    "#\"aaaa\" + \"bbbbb\"\n",
    "\n",
    "alist = s.split()  #default : 공백으로 분리 \n",
    "for aa in alist:\n",
    "    print(aa)"
   ]
  },
  {
   "cell_type": "code",
   "execution_count": 102,
   "metadata": {},
   "outputs": [
    {
     "name": "stdout",
     "output_type": "stream",
     "text": [
      "*hello world!          *\n",
      "       hello world!\n",
      "*hello world!*\n"
     ]
    }
   ],
   "source": [
    "s = \"       hello world!          \"\n",
    "print(\"*\" +s.lstrip()+ \"*\")\n",
    "print(s.rstrip())\n",
    "print(\"*\" + s.strip() + \"*\")\n"
   ]
  },
  {
   "cell_type": "code",
   "execution_count": 103,
   "metadata": {},
   "outputs": [
    {
     "name": "stdout",
     "output_type": "stream",
     "text": [
      "*HELLO WORLD!          *\n"
     ]
    }
   ],
   "source": [
    "#체이닝 \n",
    "s = \"       hello world!          \"\n",
    "print(\"*\" +s.lstrip().upper()+ \"*\")"
   ]
  },
  {
   "cell_type": "code",
   "execution_count": 105,
   "metadata": {},
   "outputs": [
    {
     "data": {
      "text/plain": [
       "'0000000123'"
      ]
     },
     "execution_count": 105,
     "metadata": {},
     "output_type": "execute_result"
    }
   ],
   "source": [
    "a=\"123\"\n",
    "\n",
    "a.zfill(10)"
   ]
  },
  {
   "cell_type": "code",
   "execution_count": 116,
   "metadata": {},
   "outputs": [
    {
     "data": {
      "text/plain": [
       "-1"
      ]
     },
     "execution_count": 116,
     "metadata": {},
     "output_type": "execute_result"
    }
   ],
   "source": [
    "s = \"       whello world!          \"\n",
    "s.strip().find(\"w\")\n",
    "s.strip().rfind(\"w\")\n",
    "s.strip().index(\"w\")\n",
    "s.strip().rindex(\"w\")\n",
    "\n",
    "s.strip().find(\"z\") #없으면 -1\n",
    "#s.strip().index(\"z\")#없으면 error"
   ]
  },
  {
   "cell_type": "code",
   "execution_count": 127,
   "metadata": {},
   "outputs": [
    {
     "name": "stdin",
     "output_type": "stream",
     "text": [
      "점수>> 22\n"
     ]
    },
    {
     "name": "stdout",
     "output_type": "stream",
     "text": [
      "당신의 점수는22입니다.\n",
      "당신의 점수는22입니다.\n",
      "홍길동       의 점수는    22, 90.50 입니다.\n",
      "홍길동의 점수는 90.5, 22 90.5 입니다.\n"
     ]
    }
   ],
   "source": [
    "score=int(input(\"점수>>\"))\n",
    "print(\"당신의 점수는\", score ,\"입니다.\", sep=\"\")\n",
    "print(\"당신의 점수는\" + str(score) + \"입니다.\", sep=\"\")\n",
    "\n",
    "name = \"홍길동\"\n",
    "score2 = 90.5\n",
    "#-는 왼쪽정렬, 숫자:자리수 s:문자 d:정수 f:실수 \n",
    "print(\"%-10s의 점수는 %5d, %.2f 입니다.\"%(name, score, score2), sep=\"\")\n",
    "\n",
    "print(\"{0}의 점수는 {2}, {1} {2} 입니다.\".format(name, score, score2), sep=\"\")\n"
   ]
  },
  {
   "cell_type": "code",
   "execution_count": 133,
   "metadata": {},
   "outputs": [
    {
     "name": "stdout",
     "output_type": "stream",
     "text": [
      "R점수는 100이고 Python점수는 200입니다.\n",
      "R점수는 100이고 Python점수는 200입니다.\n",
      "Py점수는 200이고          R점수는 100입니다.\n",
      "Py점수는 200이고 R         점수는 100입니다.\n"
     ]
    }
   ],
   "source": [
    "print(\"{}점수는 {}이고 {}점수는 {}입니다.\".format(\"R\",100,\"Python\",\"200\"))\n",
    "\n",
    "print(\"{0}점수는 {1}이고 {2}점수는 {3}입니다.\".format(\"R\",100,\"Python\",\"200\"))\n",
    "\n",
    "print(\"{c}점수는 {d}이고 {a:>10}점수는 {b}입니다.\".\n",
    "                              format(a=\"R\",b=100,c=\"Py\",d=200))\n",
    "print(\"{c}점수는 {d}이고 {a:<10}점수는 {b}입니다.\".\n",
    "                              format(a=\"R\",b=100,c=\"Py\",d=200))\n"
   ]
  },
  {
   "cell_type": "code",
   "execution_count": 137,
   "metadata": {},
   "outputs": [
    {
     "data": {
      "text/plain": [
       "{'name': '김길동', 'age': 30, 'major': '경영학과', 'major2': '통계학과'}"
      ]
     },
     "execution_count": 137,
     "metadata": {},
     "output_type": "execute_result"
    }
   ],
   "source": [
    "person = {\"name\":\"홍길동\", \"age\":20}\n",
    "\n",
    "person[\"major\"] = \"경영학과\"  #추가\n",
    "person.update(major2=\"통계학과\")#추가\n",
    "person[\"age\"] = 30 #수정\n",
    "person.update(name = \"김길동\") #수정\n",
    "person"
   ]
  },
  {
   "cell_type": "code",
   "execution_count": 139,
   "metadata": {},
   "outputs": [
    {
     "data": {
      "text/plain": [
       "30"
      ]
     },
     "execution_count": 139,
     "metadata": {},
     "output_type": "execute_result"
    }
   ],
   "source": [
    "person.pop(\"age\") #제거 "
   ]
  },
  {
   "cell_type": "code",
   "execution_count": 142,
   "metadata": {},
   "outputs": [
    {
     "data": {
      "text/plain": [
       "{'name': '김길동', 'major': '경영학과', 'major2': '통계학과'}"
      ]
     },
     "execution_count": 142,
     "metadata": {},
     "output_type": "execute_result"
    }
   ],
   "source": [
    "person"
   ]
  },
  {
   "cell_type": "code",
   "execution_count": 143,
   "metadata": {},
   "outputs": [
    {
     "data": {
      "text/plain": [
       "'김길동'"
      ]
     },
     "execution_count": 143,
     "metadata": {},
     "output_type": "execute_result"
    }
   ],
   "source": [
    "person.get(\"name\") #키를 가지고 얻기 \n",
    "person[\"name\"]"
   ]
  },
  {
   "cell_type": "code",
   "execution_count": 146,
   "metadata": {},
   "outputs": [
    {
     "data": {
      "text/plain": [
       "dict_items([('name', '김길동'), ('major', '경영학과'), ('major2', '통계학과')])"
      ]
     },
     "execution_count": 146,
     "metadata": {},
     "output_type": "execute_result"
    }
   ],
   "source": [
    "#dir(person)\n",
    "person.items()"
   ]
  },
  {
   "cell_type": "code",
   "execution_count": 148,
   "metadata": {},
   "outputs": [
    {
     "name": "stdout",
     "output_type": "stream",
     "text": [
      "<class 'tuple'> ('name', '김길동') name 김길동\n",
      "<class 'tuple'> ('major', '경영학과') major 경영학과\n",
      "<class 'tuple'> ('major2', '통계학과') major2 통계학과\n"
     ]
    }
   ],
   "source": [
    "for item in person.items():\n",
    "    print(type(item), item, item[0], item[1])"
   ]
  },
  {
   "cell_type": "code",
   "execution_count": 150,
   "metadata": {},
   "outputs": [
    {
     "data": {
      "text/plain": [
       "dict_values(['김길동', '경영학과', '통계학과'])"
      ]
     },
     "execution_count": 150,
     "metadata": {},
     "output_type": "execute_result"
    }
   ],
   "source": [
    "person.keys()\n",
    "person.values()"
   ]
  },
  {
   "cell_type": "code",
   "execution_count": 152,
   "metadata": {},
   "outputs": [
    {
     "data": {
      "text/plain": [
       "{'kor': 100, 'eng': 100, 'math': 100}"
      ]
     },
     "execution_count": 152,
     "metadata": {},
     "output_type": "execute_result"
    }
   ],
   "source": [
    "keys = [\"kor\", \"eng\", \"math\" ]\n",
    "\n",
    "dict.fromkeys(keys)\n",
    "dict.fromkeys(keys,100)"
   ]
  },
  {
   "cell_type": "code",
   "execution_count": 164,
   "metadata": {},
   "outputs": [
    {
     "data": {
      "text/plain": [
       "['name김길동', 'major경영학과', 'major2통계학과']"
      ]
     },
     "execution_count": 164,
     "metadata": {},
     "output_type": "execute_result"
    }
   ],
   "source": [
    "{ val:key    for key, val in person.items()}\n",
    "    \n",
    "[ key+val   for key, val in person.items()]    "
   ]
  },
  {
   "cell_type": "code",
   "execution_count": 169,
   "metadata": {},
   "outputs": [
    {
     "data": {
      "text/plain": [
       "{'kor': 100, 'math': 80}"
      ]
     },
     "execution_count": 169,
     "metadata": {},
     "output_type": "execute_result"
    }
   ],
   "source": [
    "exam = {\"kor\":100, \"eng\":50, \"math\":80}\n",
    "\n",
    "{ key:val    for key,val in exam.items() if val > 50}"
   ]
  },
  {
   "cell_type": "code",
   "execution_count": 178,
   "metadata": {},
   "outputs": [
    {
     "data": {
      "text/plain": [
       "{'kor': 100, 'eng': 55, 'math': 80}"
      ]
     },
     "execution_count": 178,
     "metadata": {},
     "output_type": "execute_result"
    }
   ],
   "source": [
    "{ subject:score  if score>50 else score+5 for subject, score in exam.items() }"
   ]
  },
  {
   "cell_type": "code",
   "execution_count": 184,
   "metadata": {},
   "outputs": [
    {
     "data": {
      "text/plain": [
       "'경영'"
      ]
     },
     "execution_count": 184,
     "metadata": {},
     "output_type": "execute_result"
    }
   ],
   "source": [
    "person = {\"name\":\"홍길동\", \n",
    "                  \"전공\": {\"1\":\"통계\", \"2\":\"경영\"}\n",
    "         }\n",
    "person[\"전공\"][\"2\"]"
   ]
  },
  {
   "cell_type": "code",
   "execution_count": 182,
   "metadata": {},
   "outputs": [
    {
     "data": {
      "text/plain": [
       "'13500000'"
      ]
     },
     "execution_count": 182,
     "metadata": {},
     "output_type": "execute_result"
    }
   ],
   "source": [
    "btc = {\"status\":\"0000\",\"data\":{\"opening_price\":\"13501000\",\"closing_price\":\"13500000\",\"min_price\":\"13300000\",\"max_price\":\"13746000\",\"units_traded\":\"2663.03936443\",\"acc_trade_value\":\"36071102484.9227\",\"prev_closing_price\":\"13734000\",\"units_traded_24H\":\"5614.15900622\",\"acc_trade_value_24H\":\"76963770915.774\",\"fluctate_24H\":\"-505000\",\"fluctate_rate_24H\":\"-3.61\",\"date\":\"1597197670058\"}}\n",
    "\n",
    "type(btc)\n",
    "btc[\"data\"]['closing_price']"
   ]
  },
  {
   "cell_type": "code",
   "execution_count": 187,
   "metadata": {},
   "outputs": [
    {
     "name": "stdout",
     "output_type": "stream",
     "text": [
      "opening_price --> 13501000\n",
      "closing_price --> 13500000\n",
      "min_price --> 13300000\n",
      "max_price --> 13746000\n",
      "units_traded --> 2663.03936443\n",
      "acc_trade_value --> 36071102484.9227\n",
      "prev_closing_price --> 13734000\n",
      "units_traded_24H --> 5614.15900622\n",
      "acc_trade_value_24H --> 76963770915.774\n",
      "fluctate_24H --> -505000\n",
      "fluctate_rate_24H --> -3.61\n",
      "date --> 1597197670058\n"
     ]
    }
   ],
   "source": [
    "for key, val in btc[\"data\"].items():\n",
    "    print(key ,\"-->\", val)"
   ]
  },
  {
   "cell_type": "code",
   "execution_count": 188,
   "metadata": {},
   "outputs": [
    {
     "name": "stdout",
     "output_type": "stream",
     "text": [
      "<class 'dict'>\n"
     ]
    }
   ],
   "source": [
    "#set : 중복불가, 순서가 없다. \n",
    "\n",
    "a = {}\n",
    "print(type(a))"
   ]
  },
  {
   "cell_type": "code",
   "execution_count": 189,
   "metadata": {},
   "outputs": [
    {
     "name": "stdout",
     "output_type": "stream",
     "text": [
      "<class 'set'>\n"
     ]
    }
   ],
   "source": [
    "a = set()\n",
    "print(type(a))"
   ]
  },
  {
   "cell_type": "code",
   "execution_count": 193,
   "metadata": {},
   "outputs": [
    {
     "data": {
      "text/plain": [
       "{'김밥', '떡볶기', '오뎅'}"
      ]
     },
     "execution_count": 193,
     "metadata": {},
     "output_type": "execute_result"
    }
   ],
   "source": [
    "a = {\"김밥\", \"김밥\", \"오뎅\", \"떡볶기\"}\n",
    "#a[1] 순서가없다.\n",
    "a #중복없다. "
   ]
  },
  {
   "cell_type": "code",
   "execution_count": 194,
   "metadata": {},
   "outputs": [
    {
     "data": {
      "text/plain": [
       "{'e', 'h', 'l', 'o'}"
      ]
     },
     "execution_count": 194,
     "metadata": {},
     "output_type": "execute_result"
    }
   ],
   "source": [
    "s = \"hello\"\n",
    "set(s)  #unique"
   ]
  },
  {
   "cell_type": "code",
   "execution_count": 200,
   "metadata": {},
   "outputs": [
    {
     "data": {
      "text/plain": [
       "{1, 2}"
      ]
     },
     "execution_count": 200,
     "metadata": {},
     "output_type": "execute_result"
    }
   ],
   "source": [
    "a = {1,2,3,4}\n",
    "b = {3,4,5,6}\n",
    "\n",
    "a|b\n",
    "a.union(b)\n",
    "\n",
    "a&b\n",
    "a.intersection(b)\n",
    "\n",
    "a-b\n",
    "a.difference(b)"
   ]
  },
  {
   "cell_type": "code",
   "execution_count": null,
   "metadata": {},
   "outputs": [],
   "source": []
  },
  {
   "cell_type": "code",
   "execution_count": 201,
   "metadata": {},
   "outputs": [
    {
     "data": {
      "text/plain": [
       "{'H', 'e', 'l', 'o'}"
      ]
     },
     "execution_count": 201,
     "metadata": {},
     "output_type": "execute_result"
    }
   ],
   "source": [
    "set(\"Hello\")"
   ]
  },
  {
   "cell_type": "code",
   "execution_count": null,
   "metadata": {},
   "outputs": [],
   "source": []
  },
  {
   "cell_type": "code",
   "execution_count": null,
   "metadata": {},
   "outputs": [],
   "source": []
  },
  {
   "cell_type": "code",
   "execution_count": 203,
   "metadata": {},
   "outputs": [
    {
     "data": {
      "text/plain": [
       "{'H', 'e', 'l', 'o'}"
      ]
     },
     "execution_count": 203,
     "metadata": {},
     "output_type": "execute_result"
    }
   ],
   "source": [
    "{a  for a in \"Hello\"}"
   ]
  },
  {
   "cell_type": "code",
   "execution_count": 204,
   "metadata": {},
   "outputs": [
    {
     "name": "stdout",
     "output_type": "stream",
     "text": [
      "{'H', 'e', 'o', 'l'}\n"
     ]
    }
   ],
   "source": [
    "s = set()\n",
    "for a in \"Hello\":\n",
    "    s.add(a)\n",
    "    \n",
    "print(s)    "
   ]
  },
  {
   "cell_type": "markdown",
   "metadata": {},
   "source": [
    "# File"
   ]
  },
  {
   "cell_type": "code",
   "execution_count": 227,
   "metadata": {},
   "outputs": [],
   "source": [
    "f = open(\"data/sample.txt\", \"w\", encoding=\"utf-8\")\n",
    "f.write(\"Hello~\\n\")\n",
    "f.write(\"안녕~\\n\")\n",
    "f.close()"
   ]
  },
  {
   "cell_type": "code",
   "execution_count": 228,
   "metadata": {},
   "outputs": [
    {
     "name": "stdout",
     "output_type": "stream",
     "text": [
      "Hello~\n",
      "안녕~\n",
      "\n"
     ]
    }
   ],
   "source": [
    "f = open(\"data/sample.txt\", \"r\", encoding=\"utf-8\")\n",
    "s = f.read()\n",
    "print(s)\n",
    "f.close()"
   ]
  },
  {
   "cell_type": "code",
   "execution_count": 232,
   "metadata": {},
   "outputs": [],
   "source": [
    "with open(\"data/sample2.txt\", \"w\", encoding=\"utf-8\") as f:\n",
    "    f.write(\"Hello~\\n\")\n",
    "    f.write(\"안녕~\\n\")\n",
    "    f.write(str(10))\n",
    "    f.write(str([1,2,3,4,5]))\n",
    "#with끝나면 자동close "
   ]
  },
  {
   "cell_type": "code",
   "execution_count": 233,
   "metadata": {},
   "outputs": [
    {
     "name": "stdout",
     "output_type": "stream",
     "text": [
      "Hello~\n",
      "안녕~\n",
      "10[1, 2, 3, 4, 5]\n"
     ]
    }
   ],
   "source": [
    "with open(\"data/sample2.txt\", \"r\", encoding=\"utf-8\") as f:\n",
    "    s = f.read()\n",
    "    print(s)"
   ]
  },
  {
   "cell_type": "code",
   "execution_count": 236,
   "metadata": {},
   "outputs": [],
   "source": [
    "import pickle\n",
    "a=10    #int\n",
    "b=\"Hello\"  #str\n",
    "c=[10,20,30]  #list\n",
    "d={\"name\":\"홍길동\", \"age\":20}  #dict\n",
    "\n",
    "#피클링\n",
    "with open(\"data/sample3.pickle\", \"wb\") as f:\n",
    "    pickle.dump(a, f)\n",
    "    pickle.dump(b, f)\n",
    "    pickle.dump(c, f)\n",
    "    pickle.dump(d, f)\n",
    "    "
   ]
  },
  {
   "cell_type": "code",
   "execution_count": 237,
   "metadata": {},
   "outputs": [
    {
     "name": "stdout",
     "output_type": "stream",
     "text": [
      "10 110\n",
      "Hello HELLO\n",
      "[10, 20, 30] 10\n",
      "{'name': '홍길동', 'age': 20} 홍길동\n"
     ]
    }
   ],
   "source": [
    "#언피클링 \n",
    "with open(\"data/sample3.pickle\", \"rb\") as f:\n",
    "    ival = pickle.load(f)\n",
    "    sval = pickle.load(f)\n",
    "    lval = pickle.load(f)\n",
    "    dval = pickle.load(f)\n",
    "    \n",
    "print(ival, ival+100)    \n",
    "print(sval, sval.upper())    \n",
    "print(lval, lval[0])    \n",
    "print(dval, dval[\"name\"])    "
   ]
  },
  {
   "cell_type": "code",
   "execution_count": 257,
   "metadata": {},
   "outputs": [
    {
     "name": "stdout",
     "output_type": "stream",
     "text": [
      "김 김\n",
      "재 재\n",
      "회문\n"
     ]
    }
   ],
   "source": [
    "s = \"김재경재김\"\n",
    "flag = True\n",
    "for i in range(len(s)//2):\n",
    "    print(s[i], s[-1-i])\n",
    "    if(s[i] != s[-1-i]):\n",
    "        flag = False\n",
    "        \n",
    "if flag:\n",
    "    print(\"회문\")\n",
    "else:    \n",
    "    print(\"회문아니다\")"
   ]
  },
  {
   "cell_type": "code",
   "execution_count": 271,
   "metadata": {},
   "outputs": [
    {
     "data": {
      "text/plain": [
       "True"
      ]
     },
     "execution_count": 271,
     "metadata": {},
     "output_type": "execute_result"
    }
   ],
   "source": [
    "s = \"level\"\n",
    "\n",
    "list(reversed(s)) == list(s)\n",
    "\n",
    "\"\".join(reversed(s)) == s"
   ]
  },
  {
   "cell_type": "markdown",
   "metadata": {},
   "source": [
    "# 함수 (function)"
   ]
  },
  {
   "cell_type": "code",
   "execution_count": null,
   "metadata": {},
   "outputs": [],
   "source": [
    "#문장들의 묶음 \n",
    "#반복사용을 위해 , 모듈화하기 위해 "
   ]
  },
  {
   "cell_type": "code",
   "execution_count": 274,
   "metadata": {},
   "outputs": [],
   "source": [
    "#데이타수집\n",
    "f()\n",
    "#데이터정제\n",
    "f2()"
   ]
  },
  {
   "cell_type": "code",
   "execution_count": 281,
   "metadata": {},
   "outputs": [
    {
     "name": "stdout",
     "output_type": "stream",
     "text": [
      "함수호출전\n",
      "add함수입니다.\n",
      "add함수 종료합니다.\n",
      "함수호출후\n"
     ]
    }
   ],
   "source": [
    "#함수호출 \n",
    "print(\"함수호출전\")#1\n",
    "add()#2...#4\n",
    "print(\"함수호출후\") #5"
   ]
  },
  {
   "cell_type": "code",
   "execution_count": 280,
   "metadata": {},
   "outputs": [],
   "source": [
    "#함수정의\n",
    "\n",
    "#3\n",
    "def add():\n",
    "    print(\"add함수입니다.\")\n",
    "    #\n",
    "    #\n",
    "    print(\"add함수 종료합니다.\")\n",
    "    \n"
   ]
  },
  {
   "cell_type": "code",
   "execution_count": 288,
   "metadata": {},
   "outputs": [
    {
     "name": "stdout",
     "output_type": "stream",
     "text": [
      "add function\n",
      "30\n",
      "add function\n",
      "300\n"
     ]
    }
   ],
   "source": [
    "#함수정의....a,b는 형식매개변수(parameter, argument)\n",
    "def add(a, b):\n",
    "    print(\"add function\")\n",
    "    c = a+b\n",
    "    print(c)\n",
    "    \n",
    "#함수호출\n",
    "add(10,20)  #10,20  실매개변수 \n",
    "add(100,200)"
   ]
  },
  {
   "cell_type": "code",
   "execution_count": 289,
   "metadata": {},
   "outputs": [
    {
     "name": "stdout",
     "output_type": "stream",
     "text": [
      "add function\n",
      "add function\n",
      "330\n"
     ]
    }
   ],
   "source": [
    "#함수정의....a,b는 형식매개변수(parameter, argument)\n",
    "def add(a, b):\n",
    "    print(\"add function\")\n",
    "    c = a+b\n",
    "    return c #호출한 곳으로 돌아갈때 값을 가지고간다. \n",
    "    \n",
    "#함수호출\n",
    "result1 = add(10,20)  #10,20  실매개변수 \n",
    "result2 = add(100,200)\n",
    "\n",
    "print(result1+result2)"
   ]
  },
  {
   "cell_type": "code",
   "execution_count": 291,
   "metadata": {},
   "outputs": [],
   "source": [
    "def calcular(x, y):\n",
    "    print(\"사칙연산을 수행하는 함수이다.\")\n",
    "    return x+y, x-y, x*y, x//y, x%y  #반환 여러개 ...tuple"
   ]
  },
  {
   "cell_type": "code",
   "execution_count": 295,
   "metadata": {},
   "outputs": [
    {
     "name": "stdout",
     "output_type": "stream",
     "text": [
      "사칙연산을 수행하는 함수이다.\n",
      "<class 'tuple'> (30, -10, 200, 0, 10)\n",
      "사칙연산을 수행하는 함수이다.\n",
      "30 -10 200 0 10\n"
     ]
    }
   ],
   "source": [
    "result = calcular(10,20)\n",
    "print(type(result), result)\n",
    "\n",
    "v1,v2,v3,v4,v5 =  calcular(10,20)\n",
    "print(v1,v2,v3,v4,v5)"
   ]
  },
  {
   "cell_type": "code",
   "execution_count": 300,
   "metadata": {},
   "outputs": [],
   "source": [
    "def print_number(a,b,c):\n",
    "    print(a)\n",
    "    print(b)\n",
    "    print(c)\n",
    "    print(\"-\"*20)"
   ]
  },
  {
   "cell_type": "code",
   "execution_count": 303,
   "metadata": {},
   "outputs": [
    {
     "name": "stdout",
     "output_type": "stream",
     "text": [
      "[1, 2, 3]\n",
      "88\n",
      "99\n",
      "--------------------\n",
      "1\n",
      "2\n",
      "3\n",
      "--------------------\n"
     ]
    }
   ],
   "source": [
    "x = [1,2,3]\n",
    "\n",
    "print_number(x, 88, 99)\n",
    "print_number(*x) #unpacking \n"
   ]
  },
  {
   "cell_type": "code",
   "execution_count": 315,
   "metadata": {},
   "outputs": [],
   "source": [
    "def print_number(*args): #가변인자 \n",
    "    print(args)\n",
    "    print(\"-\"*20)\n",
    "    for i in args:\n",
    "        print(i)"
   ]
  },
  {
   "cell_type": "code",
   "execution_count": 318,
   "metadata": {},
   "outputs": [
    {
     "name": "stdout",
     "output_type": "stream",
     "text": [
      "(10, 20, 30, 40, 50)\n",
      "--------------------\n",
      "10\n",
      "20\n",
      "30\n",
      "40\n",
      "50\n"
     ]
    }
   ],
   "source": [
    "data = [10,20,30,40,50]\n",
    "#print_number(data)\n",
    "print_number(*data)  #unpacking.... 갯수만큼으로 풀기 "
   ]
  },
  {
   "cell_type": "code",
   "execution_count": 319,
   "metadata": {},
   "outputs": [],
   "source": [
    "#함수정의\n",
    "\n",
    "def print_str(a):\n",
    "    print(a)"
   ]
  },
  {
   "cell_type": "code",
   "execution_count": 324,
   "metadata": {},
   "outputs": [
    {
     "name": "stdout",
     "output_type": "stream",
     "text": [
      "10\n",
      "10\n",
      "False\n",
      "[1, 2, 3, 4, 5]\n",
      "{1, 2, 3, 4, 5}\n"
     ]
    }
   ],
   "source": [
    "#함수호출 \n",
    "\n",
    "print_str(10)\n",
    "print_str(\"10\")\n",
    "print_str(10>20)\n",
    "print_str([1,2,3,4,5])\n",
    "print_str({1,2,3,4,5})"
   ]
  },
  {
   "cell_type": "code",
   "execution_count": 338,
   "metadata": {},
   "outputs": [],
   "source": [
    "def print_str(*args):  #가변인자 : 인자가 가변이다. \n",
    "    print(len(args), sum(args))\n",
    "    for i in args:\n",
    "        print(i)\n",
    "    print(\"-\"*20)    "
   ]
  },
  {
   "cell_type": "code",
   "execution_count": 339,
   "metadata": {},
   "outputs": [
    {
     "name": "stdout",
     "output_type": "stream",
     "text": [
      "3 60\n",
      "10\n",
      "20\n",
      "30\n",
      "--------------------\n",
      "5 150\n",
      "10\n",
      "20\n",
      "30\n",
      "40\n",
      "50\n",
      "--------------------\n"
     ]
    }
   ],
   "source": [
    "print_str(*[10,20,30])  #unpacking ...풀다 \n",
    "print_str(*[10,20,30,40,50])  #unpacking ...풀다 "
   ]
  },
  {
   "cell_type": "code",
   "execution_count": 356,
   "metadata": {},
   "outputs": [],
   "source": [
    "def print_person(**args):  #dictionary의 속성과 값이 가변 \n",
    "    print(args)\n",
    "    for key, val in args.items():\n",
    "        print(key, \"-->\", val)"
   ]
  },
  {
   "cell_type": "code",
   "execution_count": 357,
   "metadata": {},
   "outputs": [
    {
     "name": "stdout",
     "output_type": "stream",
     "text": [
      "{'name': '홍길동', 'age': 20, 'major': '통계학과'}\n",
      "name --> 홍길동\n",
      "age --> 20\n",
      "major --> 통계학과\n"
     ]
    }
   ],
   "source": [
    "person = {\"name\":\"홍길동\", \"age\":20, \"major\":\"통계학과\"}\n",
    "\n",
    "print_person(**person)  #dictionary(key,value)를 unpacking "
   ]
  },
  {
   "cell_type": "code",
   "execution_count": null,
   "metadata": {},
   "outputs": [],
   "source": []
  },
  {
   "cell_type": "code",
   "execution_count": null,
   "metadata": {},
   "outputs": [],
   "source": [
    "1. 성적이 90점이상이면 A, 80점 이상이면 B, 70점 이상이면 C, \n",
    "60점 이상이면 D, \n",
    "그외에는 F를 반환하는 함수 getGrade(score)를 작성하고 테스트하라. "
   ]
  },
  {
   "cell_type": "code",
   "execution_count": 358,
   "metadata": {},
   "outputs": [],
   "source": [
    "def getGrade(score):\n",
    "    grade = \"F\"\n",
    "    if score>=90:\n",
    "        grade=\"A\"\n",
    "    elif score>=80:\n",
    "        grade=\"B\"\n",
    "    elif score>=70:\n",
    "        grade=\"C\"    \n",
    "    elif score>=60:\n",
    "        grade=\"D\"\n",
    "        \n",
    "    return grade    "
   ]
  },
  {
   "cell_type": "code",
   "execution_count": 361,
   "metadata": {},
   "outputs": [
    {
     "name": "stdin",
     "output_type": "stream",
     "text": [
      "점수를 입력하세요:  83\n"
     ]
    },
    {
     "name": "stdout",
     "output_type": "stream",
     "text": [
      "성적은 B 입니다\n"
     ]
    }
   ],
   "source": [
    "jumsu = int(input(\"점수를 입력하세요: \"))\n",
    "print(\"성적은 {} 입니다\".format(getGrade(jumsu)))"
   ]
  },
  {
   "cell_type": "code",
   "execution_count": null,
   "metadata": {},
   "outputs": [],
   "source": []
  },
  {
   "cell_type": "code",
   "execution_count": 366,
   "metadata": {},
   "outputs": [
    {
     "name": "stdout",
     "output_type": "stream",
     "text": [
      "1\n"
     ]
    }
   ],
   "source": [
    "def decrement(value):\n",
    "    value -= 1\n",
    "\n",
    "n = 1\n",
    "decrement(n)\n",
    "print(n)\n"
   ]
  },
  {
   "cell_type": "code",
   "execution_count": 367,
   "metadata": {},
   "outputs": [],
   "source": [
    "def gcd(a,b):\n",
    "    minVal = min(a,b)\n",
    "    for i in range(minVal, 0, -1):\n",
    "        if a%i==0 and b%i==0:\n",
    "            break        \n",
    "    return i        "
   ]
  },
  {
   "cell_type": "code",
   "execution_count": 371,
   "metadata": {},
   "outputs": [
    {
     "name": "stdin",
     "output_type": "stream",
     "text": [
      "첫 번째 정수: 36\n",
      "두 번째 정수: 12\n"
     ]
    },
    {
     "data": {
      "text/plain": [
       "12"
      ]
     },
     "execution_count": 371,
     "metadata": {},
     "output_type": "execute_result"
    }
   ],
   "source": [
    "x = int(input(\"첫 번째 정수:\"))\n",
    "y = int(input(\"두 번째 정수:\"))\n",
    "gcd(x, y)"
   ]
  },
  {
   "cell_type": "code",
   "execution_count": 374,
   "metadata": {},
   "outputs": [],
   "source": [
    "def getSorted(x, y):\n",
    "    if x>y:\n",
    "        return y, x\n",
    "    else:\n",
    "        return x, y\n"
   ]
  },
  {
   "cell_type": "code",
   "execution_count": 377,
   "metadata": {},
   "outputs": [
    {
     "name": "stdin",
     "output_type": "stream",
     "text": [
      "첫 번째 정수:  30\n",
      "두 번째 정수:  20\n"
     ]
    },
    {
     "data": {
      "text/plain": [
       "(20, 30)"
      ]
     },
     "execution_count": 377,
     "metadata": {},
     "output_type": "execute_result"
    }
   ],
   "source": [
    "a = int(input(\"첫 번째 정수: \"))\n",
    "b = int(input(\"두 번째 정수: \"))\n",
    "getSorted(a,b)\n"
   ]
  },
  {
   "cell_type": "code",
   "execution_count": null,
   "metadata": {},
   "outputs": [],
   "source": []
  },
  {
   "cell_type": "code",
   "execution_count": 378,
   "metadata": {},
   "outputs": [],
   "source": [
    "def f_palindrome(param):\n",
    "    result = \"회문이다.\"\n",
    "    for i in range(len(param)//2):\n",
    "        if param[i] != param[-1-i]:\n",
    "            result = \"회문이 아니다.\"\n",
    "            break\n",
    "            \n",
    "    return result        "
   ]
  },
  {
   "cell_type": "code",
   "execution_count": 380,
   "metadata": {},
   "outputs": [
    {
     "name": "stdin",
     "output_type": "stream",
     "text": [
      "문자열을 입력하시오:  love\n"
     ]
    },
    {
     "data": {
      "text/plain": [
       "'회문이 아니다.'"
      ]
     },
     "execution_count": 380,
     "metadata": {},
     "output_type": "execute_result"
    }
   ],
   "source": [
    "s = input(\"문자열을 입력하시오: \")\n",
    "f_palindrome(s)"
   ]
  },
  {
   "cell_type": "code",
   "execution_count": 389,
   "metadata": {},
   "outputs": [],
   "source": [
    "def person_info(name, age=20):\n",
    "    print(name, end=\" \")\n",
    "    print(age)\n",
    "    print(\"-\"*20)"
   ]
  },
  {
   "cell_type": "code",
   "execution_count": 390,
   "metadata": {},
   "outputs": [
    {
     "name": "stdout",
     "output_type": "stream",
     "text": [
      "홍길동 12\n",
      "--------------------\n",
      "홍길동 20\n",
      "--------------------\n"
     ]
    }
   ],
   "source": [
    "person_info(\"홍길동\", 12)\n",
    "person_info(\"홍길동\")"
   ]
  },
  {
   "cell_type": "code",
   "execution_count": null,
   "metadata": {},
   "outputs": [],
   "source": [
    "5! = 5*4*3*2*1\n",
    "5! = 5*4!\n",
    "       4*3! "
   ]
  },
  {
   "cell_type": "code",
   "execution_count": 391,
   "metadata": {},
   "outputs": [],
   "source": [
    "#재귀함수 ...자기자신이 자신을 부른다. 큰문제를 작은문제로 만들면서 해결 \n",
    "def fact(n):\n",
    "    if n == 1:\n",
    "        return 1\n",
    "    return n*fact(n-1)"
   ]
  },
  {
   "cell_type": "code",
   "execution_count": 392,
   "metadata": {},
   "outputs": [
    {
     "data": {
      "text/plain": [
       "120"
      ]
     },
     "execution_count": 392,
     "metadata": {},
     "output_type": "execute_result"
    }
   ],
   "source": [
    "fact(5)"
   ]
  },
  {
   "cell_type": "code",
   "execution_count": null,
   "metadata": {},
   "outputs": [],
   "source": []
  },
  {
   "cell_type": "code",
   "execution_count": 393,
   "metadata": {},
   "outputs": [],
   "source": [
    "def add100(x):\n",
    "    return x+100"
   ]
  },
  {
   "cell_type": "code",
   "execution_count": 394,
   "metadata": {},
   "outputs": [
    {
     "data": {
      "text/plain": [
       "102"
      ]
     },
     "execution_count": 394,
     "metadata": {},
     "output_type": "execute_result"
    }
   ],
   "source": [
    "add100(2)"
   ]
  },
  {
   "cell_type": "code",
   "execution_count": 395,
   "metadata": {},
   "outputs": [
    {
     "data": {
      "text/plain": [
       "102"
      ]
     },
     "execution_count": 395,
     "metadata": {},
     "output_type": "execute_result"
    }
   ],
   "source": [
    "f = lambda x : x+100\n",
    "f(2)"
   ]
  },
  {
   "cell_type": "code",
   "execution_count": 397,
   "metadata": {},
   "outputs": [
    {
     "data": {
      "text/plain": [
       "103"
      ]
     },
     "execution_count": 397,
     "metadata": {},
     "output_type": "execute_result"
    }
   ],
   "source": [
    "(lambda x : x+100)(3)"
   ]
  },
  {
   "cell_type": "code",
   "execution_count": 401,
   "metadata": {},
   "outputs": [
    {
     "data": {
      "text/plain": [
       "[101, 102, 103, 104, 105]"
      ]
     },
     "execution_count": 401,
     "metadata": {},
     "output_type": "execute_result"
    }
   ],
   "source": [
    "alist = [1,2,3,4,5]\n",
    "\n",
    "list(map(add100, alist))  #def\n",
    "list(map(f, alist))       #lambda정의를 변수에 저장 \n",
    "list(map(lambda x:x+100, alist)) # lambda표현식 직접 작성 "
   ]
  },
  {
   "cell_type": "code",
   "execution_count": 407,
   "metadata": {},
   "outputs": [
    {
     "data": {
      "text/plain": [
       "['0', 1.0, 2.0, '3', 4.0, 5.0, '6', 7.0, 8.0, '9', 10.0]"
      ]
     },
     "execution_count": 407,
     "metadata": {},
     "output_type": "execute_result"
    }
   ],
   "source": [
    "alist = list(range(11))\n",
    "\n",
    "#값 각각이 함수에 적용되어 변형된다. \n",
    "#map(함수, 값 )\n",
    "#map(람다표현식, 값 )\n",
    "\n",
    "a = map(lambda x: str(x) if x%3==0 else float(x), alist)\n",
    "\n",
    "list(a)\n"
   ]
  },
  {
   "cell_type": "code",
   "execution_count": 410,
   "metadata": {},
   "outputs": [
    {
     "data": {
      "text/plain": [
       "(0.0, 1.0, 2.0, 3.0, 4.0, 5.0, 6.0, 7.0, 8.0, 9.0, 10.0)"
      ]
     },
     "execution_count": 410,
     "metadata": {},
     "output_type": "execute_result"
    }
   ],
   "source": [
    "tuple(map(str, alist))\n",
    "tuple(map(float, alist))"
   ]
  },
  {
   "cell_type": "code",
   "execution_count": 420,
   "metadata": {},
   "outputs": [
    {
     "data": {
      "text/plain": [
       "['He', 'co', 'no']"
      ]
     },
     "execution_count": 420,
     "metadata": {},
     "output_type": "execute_result"
    }
   ],
   "source": [
    "#입력data\n",
    "alist = [\"Hello\", \"coffee\", \"notebook\"]\n",
    "\n",
    "#결과 \n",
    "#blist = [\"He\", \"co\", \"no\"]\n",
    "\n",
    "#방법1\n",
    "list(map(lambda x:x[:2], alist))\n",
    "#방법2\n",
    "f = lambda x:x[:2]\n",
    "list(map(f, alist))\n",
    "#방법3\n",
    "def f(x):\n",
    "    return x[:2]\n",
    "list(map(f, alist))"
   ]
  },
  {
   "cell_type": "code",
   "execution_count": 422,
   "metadata": {},
   "outputs": [
    {
     "data": {
      "text/plain": [
       "[11, 22, 33, 44, 55]"
      ]
     },
     "execution_count": 422,
     "metadata": {},
     "output_type": "execute_result"
    }
   ],
   "source": [
    "alist = [1,2,3,4,5]\n",
    "blist = [10,20,30,40,50]\n",
    "\n",
    "#extend(확장)\n",
    "alist + blist  \n",
    "\n",
    "#각 item끼리 계산 \n",
    "f = lambda x,y : x+y\n",
    "list(map(f, alist, blist))"
   ]
  },
  {
   "cell_type": "code",
   "execution_count": 425,
   "metadata": {},
   "outputs": [
    {
     "data": {
      "text/plain": [
       "[6, 7, 8, 9]"
      ]
     },
     "execution_count": 425,
     "metadata": {},
     "output_type": "execute_result"
    }
   ],
   "source": [
    "alist = [1,2,3,4,5,6,7,8,9,10]\n",
    "f = lambda x : x>5 and x<10\n",
    "\n",
    "list(filter(f, alist))"
   ]
  },
  {
   "cell_type": "code",
   "execution_count": 430,
   "metadata": {},
   "outputs": [
    {
     "data": {
      "text/plain": [
       "3628800"
      ]
     },
     "execution_count": 430,
     "metadata": {},
     "output_type": "execute_result"
    }
   ],
   "source": [
    "from functools import reduce\n",
    "\n",
    "alist = [1,2,3,4,5,6,7,8,9,10]\n",
    "f = lambda x,y : x+y \n",
    "f = lambda x,y : x-y \n",
    "f = lambda x,y : x*y \n",
    "\n",
    "reduce(f, alist)\n",
    "\n",
    "#함수 ~ 문장들의 묶음 \n",
    "#클래스 ~ 변수들 과 함수들의 묶음  \n",
    "#모듈 ~ .py (클래스들의 묶음 )  \n",
    "#패키지 ~ .py 묶음 (폴더)\n"
   ]
  },
  {
   "cell_type": "code",
   "execution_count": 439,
   "metadata": {},
   "outputs": [],
   "source": [
    "#전역(global)\n",
    "#지역(local)\n",
    "\n",
    "x=10 #전역변수 \n",
    "def test():\n",
    "    x=20 #지역변수 \n",
    "    print(\"함수안에서 출력:\", x)\n",
    "    "
   ]
  },
  {
   "cell_type": "code",
   "execution_count": 440,
   "metadata": {},
   "outputs": [
    {
     "name": "stdout",
     "output_type": "stream",
     "text": [
      "10\n",
      "함수안에서 출력: 20\n",
      "10\n"
     ]
    }
   ],
   "source": [
    "print(x)\n",
    "test()\n",
    "print(x)"
   ]
  },
  {
   "cell_type": "code",
   "execution_count": 441,
   "metadata": {},
   "outputs": [],
   "source": [
    "x=10 #전역변수 \n",
    "def test():\n",
    "    global x\n",
    "    x=20 #전역변수 \n",
    "    print(\"함수안에서 출력:\", x)\n",
    "    \n",
    "    \n",
    "    "
   ]
  },
  {
   "cell_type": "code",
   "execution_count": 442,
   "metadata": {},
   "outputs": [
    {
     "name": "stdout",
     "output_type": "stream",
     "text": [
      "10\n",
      "함수안에서 출력: 20\n",
      "20\n"
     ]
    }
   ],
   "source": [
    "print(x)\n",
    "test()\n",
    "print(x)"
   ]
  },
  {
   "cell_type": "code",
   "execution_count": 450,
   "metadata": {},
   "outputs": [],
   "source": [
    "x=10\n",
    "def outter():\n",
    "    x=20\n",
    "    def inner():\n",
    "        nonlocal x\n",
    "        x=30\n",
    "        print(x)\n",
    "    print(x)  #20\n",
    "    inner()   #30\n",
    "    print(x)"
   ]
  },
  {
   "cell_type": "code",
   "execution_count": null,
   "metadata": {},
   "outputs": [],
   "source": []
  },
  {
   "cell_type": "code",
   "execution_count": 451,
   "metadata": {},
   "outputs": [
    {
     "name": "stdout",
     "output_type": "stream",
     "text": [
      "20\n",
      "30\n",
      "30\n"
     ]
    }
   ],
   "source": [
    "outter()"
   ]
  },
  {
   "cell_type": "code",
   "execution_count": 458,
   "metadata": {},
   "outputs": [],
   "source": [
    "#클로져 : 지역변수를 담은 함수를 return. \n",
    "#함수호출이 끝나도 지역변수가 남게된다.\n",
    "#지역변수는 함수가 끝나면 사라진다. 그런데 지역변수를 남기고싶다. \n",
    "#클로저를 사용 \n",
    "def calc():\n",
    "    a=10\n",
    "    b=20\n",
    "    #def inner(x):\n",
    "    #    return a+b+x\n",
    "    #return inner\n",
    "    return lambda x : a+b+x\n",
    "    \n",
    "   "
   ]
  },
  {
   "cell_type": "code",
   "execution_count": 459,
   "metadata": {},
   "outputs": [
    {
     "data": {
      "text/plain": [
       "33"
      ]
     },
     "execution_count": 459,
     "metadata": {},
     "output_type": "execute_result"
    }
   ],
   "source": [
    "f = calc()\n",
    "f(1)\n",
    "f(2)\n",
    "f(3)"
   ]
  },
  {
   "cell_type": "code",
   "execution_count": null,
   "metadata": {},
   "outputs": [],
   "source": []
  },
  {
   "cell_type": "code",
   "execution_count": null,
   "metadata": {},
   "outputs": [],
   "source": []
  },
  {
   "cell_type": "code",
   "execution_count": null,
   "metadata": {},
   "outputs": [],
   "source": []
  },
  {
   "cell_type": "code",
   "execution_count": null,
   "metadata": {},
   "outputs": [],
   "source": []
  }
 ],
 "metadata": {
  "kernelspec": {
   "display_name": "Python 3",
   "language": "python",
   "name": "python3"
  },
  "language_info": {
   "codemirror_mode": {
    "name": "ipython",
    "version": 3
   },
   "file_extension": ".py",
   "mimetype": "text/x-python",
   "name": "python",
   "nbconvert_exporter": "python",
   "pygments_lexer": "ipython3",
   "version": "3.8.3"
  }
 },
 "nbformat": 4,
 "nbformat_minor": 4
}
