{
 "cells": [
  {
   "cell_type": "code",
   "execution_count": 1,
   "metadata": {},
   "outputs": [
    {
     "data": {
      "text/plain": [
       "'3.8.3 (default, Jul  2 2020, 17:30:36) [MSC v.1916 64 bit (AMD64)]'"
      ]
     },
     "execution_count": 1,
     "metadata": {},
     "output_type": "execute_result"
    }
   ],
   "source": [
    "#선택된 커널에 대한 버젼이다. \n",
    "import sys\n",
    "\n",
    "sys.version"
   ]
  },
  {
   "cell_type": "code",
   "execution_count": 3,
   "metadata": {},
   "outputs": [
    {
     "name": "stdout",
     "output_type": "stream",
     "text": [
      "11.7 ns ± 0.0881 ns per loop (mean ± std. dev. of 7 runs, 100000000 loops each)\n"
     ]
    }
   ],
   "source": [
    "#%magic\n",
    "\n",
    "%timeit 1+2"
   ]
  },
  {
   "cell_type": "code",
   "execution_count": 4,
   "metadata": {},
   "outputs": [
    {
     "name": "stdout",
     "output_type": "stream",
     "text": [
      "1파이썬 코드입니다.\n",
      "2파이썬 코드입니다.\n",
      "3파이썬 코드입니다.\n",
      "4파이썬 코드입니다.\n",
      "5파이썬 코드입니다.\n"
     ]
    }
   ],
   "source": [
    "%run sample.py"
   ]
  },
  {
   "cell_type": "markdown",
   "metadata": {},
   "source": [
    "# markdown \n",
    "## markdown\n",
    "### markdown"
   ]
  },
  {
   "cell_type": "markdown",
   "metadata": {},
   "source": [
    "*이탤릭체 <br>\n",
    "-이탤릭체<br>\n",
    "**볼드<br>\n",
    "--볼드<br>\n",
    "<u>밑줄</u>\n",
    "1. 순서있는 목록\n",
    "2. 순서있는 목록\n",
    "- 순서없는 목록\n",
    "+ 순서없는 목록\n",
    "* 순서없는 목록 \n",
    "<br>\n",
    "$sqrt(a^2+b^2)$"
   ]
  },
  {
   "cell_type": "code",
   "execution_count": 7,
   "metadata": {},
   "outputs": [],
   "source": [
    "#command mode실행 \n",
    "#!pip list"
   ]
  },
  {
   "cell_type": "code",
   "execution_count": 10,
   "metadata": {},
   "outputs": [
    {
     "name": "stdout",
     "output_type": "stream",
     "text": [
      "문자를 출력하고 줄 바꾸기\n",
      "문자를 출력하고 줄 바꾸기\n"
     ]
    }
   ],
   "source": [
    "print(\"문자를 출력하고 줄 바꾸기\")\n",
    "print('문자를 출력하고 줄 바꾸기')"
   ]
  },
  {
   "cell_type": "code",
   "execution_count": 15,
   "metadata": {},
   "outputs": [
    {
     "name": "stdout",
     "output_type": "stream",
     "text": [
      "10******20$30$40$50\n"
     ]
    }
   ],
   "source": [
    "print(10, end=\"******\")\n",
    "print(20, 30, 40, 50, sep=\"$\")"
   ]
  },
  {
   "cell_type": "code",
   "execution_count": 17,
   "metadata": {},
   "outputs": [],
   "source": [
    "# print('Hello, world!')\n",
    "# print(\"Python Programming\")\n",
    "\n",
    "#Hello, world!\n",
    "#Python Programming\n"
   ]
  },
  {
   "cell_type": "code",
   "execution_count": 19,
   "metadata": {},
   "outputs": [
    {
     "name": "stdout",
     "output_type": "stream",
     "text": [
      "Hello, world!\n"
     ]
    }
   ],
   "source": [
    "            print('Hello, world!')"
   ]
  },
  {
   "cell_type": "code",
   "execution_count": 32,
   "metadata": {},
   "outputs": [],
   "source": [
    "#동적타이핑 ...동적으로 타입이 결정된다. \n",
    "a=20\n",
    "type(a)\n",
    "if a==10:  #콜론 ....부터 블럭이 시작된다. 반드시 들여쓰기 \n",
    "    print(a , \" 는 정수입니다.\")\n",
    "    print(str(a) + \" 는 정수입니다.\")"
   ]
  },
  {
   "cell_type": "code",
   "execution_count": 41,
   "metadata": {},
   "outputs": [
    {
     "name": "stdout",
     "output_type": "stream",
     "text": [
      "계산결과 float: 3.3333333333333335\n",
      "몫: 3\n",
      "나머지: 1\n",
      "몫, 나머지: (3, 1)\n",
      "3 1\n"
     ]
    }
   ],
   "source": [
    "print('계산결과 float:', 10/3)\n",
    "print(\"몫:\", 10//3)\n",
    "print(\"나머지:\" , 10%3)\n",
    "print(\"몫, 나머지:\", divmod(10,3))\n",
    "\n",
    "mok, namuji = divmod(10,3)\n",
    "print(mok, namuji)"
   ]
  },
  {
   "cell_type": "code",
   "execution_count": 44,
   "metadata": {},
   "outputs": [
    {
     "data": {
      "text/plain": [
       "30"
      ]
     },
     "execution_count": 44,
     "metadata": {},
     "output_type": "execute_result"
    }
   ],
   "source": [
    "a=\"10\"\n",
    "b=\"20\"\n",
    "a+b  #문자변수이면 연결, 숫자변수이면 연산 \n",
    "\n",
    "int(a) + int(b)  #문자->숫자 "
   ]
  },
  {
   "cell_type": "code",
   "execution_count": 48,
   "metadata": {},
   "outputs": [
    {
     "data": {
      "text/plain": [
       "250"
      ]
     },
     "execution_count": 48,
     "metadata": {},
     "output_type": "execute_result"
    }
   ],
   "source": [
    "0b1010  #binary 0,1\n",
    "0o071   #octal 0~7\n",
    "0x0fa   #hexa 0~9,a,b,c,d,e,f  15*16+10"
   ]
  },
  {
   "cell_type": "code",
   "execution_count": 50,
   "metadata": {},
   "outputs": [
    {
     "data": {
      "text/plain": [
       "float"
      ]
     },
     "execution_count": 50,
     "metadata": {},
     "output_type": "execute_result"
    }
   ],
   "source": [
    "pi = 3.141592\n",
    "type(pi)"
   ]
  },
  {
   "cell_type": "code",
   "execution_count": 51,
   "metadata": {},
   "outputs": [
    {
     "data": {
      "text/plain": [
       "(4+6j)"
      ]
     },
     "execution_count": 51,
     "metadata": {},
     "output_type": "execute_result"
    }
   ],
   "source": [
    "1+2j + 3+4j"
   ]
  },
  {
   "cell_type": "markdown",
   "metadata": {},
   "source": [
    "<h1>변수와 입력 사용하기</h1>"
   ]
  },
  {
   "cell_type": "markdown",
   "metadata": {},
   "source": [
    "<img src=\"images/images.png\" width=100 height=100></img>"
   ]
  },
  {
   "cell_type": "code",
   "execution_count": 59,
   "metadata": {},
   "outputs": [],
   "source": [
    "del print"
   ]
  },
  {
   "cell_type": "code",
   "execution_count": 60,
   "metadata": {},
   "outputs": [
    {
     "name": "stdout",
     "output_type": "stream",
     "text": [
      "값\n"
     ]
    }
   ],
   "source": [
    "print(\"값\")"
   ]
  },
  {
   "cell_type": "code",
   "execution_count": 56,
   "metadata": {},
   "outputs": [
    {
     "data": {
      "text/plain": [
       "10"
      ]
     },
     "execution_count": 56,
     "metadata": {},
     "output_type": "execute_result"
    }
   ],
   "source": [
    "#예약어는 변수로 사용할 수 없다. \n",
    "#print=10\n",
    "#print"
   ]
  },
  {
   "cell_type": "code",
   "execution_count": 68,
   "metadata": {},
   "outputs": [
    {
     "name": "stdout",
     "output_type": "stream",
     "text": [
      "10 <class 'str'> 100 <class 'int'> 110\n"
     ]
    }
   ],
   "source": [
    "#대소문자 구별한다. \n",
    "a=\"10\"\n",
    "A=100\n",
    "print(a, type(a), A, type(A), int(a)+A)"
   ]
  },
  {
   "cell_type": "code",
   "execution_count": 69,
   "metadata": {},
   "outputs": [
    {
     "name": "stdout",
     "output_type": "stream",
     "text": [
      "100\n"
     ]
    }
   ],
   "source": [
    "_var = 100\n",
    "\n",
    "print(_var)"
   ]
  },
  {
   "cell_type": "code",
   "execution_count": 70,
   "metadata": {},
   "outputs": [
    {
     "name": "stdout",
     "output_type": "stream",
     "text": [
      "10\n",
      "20\n",
      "30\n"
     ]
    }
   ],
   "source": [
    "a,b,c = 10,20,30\n",
    "print(a)\n",
    "print(b)\n",
    "print(c)"
   ]
  },
  {
   "cell_type": "code",
   "execution_count": 71,
   "metadata": {},
   "outputs": [
    {
     "name": "stdout",
     "output_type": "stream",
     "text": [
      "20 10\n"
     ]
    }
   ],
   "source": [
    "a=10\n",
    "b=20\n",
    "temp = a\n",
    "a = b\n",
    "b = temp\n",
    "print(a,b)"
   ]
  },
  {
   "cell_type": "code",
   "execution_count": 72,
   "metadata": {},
   "outputs": [
    {
     "name": "stdout",
     "output_type": "stream",
     "text": [
      "20 10\n"
     ]
    }
   ],
   "source": [
    "a=10\n",
    "b=20\n",
    "a,b = b,a\n",
    "print(a,b)"
   ]
  },
  {
   "cell_type": "code",
   "execution_count": 73,
   "metadata": {},
   "outputs": [
    {
     "name": "stdout",
     "output_type": "stream",
     "text": [
      "None\n"
     ]
    }
   ],
   "source": [
    "s=None\n",
    "print(s)"
   ]
  },
  {
   "cell_type": "code",
   "execution_count": 74,
   "metadata": {},
   "outputs": [
    {
     "name": "stdout",
     "output_type": "stream",
     "text": [
      "60\n"
     ]
    }
   ],
   "source": [
    "#복합 대입연산자\n",
    "\n",
    "a=10\n",
    "a = a + 20;\n",
    "a += 30\n",
    "print(a)\n"
   ]
  },
  {
   "cell_type": "code",
   "execution_count": 78,
   "metadata": {},
   "outputs": [
    {
     "data": {
      "text/plain": [
       "'현대차, 내년부터 \\'OTA\\'시대 연다\"타이어만 바꿔도 승차감이 다르다\"..4계절타이어 3종 비교킹스맨 감성 \\'MINI 새빌 로\\' 출시 ..4340만원~접수된 침수차만 4400대..지원에 팔 걷어붙인 車업계운전 중 \\'폭우\\' 쏟아질 땐 \\'이것\\' 기억하세요[박찬규의 1단기'"
      ]
     },
     "execution_count": 78,
     "metadata": {},
     "output_type": "execute_result"
    }
   ],
   "source": [
    "s = \"현대차, 내년부터 'OTA'시대 연다\\\n",
    "\\\"타이어만 바꿔도 승차감이 다르다\\\"..4계절\\\n",
    "타이어 3종 비교\\\n",
    "킹스맨 감성 'MINI 새빌 로' 출시 ..4340만원~\\\n",
    "접수된 침수차만 4400대..지원에 팔 걷어붙인 車업계\\\n",
    "운전 중 '폭우' 쏟아질 땐 '이것' 기억하세요\\\n",
    "[박찬규의 1단기\"\n",
    "                           \n",
    "s                           "
   ]
  },
  {
   "cell_type": "code",
   "execution_count": 82,
   "metadata": {},
   "outputs": [
    {
     "data": {
      "text/plain": [
       "['',\n",
       " '부산에 태풍주의보 발효..오후 4시 최근접',\n",
       " \"'태풍 장미 북상' 최악 예상됐던 월요일..안심하기엔 이르다\",\n",
       " \"'최장·최다·최악' 역대급 올 장마..아직도 끝나지 않았다\",\n",
       " '코로나의 역설..한국 GDP 10위권내 진입',\n",
       " '\"㈜풍산에서 나온 토석 불법처리해 수십억원 부당이득\"',\n",
       " '']"
      ]
     },
     "execution_count": 82,
     "metadata": {},
     "output_type": "execute_result"
    }
   ],
   "source": [
    "s = \"\"\"\n",
    "부산에 태풍주의보 발효..오후 4시 최근접\n",
    "'태풍 장미 북상' 최악 예상됐던 월요일..안심하기엔 이르다\n",
    "'최장·최다·최악' 역대급 올 장마..아직도 끝나지 않았다\n",
    "코로나의 역설..한국 GDP 10위권내 진입\n",
    "\"㈜풍산에서 나온 토석 불법처리해 수십억원 부당이득\"\n",
    "\"\"\"\n",
    "\n",
    "s.split(\"\\n\")\n"
   ]
  },
  {
   "cell_type": "code",
   "execution_count": 84,
   "metadata": {},
   "outputs": [
    {
     "name": "stdin",
     "output_type": "stream",
     "text": [
      "숫자>> 10\n",
      "숫자>> 20\n"
     ]
    },
    {
     "name": "stdout",
     "output_type": "stream",
     "text": [
      "30\n",
      "-10\n",
      "200\n",
      "0.5\n",
      "0\n",
      "10\n"
     ]
    }
   ],
   "source": [
    "a = int(input(\"숫자>>\"))\n",
    "b = int(input(\"숫자>>\"))\n",
    "print(a+b)\n",
    "print(a-b)\n",
    "print(a*b)\n",
    "print(a/b)\n",
    "print(a//b)\n",
    "print(a%b)"
   ]
  },
  {
   "cell_type": "code",
   "execution_count": 91,
   "metadata": {},
   "outputs": [
    {
     "name": "stdin",
     "output_type": "stream",
     "text": [
      "숫자1 숫자2>> 10 20\n"
     ]
    },
    {
     "name": "stdout",
     "output_type": "stream",
     "text": [
      "30\n",
      "-10\n",
      "200\n",
      "0.5\n",
      "0\n",
      "10\n"
     ]
    }
   ],
   "source": [
    "#a , b = input(\"숫자1 숫자2>>\").split()\n",
    "#a = int(a); b = int(b)\n",
    "\n",
    "#map은 변형하다. \n",
    "a,b = map(int , input(\"숫자1 숫자2>>\").split())\n",
    "\n",
    "print(a+b)\n",
    "print(a-b)\n",
    "print(a*b)\n",
    "print(a/b)\n",
    "print(a//b)\n",
    "print(a%b)"
   ]
  },
  {
   "cell_type": "code",
   "execution_count": 92,
   "metadata": {},
   "outputs": [],
   "source": [
    "del c"
   ]
  },
  {
   "cell_type": "code",
   "execution_count": 96,
   "metadata": {},
   "outputs": [
    {
     "data": {
      "text/plain": [
       "-20"
      ]
     },
     "execution_count": 96,
     "metadata": {},
     "output_type": "execute_result"
    }
   ],
   "source": [
    "a = 20\n",
    "b = 30\n",
    "c = 30\n",
    "c = c - a\n",
    "c -= a\n",
    "a = -a\n",
    "a"
   ]
  },
  {
   "cell_type": "code",
   "execution_count": 97,
   "metadata": {},
   "outputs": [
    {
     "name": "stdin",
     "output_type": "stream",
     "text": [
      "실수를 입력하세요:  0.5 10.5\n"
     ]
    },
    {
     "name": "stdout",
     "output_type": "stream",
     "text": [
      "0.5 10.5\n"
     ]
    }
   ],
   "source": [
    "a, b = map(float, \n",
    "           input('실수를 입력하세요: ').split())\n",
    "\n",
    "print(a,b)"
   ]
  },
  {
   "cell_type": "code",
   "execution_count": 98,
   "metadata": {},
   "outputs": [
    {
     "data": {
      "text/plain": [
       "['100', '200']"
      ]
     },
     "execution_count": 98,
     "metadata": {},
     "output_type": "execute_result"
    }
   ],
   "source": [
    "s=\"100,200\"\n",
    "s.split(\",\")"
   ]
  },
  {
   "cell_type": "code",
   "execution_count": 101,
   "metadata": {},
   "outputs": [
    {
     "name": "stdout",
     "output_type": "stream",
     "text": [
      "2000/10/27 11:43:59\n"
     ]
    }
   ],
   "source": [
    "year = 2000\n",
    "month = 10\n",
    "day = 27\n",
    "hour = 11\n",
    "minute = 43\n",
    "second = 59\n",
    "print(year,month, day, sep=\"/\", end=\" \")\n",
    "print(hour, minute,second, sep=\":\" )\n",
    "#2000/10/27 11:43:59"
   ]
  },
  {
   "cell_type": "code",
   "execution_count": 103,
   "metadata": {},
   "outputs": [
    {
     "data": {
      "text/plain": [
       "(False, True)"
      ]
     },
     "execution_count": 103,
     "metadata": {},
     "output_type": "execute_result"
    }
   ],
   "source": [
    "1>2, 10>2"
   ]
  },
  {
   "cell_type": "code",
   "execution_count": 110,
   "metadata": {},
   "outputs": [
    {
     "name": "stdin",
     "output_type": "stream",
     "text": [
      "정수>> 1\n",
      "실수>> 1\n"
     ]
    },
    {
     "name": "stdout",
     "output_type": "stream",
     "text": [
      "140737381218080\n",
      "2030326637488\n"
     ]
    },
    {
     "data": {
      "text/plain": [
       "(False, True)"
      ]
     },
     "execution_count": 110,
     "metadata": {},
     "output_type": "execute_result"
    }
   ],
   "source": [
    "1 == 1\n",
    "1 == 1.0\n",
    "a = int(input(\"정수>>\"))\n",
    "b = float(input(\"실수>>\"))\n",
    "\n",
    "print(id(a))  #주소가 다르다. \n",
    "print(id(b))\n",
    "a is b, a == b   \n"
   ]
  },
  {
   "cell_type": "code",
   "execution_count": 115,
   "metadata": {},
   "outputs": [
    {
     "data": {
      "text/plain": [
       "True"
      ]
     },
     "execution_count": 115,
     "metadata": {},
     "output_type": "execute_result"
    }
   ],
   "source": [
    "bool(0) #값이 0이면 False\n",
    "bool('') #문자가 없으면 False\n",
    "bool('False') #문자열의 길이가 0보다 크면 True \n",
    "bool(10) #값이 0이아니면 True\n",
    "bool(-1)"
   ]
  },
  {
   "cell_type": "code",
   "execution_count": 122,
   "metadata": {},
   "outputs": [
    {
     "name": "stdout",
     "output_type": "stream",
     "text": [
      "a는 값이 0이 아니다.\n"
     ]
    }
   ],
   "source": [
    "a=10  #Flase/True, ''/'aaa'  0/10\n",
    "if a: \n",
    "    print(\"a는 값이 0이 아니다.\")\n",
    "else:\n",
    "    print(\"a는 값이 0이다. \")"
   ]
  },
  {
   "cell_type": "code",
   "execution_count": 123,
   "metadata": {},
   "outputs": [
    {
     "data": {
      "text/plain": [
       "False"
      ]
     },
     "execution_count": 123,
     "metadata": {},
     "output_type": "execute_result"
    }
   ],
   "source": [
    "False and \"Python\""
   ]
  },
  {
   "cell_type": "code",
   "execution_count": 124,
   "metadata": {},
   "outputs": [
    {
     "data": {
      "text/plain": [
       "'Python'"
      ]
     },
     "execution_count": 124,
     "metadata": {},
     "output_type": "execute_result"
    }
   ],
   "source": [
    "True and \"Python\""
   ]
  },
  {
   "cell_type": "code",
   "execution_count": 125,
   "metadata": {},
   "outputs": [
    {
     "data": {
      "text/plain": [
       "'JJ'"
      ]
     },
     "execution_count": 125,
     "metadata": {},
     "output_type": "execute_result"
    }
   ],
   "source": [
    "\"JJ\" or \"Python\""
   ]
  },
  {
   "cell_type": "code",
   "execution_count": 133,
   "metadata": {},
   "outputs": [
    {
     "data": {
      "text/plain": [
       "'우리는 \" 파이썬 \"을 \\'공부\\'합니다.'"
      ]
     },
     "execution_count": 133,
     "metadata": {},
     "output_type": "execute_result"
    }
   ],
   "source": [
    "s = '우리는 \" 파이썬 \"을 \\'공부\\'합니다.'\n",
    "s"
   ]
  },
  {
   "cell_type": "code",
   "execution_count": 137,
   "metadata": {},
   "outputs": [
    {
     "data": {
      "text/plain": [
       "['\\n', '', '우리는', '\"파이썬\"을', \"'공부'합니다.\\n\"]"
      ]
     },
     "execution_count": 137,
     "metadata": {},
     "output_type": "execute_result"
    }
   ],
   "source": [
    "s = '''\n",
    "  우리는 \"파이썬\"을 '공부'합니다.\n",
    "'''\n",
    "s.split(\" \")"
   ]
  },
  {
   "cell_type": "code",
   "execution_count": 142,
   "metadata": {},
   "outputs": [
    {
     "name": "stdout",
     "output_type": "stream",
     "text": [
      "[100, 99, 98, 88, 100] 98\n",
      "['홍길동', 100, False, (1+2j), 3.14]\n"
     ]
    }
   ],
   "source": [
    "#list : 순서가 있다. 중복허용 , 값수정가능 \n",
    "#여러가지 타입의 값을 저장한다. \n",
    "a = [100,99,50,88,100]\n",
    "b = [\"홍길동\", 100, 10>20, 1+2j, 3.14]\n",
    "a[2] = 98\n",
    "print(a, a[2])\n",
    "print(b)"
   ]
  },
  {
   "cell_type": "code",
   "execution_count": 144,
   "metadata": {},
   "outputs": [
    {
     "name": "stdout",
     "output_type": "stream",
     "text": [
      "(100, 99, 50, 88, 100) 50\n",
      "('홍길동', 100, False, (1+2j), 3.14)\n"
     ]
    }
   ],
   "source": [
    "#tuple : 순서가 있다. 중복허용 , 값수정 불가능 \n",
    "#여러가지 타입의 값을 저장한다. \n",
    "a = (100,99,50,88,100)\n",
    "b = (\"홍길동\", 100, 10>20, 1+2j, 3.14)\n",
    "#수정불가 a[2] = 98 \n",
    "print(a, a[2])\n",
    "print(b)"
   ]
  },
  {
   "cell_type": "code",
   "execution_count": 149,
   "metadata": {},
   "outputs": [
    {
     "name": "stdout",
     "output_type": "stream",
     "text": [
      "[]\n",
      "[]\n",
      "[0, 1, 2, 3, 4]\n",
      "(0, 1, 2, 3, 4)\n"
     ]
    }
   ],
   "source": [
    "a = [100, 99, 50, 88, 100]\n",
    "b = []\n",
    "c = list()\n",
    "print(b)\n",
    "print(c)\n",
    "\n",
    "d = range(5) #0<=  <5   lazy \n",
    "d = list(d)\n",
    "print(d)\n",
    "d = tuple(d)\n",
    "print(d)\n"
   ]
  },
  {
   "cell_type": "code",
   "execution_count": 157,
   "metadata": {},
   "outputs": [
    {
     "data": {
      "text/plain": [
       "tuple"
      ]
     },
     "execution_count": 157,
     "metadata": {},
     "output_type": "execute_result"
    }
   ],
   "source": [
    "a = (10,)\n",
    "type(a)"
   ]
  },
  {
   "cell_type": "code",
   "execution_count": 156,
   "metadata": {},
   "outputs": [
    {
     "data": {
      "text/plain": [
       "list"
      ]
     },
     "execution_count": 156,
     "metadata": {},
     "output_type": "execute_result"
    }
   ],
   "source": [
    "a = [10,20,30,]\n",
    "type(a)"
   ]
  },
  {
   "cell_type": "code",
   "execution_count": 163,
   "metadata": {},
   "outputs": [
    {
     "data": {
      "text/plain": [
       "tuple"
      ]
     },
     "execution_count": 163,
     "metadata": {},
     "output_type": "execute_result"
    }
   ],
   "source": [
    "#괄호생략가능 \n",
    "a = 10,\n",
    "type(a)"
   ]
  },
  {
   "cell_type": "code",
   "execution_count": 170,
   "metadata": {},
   "outputs": [
    {
     "name": "stdout",
     "output_type": "stream",
     "text": [
      "(1, 2, 3, 4, 5)\n",
      "[99, 2, 3, 4, 5]\n",
      "(99, 2, 3, 4, 5)\n"
     ]
    }
   ],
   "source": [
    "tuple(range(5))\n",
    "a = tuple(range(1,6)) #1<= <6\n",
    "b = list(a)\n",
    "#tuple수정 불가 a[0] = 99\n",
    "print(a)\n",
    "b[0] = 99\n",
    "print(b)\n",
    "print(tuple(b))"
   ]
  },
  {
   "cell_type": "code",
   "execution_count": 175,
   "metadata": {},
   "outputs": [
    {
     "data": {
      "text/plain": [
       "True"
      ]
     },
     "execution_count": 175,
     "metadata": {},
     "output_type": "execute_result"
    }
   ],
   "source": [
    "#sequence자료형\n",
    "\n",
    "10 in [10,20,30] #list\n",
    "10 in (10,20,30) #tuple\n",
    "10 in range(11) #0<= <11\n",
    "\"y\" in \"Python\"  #str "
   ]
  },
  {
   "cell_type": "code",
   "execution_count": 180,
   "metadata": {},
   "outputs": [
    {
     "data": {
      "text/plain": [
       "'PythonProgrmming'"
      ]
     },
     "execution_count": 180,
     "metadata": {},
     "output_type": "execute_result"
    }
   ],
   "source": [
    "#연결연산자 : +\n",
    "[1,2,3] + [10,20,30]  #list\n",
    "(1,2,3) + (10,20,30)  #tuple\n",
    "list(range(5)) + list(range(10)) #range는 안됨 ..변형해야가능 \n",
    "\"Python\" + \"Progrmming\"  #string가능 "
   ]
  },
  {
   "cell_type": "code",
   "execution_count": 183,
   "metadata": {},
   "outputs": [
    {
     "data": {
      "text/plain": [
       "'파이썬파이썬파이썬'"
      ]
     },
     "execution_count": 183,
     "metadata": {},
     "output_type": "execute_result"
    }
   ],
   "source": [
    "#반복연산자\n",
    "[1,2,3] * 3\n",
    "(10,20,30) * 2\n",
    "\"파이썬\"*3"
   ]
  },
  {
   "cell_type": "code",
   "execution_count": 238,
   "metadata": {},
   "outputs": [
    {
     "data": {
      "text/plain": [
       "21"
      ]
     },
     "execution_count": 238,
     "metadata": {},
     "output_type": "execute_result"
    }
   ],
   "source": [
    "##LAB\n",
    "\n",
    "list1 = list(range(1,7))\n",
    "list1[2] #3\n",
    "list1[-2] #5\n",
    "list1[1:3] #[2,3]\n",
    "len(list1)\n",
    "list1.index(5) #위치를 찾음 \n",
    "max(list1)\n",
    "sum(list1)"
   ]
  },
  {
   "cell_type": "code",
   "execution_count": 250,
   "metadata": {},
   "outputs": [
    {
     "data": {
      "text/plain": [
       "[1, 2, 3, 4, 5, 6, 10, 10, 10, 10, 10, 10, 10, 10, 10, 10, 10, 10]"
      ]
     },
     "execution_count": 250,
     "metadata": {},
     "output_type": "execute_result"
    }
   ],
   "source": [
    "list1.append(10)\n",
    "list1"
   ]
  },
  {
   "cell_type": "code",
   "execution_count": null,
   "metadata": {},
   "outputs": [],
   "source": []
  },
  {
   "cell_type": "code",
   "execution_count": 269,
   "metadata": {},
   "outputs": [
    {
     "name": "stdout",
     "output_type": "stream",
     "text": [
      "10\n",
      "[1, 2, 3, 4, 5, 6]\n"
     ]
    }
   ],
   "source": [
    "list1 = list(range(1,7))\n",
    "list1.append(10) #마지막에 추가 \n",
    "print(list1.pop()) #마지막에서 꺼내기 \n",
    "print(list1)"
   ]
  },
  {
   "cell_type": "code",
   "execution_count": 270,
   "metadata": {},
   "outputs": [
    {
     "name": "stdout",
     "output_type": "stream",
     "text": [
      "6\n",
      "[1, 2, 3, 4, 5]\n"
     ]
    }
   ],
   "source": [
    "print(list1.pop())\n",
    "print(list1)"
   ]
  },
  {
   "cell_type": "code",
   "execution_count": 274,
   "metadata": {},
   "outputs": [
    {
     "data": {
      "text/plain": [
       "[1, 99, 99, 99, 99, 2, 3, 4, 5]"
      ]
     },
     "execution_count": 274,
     "metadata": {},
     "output_type": "execute_result"
    }
   ],
   "source": [
    "list1.insert(1, 99) #특정위치에 삽입 \n",
    "list1"
   ]
  },
  {
   "cell_type": "code",
   "execution_count": 279,
   "metadata": {},
   "outputs": [
    {
     "data": {
      "text/plain": [
       "(2030334253760, 2030327039296)"
      ]
     },
     "execution_count": 279,
     "metadata": {},
     "output_type": "execute_result"
    }
   ],
   "source": [
    "list1 = [1,2,3]\n",
    "list2 = [1,2,3]\n",
    "list1 + list2 #연결\n",
    "list1 * 3  #반복\n",
    "list1 == list2 #값을 비교\n",
    "list1 is list2 #주소비교 \n",
    "id(list1), id(list2)"
   ]
  },
  {
   "cell_type": "code",
   "execution_count": 3,
   "metadata": {},
   "outputs": [
    {
     "name": "stdin",
     "output_type": "stream",
     "text": [
      "입력>> 100\n",
      "입력>> 50\n",
      "입력>> 70\n",
      "입력>> 60\n",
      "입력>> 90\n"
     ]
    },
    {
     "name": "stdout",
     "output_type": "stream",
     "text": [
      "[100, 50, 70, 60, 90]\n",
      "평균: 74.0\n",
      "평균이상인 인원은  2\n"
     ]
    }
   ],
   "source": [
    "myScore = []\n",
    "\n",
    "for i in range(5):\n",
    "    su = int(input(\"입력>>\"))\n",
    "    myScore.append(su)\n",
    "\n",
    "print(myScore) \n",
    "mean = sum(myScore)/len(myScore)\n",
    "print(\"평균:\", mean)    \n",
    "\n",
    "count = 0\n",
    "for i in range(5):\n",
    "    if myScore[i] > mean:\n",
    "        count += 1\n",
    "        \n",
    "print(\"평균이상인 인원은 \", count)        \n"
   ]
  },
  {
   "cell_type": "code",
   "execution_count": 4,
   "metadata": {},
   "outputs": [
    {
     "name": "stdin",
     "output_type": "stream",
     "text": [
      "입력>> 10\n",
      "입력>> 20\n",
      "입력>> 30\n",
      "입력>> 40\n",
      "입력>> 50\n"
     ]
    },
    {
     "name": "stdout",
     "output_type": "stream",
     "text": [
      "[10, 20, 30, 40, 50]\n",
      "평균: 30.0\n",
      "평균이상인 인원은  2\n"
     ]
    }
   ],
   "source": [
    "%run lab1.py"
   ]
  },
  {
   "cell_type": "code",
   "execution_count": null,
   "metadata": {},
   "outputs": [],
   "source": []
  },
  {
   "cell_type": "code",
   "execution_count": null,
   "metadata": {},
   "outputs": [],
   "source": []
  },
  {
   "cell_type": "code",
   "execution_count": null,
   "metadata": {},
   "outputs": [],
   "source": []
  },
  {
   "cell_type": "code",
   "execution_count": null,
   "metadata": {},
   "outputs": [],
   "source": []
  },
  {
   "cell_type": "code",
   "execution_count": 185,
   "metadata": {},
   "outputs": [
    {
     "data": {
      "text/plain": [
       "9"
      ]
     },
     "execution_count": 185,
     "metadata": {},
     "output_type": "execute_result"
    }
   ],
   "source": [
    "len([1,2,3] * 3)\n",
    "len((10,20,30) * 2)\n",
    "len(\"파이썬\"*3)"
   ]
  },
  {
   "cell_type": "code",
   "execution_count": 189,
   "metadata": {},
   "outputs": [
    {
     "name": "stdout",
     "output_type": "stream",
     "text": [
      "100 500 500\n"
     ]
    }
   ],
   "source": [
    "alist = [100,200,300,400,500]\n",
    "print(alist[0], alist[4], alist[-1])"
   ]
  },
  {
   "cell_type": "code",
   "execution_count": 195,
   "metadata": {},
   "outputs": [
    {
     "name": "stdout",
     "output_type": "stream",
     "text": [
      "0\n",
      "h\n"
     ]
    }
   ],
   "source": [
    "#sequence 객체 \n",
    "#list ...수정가능 \n",
    "#tuple...수정불가 \n",
    "a = (1,2,3,4,5)\n",
    "##a[0] = 99\n",
    "#range..수정불가 \n",
    "a = range(5)\n",
    "print(a[0])\n",
    "\n",
    "#string...수정불가 \n",
    "s = \"hello\"\n",
    "#불가 s[0] = \"p\"\n",
    "print(s[0])"
   ]
  },
  {
   "cell_type": "code",
   "execution_count": 196,
   "metadata": {},
   "outputs": [
    {
     "name": "stdout",
     "output_type": "stream",
     "text": [
      "[10, 30]\n"
     ]
    }
   ],
   "source": [
    "alist = [10,20,30]\n",
    "del alist[1]\n",
    "print(alist)"
   ]
  },
  {
   "cell_type": "code",
   "execution_count": 202,
   "metadata": {},
   "outputs": [
    {
     "data": {
      "text/plain": [
       "[0, 10, 'a', 'b', 50, 60, 70, 80, 90, 100]"
      ]
     },
     "execution_count": 202,
     "metadata": {},
     "output_type": "execute_result"
    }
   ],
   "source": [
    "#slicing \n",
    "alist = list(range(0,110,10))\n",
    "#alist[4:7] #4<= <7 \n",
    "alist[2:5] = ['a','b']  #3개element제외하고 \n",
    "                        #2개 element삽입 \n",
    "alist"
   ]
  },
  {
   "cell_type": "markdown",
   "metadata": {},
   "source": [
    "4. 다음 중 시퀀스 자료형의 슬라이스에 대한 설명으로 잘못된 것을 모두 고르세요.\n",
    "\n",
    "1. 시퀀스 객체에 슬라이스로 범위를 지정하여 요소에 값을 할당하면  \n",
    "새 객체가 생성된다.(X) \n",
    "2. 문자열은 슬라이스를 사용하여 일부를 가져올 수 있다.(O) \n",
    "3. 튜플은 슬라이스를 사용하여 일부를 가져올 수 없다. (X) \n",
    "4. range 객체는 슬라이스로 범위를 지정하여 요소를 할당할 수 없다.(O) \n",
    "5. 시퀀스 객체에 인덱스 증가폭을 지정하여 요소를 할당할 때는 \n",
    "슬라이스 범위의 요소 개수와 할당할 요소 개수가 정확히 일치해야 한다.(O)"
   ]
  },
  {
   "cell_type": "code",
   "execution_count": 206,
   "metadata": {},
   "outputs": [
    {
     "data": {
      "text/plain": [
       "(1, 2, 3)"
      ]
     },
     "execution_count": 206,
     "metadata": {},
     "output_type": "execute_result"
    }
   ],
   "source": [
    "alist[:2] = [99,88]\n",
    "s = \"Hello\"\n",
    "atuple = (1,2,3,4,5)\n",
    "atuple[0:3]"
   ]
  },
  {
   "cell_type": "code",
   "execution_count": 215,
   "metadata": {},
   "outputs": [
    {
     "data": {
      "text/plain": [
       "[0, 20, 40, 60, 80]"
      ]
     },
     "execution_count": 215,
     "metadata": {},
     "output_type": "execute_result"
    }
   ],
   "source": [
    "alist = list(range(0,110,10))\n",
    "alist[:-1:2]"
   ]
  },
  {
   "cell_type": "code",
   "execution_count": 211,
   "metadata": {},
   "outputs": [
    {
     "data": {
      "text/plain": [
       "[0, 88, 1, 'b', 2, 60, 3, 80, 4, 100]"
      ]
     },
     "execution_count": 211,
     "metadata": {},
     "output_type": "execute_result"
    }
   ],
   "source": [
    "alist[:-1:2] = list(range(5))\n",
    "alist"
   ]
  },
  {
   "cell_type": "code",
   "execution_count": 220,
   "metadata": {},
   "outputs": [
    {
     "data": {
      "text/plain": [
       "['a', 'b', 100]"
      ]
     },
     "execution_count": 220,
     "metadata": {},
     "output_type": "execute_result"
    }
   ],
   "source": [
    "alist = list(range(0,110,10))\n",
    "alist[0:-1] = ['a','b']\n",
    "alist"
   ]
  },
  {
   "cell_type": "code",
   "execution_count": 224,
   "metadata": {},
   "outputs": [
    {
     "data": {
      "text/plain": [
       "['a', 10, 20, 'b', 40, 50, 'c', 70, 80, 'd', 100]"
      ]
     },
     "execution_count": 224,
     "metadata": {},
     "output_type": "execute_result"
    }
   ],
   "source": [
    "#증가폭을 지정했을때 갯수가 맞게 할당 \n",
    "alist = list(range(0,110,10))\n",
    "alist[0:-1:3] = ['a','b','c','d']\n",
    "alist"
   ]
  }
 ],
 "metadata": {
  "kernelspec": {
   "display_name": "Python 3",
   "language": "python",
   "name": "python3"
  },
  "language_info": {
   "codemirror_mode": {
    "name": "ipython",
    "version": 3
   },
   "file_extension": ".py",
   "mimetype": "text/x-python",
   "name": "python",
   "nbconvert_exporter": "python",
   "pygments_lexer": "ipython3",
   "version": "3.8.3"
  }
 },
 "nbformat": 4,
 "nbformat_minor": 4
}
