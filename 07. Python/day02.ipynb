{
 "cells": [
  {
   "cell_type": "code",
   "execution_count": 1,
   "metadata": {},
   "outputs": [
    {
     "name": "stdout",
     "output_type": "stream",
     "text": [
      "10 <class 'int'>\n",
      "3.14 <class 'float'>\n",
      "python <class 'str'>\n",
      "False <class 'bool'>\n",
      "[10, 3.14, 'python', False, 100] <class 'list'>\n",
      "(10, 3.14, 'python', False, 200) <class 'tuple'>\n"
     ]
    }
   ],
   "source": [
    "#data type : int, float, str, bool, list, tuple\n",
    "#값이 여러개 Collection : list, tuple\n",
    "# list, tuple : 순서가 있다.\n",
    "# tuple은 수정불가 \n",
    "a=10\n",
    "b=3.14\n",
    "c=\"python\"\n",
    "d=10>20\n",
    "e=[a,b,c,d, 100]\n",
    "f=(a,b,c,d, 200)\n",
    "\n",
    "print(a, type(a))\n",
    "print(b, type(b))\n",
    "print(c, type(c))\n",
    "print(d, type(d))\n",
    "print(e, type(e))\n",
    "print(f, type(f))\n"
   ]
  },
  {
   "cell_type": "code",
   "execution_count": 8,
   "metadata": {},
   "outputs": [
    {
     "name": "stdout",
     "output_type": "stream",
     "text": [
      "aaaaa\n"
     ]
    }
   ],
   "source": [
    "del print\n",
    "print(\"aaaaa\")"
   ]
  },
  {
   "cell_type": "code",
   "execution_count": 9,
   "metadata": {},
   "outputs": [
    {
     "data": {
      "text/plain": [
       "55"
      ]
     },
     "execution_count": 9,
     "metadata": {},
     "output_type": "execute_result"
    }
   ],
   "source": [
    "sum(alist)"
   ]
  },
  {
   "cell_type": "code",
   "execution_count": 13,
   "metadata": {},
   "outputs": [
    {
     "name": "stdout",
     "output_type": "stream",
     "text": [
      "[1, 99, 3, 4, 5, 6, 7, 8, 9, 10, 99, 99]\n",
      "(1, 1, 1, 2, 2, 2, 4)\n"
     ]
    }
   ],
   "source": [
    "#순서있고 중복가능 \n",
    "#list:변경가능, tuple:변경불가능 \n",
    "#range---lazy\n",
    "alist = list(range(1,11,1))\n",
    "atuple = tuple(range(1,11,1))\n",
    "alist[1] = 99\n",
    "#atuple[1] = 88\n",
    "alist.append(99)\n",
    "alist.append(99)\n",
    "atuple = (1,1,1,2,2,2,4)\n",
    "print(alist)\n",
    "print(atuple)"
   ]
  },
  {
   "cell_type": "code",
   "execution_count": 21,
   "metadata": {},
   "outputs": [
    {
     "name": "stdout",
     "output_type": "stream",
     "text": [
      "{'model': 'BMW520', 'price': 6000} <class 'dict'>\n",
      "{'model': 'ABC200', 'price': 6000, 'color': 'black', 100: 200, True: 'bool가능', '악세사리': ['A', 'B', 'C'], '악세사리2': ('A', 'B', 'C'), '악세사리3': {'A': 10, 'B': 20, 'C': 30}}\n"
     ]
    }
   ],
   "source": [
    "#Dictionary(사전).......\n",
    "#다른언어에서는 JSON(Javascript Object Notation)\n",
    "#{} : dict, set\n",
    "\n",
    "#키는 중복불가, 나중것이 유효 \n",
    "car = {\"model\":\"BMW520\", \"price\":5000, \"price\":6000}\n",
    "print(car, type(car))\n",
    "car[\"model\"] = \"ABC100\"  #수정\n",
    "car[\"model\"] = \"ABC200\"  #수정\n",
    "car[\"color\"] = \"black\"   #추가 \n",
    "car[100] = 200 #키는 숫자, 문자, bool가능 \n",
    "car[True] = \"bool가능\"\n",
    "car[\"악세사리\"] = [\"A\",\"B\",\"C\"]\n",
    "car[\"악세사리2\"] = (\"A\",\"B\",\"C\")\n",
    "car[\"악세사리3\"] = {\"A\":10,\"B\":20,\"C\":30}\n",
    "print(car)"
   ]
  },
  {
   "cell_type": "code",
   "execution_count": 24,
   "metadata": {},
   "outputs": [
    {
     "name": "stdout",
     "output_type": "stream",
     "text": [
      "<class 'dict'> <class 'set'>\n",
      "{200, 100, 300}\n"
     ]
    }
   ],
   "source": [
    "person={}  #dict \n",
    "score={100,200,300,100,200,200,200}  \n",
    "#set : 중복불가능 , 순서가 없다. \n",
    "print(type(person), type(score))\n",
    "print(score)"
   ]
  },
  {
   "cell_type": "code",
   "execution_count": 25,
   "metadata": {},
   "outputs": [
    {
     "name": "stdout",
     "output_type": "stream",
     "text": [
      "<class 'dict'> <class 'dict'>\n"
     ]
    }
   ],
   "source": [
    "person={}  #dict ... 키와 값의 쌍이다. \n",
    "person2 = dict()\n",
    "print(type(person), type(person2))"
   ]
  },
  {
   "cell_type": "code",
   "execution_count": 30,
   "metadata": {},
   "outputs": [
    {
     "data": {
      "text/plain": [
       "{'name': '홍길동', 'age': 30}"
      ]
     },
     "execution_count": 30,
     "metadata": {},
     "output_type": "execute_result"
    }
   ],
   "source": [
    "person=dict(name=\"홍길동\", age=20)\n",
    "a=(\"name\",\"홍길동\")\n",
    "b=(\"age\",30)\n",
    "alist = [a,b]\n",
    "person=dict(alist)\n",
    "person"
   ]
  },
  {
   "cell_type": "code",
   "execution_count": 39,
   "metadata": {},
   "outputs": [
    {
     "name": "stdout",
     "output_type": "stream",
     "text": [
      "키가 존재하지 않는다.\n",
      "3 개\n"
     ]
    }
   ],
   "source": [
    "keys=[\"name\", \"age\", \"major\"]\n",
    "values=[\"홍길동\", 20, \"경영학과\"]\n",
    "person = dict(zip(keys, values))\n",
    "\n",
    "person[\"name\"]\n",
    "#키가 없으면 오류 : person[\"name2\"]\n",
    "\n",
    "if \"name2\" in person:\n",
    "    print(person[\"name2\"])\n",
    "else:\n",
    "    print(\"키가 존재하지 않는다.\")\n",
    "    \n",
    "print(len(person),\"개\")    "
   ]
  },
  {
   "cell_type": "code",
   "execution_count": 50,
   "metadata": {},
   "outputs": [
    {
     "name": "stdout",
     "output_type": "stream",
     "text": [
      "OK\n",
      "OK\n"
     ]
    }
   ],
   "source": [
    "a=10\n",
    "\n",
    "if a==10:\n",
    "    print(\"OK\")\n",
    "\n",
    "#조건식의 결과가 bool이다. 0 '' None : False, 나머지:True\n",
    "a=0\n",
    "a=''\n",
    "a=None\n",
    "a=100\n",
    "a='python'\n",
    "if a:  # 값의 존재유무 \n",
    "    print(\"OK\")    \n",
    "else:\n",
    "    print(\"없다\")"
   ]
  },
  {
   "cell_type": "code",
   "execution_count": 53,
   "metadata": {},
   "outputs": [],
   "source": [
    "a=10\n",
    "\n",
    "if a==10:\n",
    "    pass  #빈문장이 불가...이런경우 사용하는 예약어 \n",
    "else:\n",
    "    print(\"fail\")"
   ]
  },
  {
   "cell_type": "code",
   "execution_count": 58,
   "metadata": {},
   "outputs": [
    {
     "name": "stdin",
     "output_type": "stream",
     "text": [
      "점수>> 99\n"
     ]
    },
    {
     "name": "stdout",
     "output_type": "stream",
     "text": [
      "점수는  99  학점은 A\n"
     ]
    }
   ],
   "source": [
    "#사용자의 입력값을 이용해서 조건처리 \n",
    "#점수입력하면 학점을 출력\n",
    "#90이상 : A\n",
    "#80이상 : B\n",
    "#70이상 : C\n",
    "#60이상 : D\n",
    "#나머지 : F\n",
    "score = int(input(\"점수>>\"))\n",
    "grade=None\n",
    "if score>=90:\n",
    "    grade=\"A\"\n",
    "elif score>=80:\n",
    "    grade=\"B\"\n",
    "elif score>=70:\n",
    "    grade=\"C\"\n",
    "elif score>=60:\n",
    "    grade=\"D\"\n",
    "else:\n",
    "    grade=\"F\"\n",
    "print(\"점수는 \", score, \" 학점은\" , grade)"
   ]
  },
  {
   "cell_type": "code",
   "execution_count": 66,
   "metadata": {},
   "outputs": [
    {
     "data": {
      "text/plain": [
       "'HelloHelloHello'"
      ]
     },
     "execution_count": 66,
     "metadata": {},
     "output_type": "execute_result"
    }
   ],
   "source": [
    "\"Hello\"*3"
   ]
  },
  {
   "cell_type": "code",
   "execution_count": 75,
   "metadata": {},
   "outputs": [
    {
     "name": "stdout",
     "output_type": "stream",
     "text": [
      "--------------------list사용\n",
      "10 20 30 \n",
      "--------------------tuple사용\n",
      "10 20 30 \n",
      "--------------------str사용\n",
      "H e l l o \n",
      "--------------------dict사용\n",
      "name -> 홍길동 age -> 20 "
     ]
    }
   ],
   "source": [
    "#반복문 \n",
    "print(\"-\"*20 + \"list사용\")    \n",
    "for i in [10,20,30]:\n",
    "    print(i, end=\" \")\n",
    "print(\"\\n\" + \"-\"*20 + \"tuple사용\")    \n",
    "for i in (10,20,30):\n",
    "    print(i, end=\" \")   \n",
    "print(\"\\n\" + \"-\"*20 + \"str사용\")    \n",
    "for i in \"Hello\":\n",
    "    print(i, end=\" \")  \n",
    "print(\"\\n\" + \"-\"*20 + \"dict사용\")    \n",
    "mydict = {\"name\":\"홍길동\", \"age\":20}\n",
    "for key in mydict:\n",
    "    print(key, \"->\", mydict[key], end=\" \")      "
   ]
  },
  {
   "cell_type": "code",
   "execution_count": 80,
   "metadata": {},
   "outputs": [
    {
     "name": "stdout",
     "output_type": "stream",
     "text": [
      "2 단\n",
      "2 * 1 = 2\n",
      "2 * 2 = 4\n",
      "2 * 3 = 6\n",
      "2 * 4 = 8\n",
      "2 * 5 = 10\n",
      "2 * 6 = 12\n",
      "2 * 7 = 14\n",
      "2 * 8 = 16\n",
      "2 * 9 = 18\n",
      "3 단\n",
      "3 * 1 = 3\n",
      "3 * 2 = 6\n",
      "3 * 3 = 9\n",
      "3 * 4 = 12\n",
      "3 * 5 = 15\n",
      "3 * 6 = 18\n",
      "3 * 7 = 21\n",
      "3 * 8 = 24\n",
      "3 * 9 = 27\n",
      "4 단\n",
      "4 * 1 = 4\n",
      "4 * 2 = 8\n",
      "4 * 3 = 12\n",
      "4 * 4 = 16\n",
      "4 * 5 = 20\n",
      "4 * 6 = 24\n",
      "4 * 7 = 28\n",
      "4 * 8 = 32\n",
      "4 * 9 = 36\n",
      "5 단\n",
      "5 * 1 = 5\n",
      "5 * 2 = 10\n",
      "5 * 3 = 15\n",
      "5 * 4 = 20\n",
      "5 * 5 = 25\n",
      "5 * 6 = 30\n",
      "5 * 7 = 35\n",
      "5 * 8 = 40\n",
      "5 * 9 = 45\n",
      "6 단\n",
      "6 * 1 = 6\n",
      "6 * 2 = 12\n",
      "6 * 3 = 18\n",
      "6 * 4 = 24\n",
      "6 * 5 = 30\n",
      "6 * 6 = 36\n",
      "6 * 7 = 42\n",
      "6 * 8 = 48\n",
      "6 * 9 = 54\n",
      "7 단\n",
      "7 * 1 = 7\n",
      "7 * 2 = 14\n",
      "7 * 3 = 21\n",
      "7 * 4 = 28\n",
      "7 * 5 = 35\n",
      "7 * 6 = 42\n",
      "7 * 7 = 49\n",
      "7 * 8 = 56\n",
      "7 * 9 = 63\n",
      "8 단\n",
      "8 * 1 = 8\n",
      "8 * 2 = 16\n",
      "8 * 3 = 24\n",
      "8 * 4 = 32\n",
      "8 * 5 = 40\n",
      "8 * 6 = 48\n",
      "8 * 7 = 56\n",
      "8 * 8 = 64\n",
      "8 * 9 = 72\n",
      "9 단\n",
      "9 * 1 = 9\n",
      "9 * 2 = 18\n",
      "9 * 3 = 27\n",
      "9 * 4 = 36\n",
      "9 * 5 = 45\n",
      "9 * 6 = 54\n",
      "9 * 7 = 63\n",
      "9 * 8 = 72\n",
      "9 * 9 = 81\n"
     ]
    }
   ],
   "source": [
    "for dan in range(2,10):\n",
    "    print(dan , \"단\")\n",
    "    for gop in range(1,10):\n",
    "        print(dan, \"*\", gop, \"=\", dan*gop)"
   ]
  },
  {
   "cell_type": "code",
   "execution_count": 82,
   "metadata": {},
   "outputs": [
    {
     "name": "stdout",
     "output_type": "stream",
     "text": [
      "2 * 1 = 2\t3 * 1 = 3\t4 * 1 = 4\t5 * 1 = 5\t6 * 1 = 6\t7 * 1 = 7\t8 * 1 = 8\t9 * 1 = 9\t\n",
      "2 * 2 = 4\t3 * 2 = 6\t4 * 2 = 8\t5 * 2 = 10\t6 * 2 = 12\t7 * 2 = 14\t8 * 2 = 16\t9 * 2 = 18\t\n",
      "2 * 3 = 6\t3 * 3 = 9\t4 * 3 = 12\t5 * 3 = 15\t6 * 3 = 18\t7 * 3 = 21\t8 * 3 = 24\t9 * 3 = 27\t\n",
      "2 * 4 = 8\t3 * 4 = 12\t4 * 4 = 16\t5 * 4 = 20\t6 * 4 = 24\t7 * 4 = 28\t8 * 4 = 32\t9 * 4 = 36\t\n",
      "2 * 5 = 10\t3 * 5 = 15\t4 * 5 = 20\t5 * 5 = 25\t6 * 5 = 30\t7 * 5 = 35\t8 * 5 = 40\t9 * 5 = 45\t\n",
      "2 * 6 = 12\t3 * 6 = 18\t4 * 6 = 24\t5 * 6 = 30\t6 * 6 = 36\t7 * 6 = 42\t8 * 6 = 48\t9 * 6 = 54\t\n",
      "2 * 7 = 14\t3 * 7 = 21\t4 * 7 = 28\t5 * 7 = 35\t6 * 7 = 42\t7 * 7 = 49\t8 * 7 = 56\t9 * 7 = 63\t\n",
      "2 * 8 = 16\t3 * 8 = 24\t4 * 8 = 32\t5 * 8 = 40\t6 * 8 = 48\t7 * 8 = 56\t8 * 8 = 64\t9 * 8 = 72\t\n",
      "2 * 9 = 18\t3 * 9 = 27\t4 * 9 = 36\t5 * 9 = 45\t6 * 9 = 54\t7 * 9 = 63\t8 * 9 = 72\t9 * 9 = 81\t\n"
     ]
    }
   ],
   "source": [
    "for gop in range(1,10):\n",
    "    for dan in range(2,10):\n",
    "        print(dan, \"*\", gop, \"=\", dan*gop, end=\"\\t\")\n",
    "    print()    "
   ]
  },
  {
   "cell_type": "code",
   "execution_count": 96,
   "metadata": {},
   "outputs": [
    {
     "name": "stdout",
     "output_type": "stream",
     "text": [
      "1 2 3 4 5 \n",
      "5 4 3 2 1 \n",
      "5 4 3 2 1 \n",
      "o\n",
      "l\n",
      "l\n",
      "e\n",
      "H\n"
     ]
    }
   ],
   "source": [
    "#1~5\n",
    "for i in range(1,6):\n",
    "    print(i, end=\" \")\n",
    "print()\n",
    "\n",
    "#5,1\n",
    "for i in range(5,0,-1):\n",
    "    print(i, end=\" \")\n",
    "\n",
    "print()\n",
    "for i in reversed(range(1,6)):\n",
    "    print(i, end=\" \")\n",
    "print()\n",
    "\n",
    "list(reversed([10,20,30]))\n",
    "\n",
    "list(reversed(\"Hello\"))\n",
    "for s in reversed(\"Hello\"):\n",
    "    print(s)"
   ]
  },
  {
   "cell_type": "code",
   "execution_count": 103,
   "metadata": {},
   "outputs": [
    {
     "name": "stdout",
     "output_type": "stream",
     "text": [
      "1 2 3 4 5 6 7 8 9 10 \n",
      "--------------------\n",
      "1 2 3 4 5 6 7 8 9 10 while반복 끝\n"
     ]
    }
   ],
   "source": [
    "for i in range(1,11):\n",
    "    print(i, end=\" \")\n",
    "    \n",
    "print(\"\\n\" + \"-\"*20)    \n",
    "\n",
    "#while :  조건에 맞는 동안 반복 \n",
    "i=1\n",
    "while(i<=10):\n",
    "    print(i, end=\" \")\n",
    "    i = i+1\n",
    "print(\"while반복 끝\")    "
   ]
  },
  {
   "cell_type": "code",
   "execution_count": 173,
   "metadata": {},
   "outputs": [
    {
     "name": "stdout",
     "output_type": "stream",
     "text": [
      "5\n",
      "1\n",
      "2\n",
      "3\n",
      "END\n"
     ]
    }
   ],
   "source": [
    "#주사위 : 1 ~6\n",
    "#모듈 : .py파일 여러개 묶음 (폴더와 비슷 )\n",
    "#py : python프로그램의 소스코드...함수들의 묶음, 문장+함수  \n",
    "import random\n",
    "\n",
    "random.random() #0<= <1 실수 \n",
    "\n",
    "#su =random.randint(1,6)\n",
    "while True:\n",
    "    su = random.randint(1,6) \n",
    "    print(su)\n",
    "    #조건으로 사용되는 변수가 변화가 있어야한다.\n",
    "    #조건체크하여 강제종료\n",
    "    \n",
    "    if su==3:\n",
    "        break\n",
    "    \n",
    "    \n",
    "\n",
    "print(\"END\")"
   ]
  },
  {
   "cell_type": "code",
   "execution_count": null,
   "metadata": {},
   "outputs": [],
   "source": [
    "#lotto번호 생성 : 1~45 중복없이 6개 만들기 "
   ]
  },
  {
   "cell_type": "code",
   "execution_count": 187,
   "metadata": {},
   "outputs": [
    {
     "data": {
      "text/plain": [
       "2"
      ]
     },
     "execution_count": 187,
     "metadata": {},
     "output_type": "execute_result"
    }
   ],
   "source": [
    "random.randint(1,45)"
   ]
  },
  {
   "cell_type": "code",
   "execution_count": 192,
   "metadata": {},
   "outputs": [
    {
     "data": {
      "text/plain": [
       "False"
      ]
     },
     "execution_count": 192,
     "metadata": {},
     "output_type": "execute_result"
    }
   ],
   "source": [
    "10 not in [10,20,30]"
   ]
  },
  {
   "cell_type": "code",
   "execution_count": 207,
   "metadata": {},
   "outputs": [
    {
     "name": "stdout",
     "output_type": "stream",
     "text": [
      "[31, 14, 2, 33, 22, 36]\n"
     ]
    }
   ],
   "source": [
    "lucky = []\n",
    "while True:\n",
    "    su = random.randint(1,45)\n",
    "    #중복확인 : su가 list에 있는지 확인 \n",
    "    if su not in lucky:\n",
    "        lucky.append(su)#중복 없다면 list추가    \n",
    "    #중복있으면 계속돈다.\n",
    "    if len(lucky)==6:break\n",
    "    #갯수가 6이면 반복빠지기 break\n",
    "\n",
    "print(lucky)    "
   ]
  },
  {
   "cell_type": "code",
   "execution_count": 219,
   "metadata": {},
   "outputs": [
    {
     "name": "stdout",
     "output_type": "stream",
     "text": [
      "1\n",
      "********************\n",
      "2\n",
      "3\n"
     ]
    }
   ],
   "source": [
    "##반복문에서의 제어문 : if, break, continue \n",
    "\n",
    "for su in range(1,11):\n",
    "    print(su)\n",
    "    \n",
    "    if su % 2 == 0: continue   #반복은 계속한다.아래문장들 무시 \n",
    "    \n",
    "    if su%3 == 0:break #반복빠지기 \n",
    "    print(\"*\" * 20)            "
   ]
  },
  {
   "cell_type": "code",
   "execution_count": 222,
   "metadata": {},
   "outputs": [
    {
     "name": "stdin",
     "output_type": "stream",
     "text": [
      "줄수>> 5\n"
     ]
    },
    {
     "name": "stdout",
     "output_type": "stream",
     "text": [
      "*\n",
      "**\n",
      "***\n",
      "****\n",
      "*****\n"
     ]
    }
   ],
   "source": [
    "su = int(input(\"줄수>>\"))\n",
    "for i in range(1,su+1):\n",
    "    for j in range(1,i+1):\n",
    "        print(\"*\", end=\"\")\n",
    "    print()    "
   ]
  },
  {
   "cell_type": "code",
   "execution_count": 259,
   "metadata": {},
   "outputs": [
    {
     "name": "stdout",
     "output_type": "stream",
     "text": [
      "7\n",
      "*******\n",
      "******\n",
      "*****\n",
      "****\n",
      "***\n",
      "**\n",
      "*\n"
     ]
    }
   ],
   "source": [
    "su = random.randint(1,10)\n",
    "print(su)\n",
    "for i in range(1,su+1):\n",
    "    for j in range(1, su+2-i):\n",
    "        print(\"*\", end=\"\")\n",
    "    print()    "
   ]
  },
  {
   "cell_type": "code",
   "execution_count": null,
   "metadata": {},
   "outputs": [],
   "source": [
    "#1~100\n",
    "#3의배수이면 Fizz\n",
    "#5의배수이면 Buzz\n",
    "#15의 배수이면 FizzBuzz"
   ]
  },
  {
   "cell_type": "code",
   "execution_count": 285,
   "metadata": {},
   "outputs": [],
   "source": [
    "#%%timeit\n",
    "# for i in range(1,101):\n",
    "#     if i%3==0:\n",
    "#         print(\"Fizz\")\n",
    "#     if i%5==0:\n",
    "#         print(\"Buzz\")\n",
    "#     if i%3==0  and i%5==0:\n",
    "#         print(\"FizzBuzz\")\n",
    "#     print(i)         "
   ]
  },
  {
   "cell_type": "code",
   "execution_count": 265,
   "metadata": {},
   "outputs": [
    {
     "data": {
      "text/plain": [
       "'--------------------'"
      ]
     },
     "execution_count": 265,
     "metadata": {},
     "output_type": "execute_result"
    }
   ],
   "source": [
    "\"-\"*20"
   ]
  },
  {
   "cell_type": "code",
   "execution_count": 276,
   "metadata": {},
   "outputs": [
    {
     "data": {
      "text/plain": [
       "'Fizz'"
      ]
     },
     "execution_count": 276,
     "metadata": {},
     "output_type": "execute_result"
    }
   ],
   "source": [
    "#반복 True->1   False->0\n",
    "\"-\"*True\n",
    "\"-\"*False\n",
    "\n",
    "\"Fizz\"*(3%3==0) + \"Buzz\"*(3%5==0) or 3"
   ]
  },
  {
   "cell_type": "code",
   "execution_count": 287,
   "metadata": {},
   "outputs": [],
   "source": [
    "#%%timeit\n",
    "# for i in range(1,101):\n",
    "#     print(\"Fizz\"*(i%3==0) + \"Buzz\"*(i%5==0) or i)"
   ]
  },
  {
   "cell_type": "code",
   "execution_count": 293,
   "metadata": {},
   "outputs": [
    {
     "name": "stdout",
     "output_type": "stream",
     "text": [
      "[1, 2, 10, 31, 32, 33, [21, 22, 23], 3, 100, 200, [88, 99], 77, 66, 55]\n"
     ]
    }
   ],
   "source": [
    "alist = [1,2,3]\n",
    "\n",
    "alist.append(100)\n",
    "alist.append(200)\n",
    "alist.append([88,99])\n",
    "alist.extend([77,66, 55])\n",
    "alist.insert(2, 10)\n",
    "alist.insert(3, [21,22,23])\n",
    "alist[3:3] = [31,32,33]\n",
    "print(alist)"
   ]
  },
  {
   "cell_type": "code",
   "execution_count": 300,
   "metadata": {},
   "outputs": [
    {
     "name": "stdout",
     "output_type": "stream",
     "text": [
      "끝에서 제거: 5\n",
      "위치로 제거: 3\n",
      "값을 제거만하고 return없음: None\n",
      "[2]\n"
     ]
    }
   ],
   "source": [
    "alist = [1,2,3,4,5]\n",
    "\n",
    "print(\"끝에서 제거:\", alist.pop())\n",
    "print(\"위치로 제거:\", alist.pop(2))\n",
    "print(\"값을 제거만하고 return없음:\", alist.remove(4))\n",
    "del alist[0]  #특정위치로 제거 \n",
    "print(alist)"
   ]
  },
  {
   "cell_type": "code",
   "execution_count": null,
   "metadata": {},
   "outputs": [],
   "source": [
    "#list로 stack, queue\n",
    "#stack(LIFO: Last In First Out)..append(),pop()\n",
    "#Queue(FIFO : First In First Out) ....append(), pop(0)"
   ]
  },
  {
   "cell_type": "code",
   "execution_count": 310,
   "metadata": {},
   "outputs": [
    {
     "name": "stdout",
     "output_type": "stream",
     "text": [
      "1\n",
      "2\n",
      "None\n",
      "[20, 40, 10, 30, 20, 10]\n",
      "[10, 10, 20, 20, 30, 40]\n",
      "[40, 30, 20, 20, 10, 10]\n",
      "[]\n",
      "[]\n"
     ]
    }
   ],
   "source": [
    "#index : 위치\n",
    "#count : 횟수\n",
    "\n",
    "alist = [10,20,30,10, 40,20]\n",
    "\n",
    "print(alist.index(20))\n",
    "print(alist.count(20))\n",
    "a = alist.reverse()\n",
    "print(a)\n",
    "print(alist)\n",
    "alist.sort()\n",
    "print(alist)\n",
    "alist.sort(reverse=True)\n",
    "print(alist)\n",
    "alist.clear()\n",
    "print(alist)\n",
    "alist = [1,2,3]\n",
    "del alist[:]\n",
    "print(alist)"
   ]
  },
  {
   "cell_type": "code",
   "execution_count": 314,
   "metadata": {},
   "outputs": [
    {
     "name": "stdout",
     "output_type": "stream",
     "text": [
      "[99, 2, 3]\n",
      "[99, 2, 3]\n",
      "[1, 2, 3]\n",
      "2641814744000\n",
      "2641814744000\n"
     ]
    }
   ],
   "source": [
    "alist = [1,2,3]\n",
    "blist = alist  #주소복사 \n",
    "clist = alist.copy() #값을 복사 \n",
    "\n",
    "alist[0] = 99\n",
    "\n",
    "print(alist)\n",
    "print(blist)\n",
    "print(clist)\n",
    "print(id(alist))\n",
    "print(id(blist))"
   ]
  },
  {
   "cell_type": "code",
   "execution_count": 317,
   "metadata": {},
   "outputs": [
    {
     "name": "stdout",
     "output_type": "stream",
     "text": [
      "1 번째: 100\n",
      "2 번째: 90\n",
      "3 번째: 40\n",
      "4 번째: 80\n",
      "5 번째: 70\n"
     ]
    }
   ],
   "source": [
    "alist = [100,90,40,80,70]\n",
    "for idx, score in enumerate(alist):\n",
    "    print(idx+1 , \"번째:\", score)"
   ]
  },
  {
   "cell_type": "code",
   "execution_count": 327,
   "metadata": {},
   "outputs": [
    {
     "data": {
      "text/plain": [
       "[2, 3, 4, 5, 6, 7, 8, 9, 10]"
      ]
     },
     "execution_count": 327,
     "metadata": {},
     "output_type": "execute_result"
    }
   ],
   "source": [
    "#컴프리헨션 \n",
    "[i+1 for i in range(1,10)]"
   ]
  },
  {
   "cell_type": "code",
   "execution_count": 322,
   "metadata": {},
   "outputs": [
    {
     "name": "stdout",
     "output_type": "stream",
     "text": [
      "[2, 3, 4, 5, 6, 7, 8, 9, 10]\n"
     ]
    }
   ],
   "source": [
    "alist = []\n",
    "for i in range(1,10):\n",
    "    alist.append(i+1)\n",
    "    \n",
    "print(alist)"
   ]
  },
  {
   "cell_type": "code",
   "execution_count": 326,
   "metadata": {},
   "outputs": [
    {
     "data": {
      "text/plain": [
       "[1, 2, 3, 4, 5, 6, 7, 8, 9]"
      ]
     },
     "execution_count": 326,
     "metadata": {},
     "output_type": "execute_result"
    }
   ],
   "source": [
    "list(range(1,10) ) "
   ]
  },
  {
   "cell_type": "code",
   "execution_count": null,
   "metadata": {},
   "outputs": [],
   "source": []
  },
  {
   "cell_type": "code",
   "execution_count": 336,
   "metadata": {},
   "outputs": [
    {
     "name": "stdout",
     "output_type": "stream",
     "text": [
      "[1, 2, '3', 4, 5, '6', 7, 8, '9', 10]\n"
     ]
    }
   ],
   "source": [
    "alist = list(range(1,11))\n",
    "#result = [str(su)  for su in alist if su%3==0 ]\n",
    "\n",
    "result = [str(su) if su%3==0 else su for su in alist ]\n",
    "\n",
    "print(result)  "
   ]
  },
  {
   "cell_type": "code",
   "execution_count": 337,
   "metadata": {},
   "outputs": [
    {
     "data": {
      "text/plain": [
       "[2, 4, 6, 8, 10]"
      ]
     },
     "execution_count": 337,
     "metadata": {},
     "output_type": "execute_result"
    }
   ],
   "source": [
    "[i  for i in range(1,11) if i%2==0 ]"
   ]
  },
  {
   "cell_type": "code",
   "execution_count": 339,
   "metadata": {},
   "outputs": [
    {
     "data": {
      "text/plain": [
       "[0.1, 20, 0.3, 40, 0.5, 60, 0.7, 80, 0.9, 100]"
      ]
     },
     "execution_count": 339,
     "metadata": {},
     "output_type": "execute_result"
    }
   ],
   "source": [
    "[i*10 if i%2==0 else i/10 for i in range(1,11)  ]"
   ]
  },
  {
   "cell_type": "code",
   "execution_count": 329,
   "metadata": {},
   "outputs": [
    {
     "name": "stdout",
     "output_type": "stream",
     "text": [
      "[1, 2, '3', 4, 5, '6', 7, 8, '9', 10]\n"
     ]
    }
   ],
   "source": [
    "alist = list(range(1,11))\n",
    "result = []\n",
    "\n",
    "for su in alist:\n",
    "    if su%3==0:\n",
    "        result.append(str(su))\n",
    "    else:\n",
    "        result.append(su)\n",
    "print(result)        "
   ]
  },
  {
   "cell_type": "code",
   "execution_count": 348,
   "metadata": {},
   "outputs": [
    {
     "data": {
      "text/plain": [
       "[10, 20, 30, 40, 50]"
      ]
     },
     "execution_count": 348,
     "metadata": {},
     "output_type": "execute_result"
    }
   ],
   "source": [
    "alist = [1,2,3,4,5]\n",
    "\n",
    "#str(alist)  list->str, 각각의 값들이 문자로 변경 \n",
    "\n",
    "list(map(str, alist))\n",
    "tuple(map(str, alist))\n",
    "\n",
    "[i*10 for i in alist]\n",
    "tuple(i*10 for i in alist)\n",
    "\n",
    "list(i*10 for i in alist)"
   ]
  },
  {
   "cell_type": "code",
   "execution_count": 352,
   "metadata": {},
   "outputs": [
    {
     "data": {
      "text/plain": [
       "[10, 2, 3, 4]"
      ]
     },
     "execution_count": 352,
     "metadata": {},
     "output_type": "execute_result"
    }
   ],
   "source": [
    "alist = [10.2,2.5,3.567,4.2]\n",
    "[int(i) for i in alist]"
   ]
  },
  {
   "cell_type": "code",
   "execution_count": null,
   "metadata": {},
   "outputs": [],
   "source": []
  },
  {
   "cell_type": "code",
   "execution_count": null,
   "metadata": {},
   "outputs": [],
   "source": []
  },
  {
   "cell_type": "code",
   "execution_count": null,
   "metadata": {},
   "outputs": [],
   "source": []
  },
  {
   "cell_type": "code",
   "execution_count": 355,
   "metadata": {},
   "outputs": [
    {
     "data": {
      "text/plain": [
       "[10, 2, 3, 4]"
      ]
     },
     "execution_count": 355,
     "metadata": {},
     "output_type": "execute_result"
    }
   ],
   "source": [
    "list(map(myF, alist))"
   ]
  },
  {
   "cell_type": "code",
   "execution_count": 353,
   "metadata": {},
   "outputs": [],
   "source": [
    "#x는 형식매개변수, argument, parameter \n",
    "def myF(x):\n",
    "    return int(x) \n",
    "    #return : 함수를 호출한 곳으로 값을가지고 돌아간다."
   ]
  },
  {
   "cell_type": "code",
   "execution_count": 356,
   "metadata": {},
   "outputs": [
    {
     "name": "stdout",
     "output_type": "stream",
     "text": [
      "[1, 2]\n",
      "[3, 4]\n",
      "[5, 6]\n"
     ]
    }
   ],
   "source": [
    "alist = [[1,2],[3,4],[5,6]] #3행 2열\n",
    "\n",
    "for row in alist:\n",
    "    print(row)"
   ]
  },
  {
   "cell_type": "code",
   "execution_count": 357,
   "metadata": {},
   "outputs": [
    {
     "name": "stdout",
     "output_type": "stream",
     "text": [
      "1 2\n",
      "3 4\n",
      "5 6\n"
     ]
    }
   ],
   "source": [
    "for a,b in alist:\n",
    "    print(a, b)"
   ]
  },
  {
   "cell_type": "code",
   "execution_count": 359,
   "metadata": {},
   "outputs": [
    {
     "name": "stdout",
     "output_type": "stream",
     "text": [
      "[1, 2]\n",
      "1\n",
      "2\n",
      "[3, 4]\n",
      "3\n",
      "4\n",
      "[5, 6]\n",
      "5\n",
      "6\n"
     ]
    }
   ],
   "source": [
    "for a in alist:\n",
    "    print(a)\n",
    "    for b in a:\n",
    "        print(b)"
   ]
  },
  {
   "cell_type": "code",
   "execution_count": 360,
   "metadata": {},
   "outputs": [
    {
     "name": "stdout",
     "output_type": "stream",
     "text": [
      "1\n",
      "2\n",
      "3\n",
      "4\n",
      "5\n",
      "6\n"
     ]
    }
   ],
   "source": [
    "for a in alist:\n",
    "    for b in a:\n",
    "        print(b)"
   ]
  },
  {
   "cell_type": "code",
   "execution_count": 362,
   "metadata": {},
   "outputs": [
    {
     "name": "stdout",
     "output_type": "stream",
     "text": [
      "[1, 2]\n",
      "1\n",
      "2\n",
      "[3, 4]\n",
      "3\n",
      "4\n",
      "[5, 6]\n",
      "5\n",
      "6\n"
     ]
    }
   ],
   "source": [
    "for i in range(len(alist)):\n",
    "    print(alist[i])\n",
    "    for j in range(len(alist[i])):\n",
    "        print(alist[i][j])"
   ]
  },
  {
   "cell_type": "markdown",
   "metadata": {},
   "source": [
    "# LAB"
   ]
  },
  {
   "cell_type": "code",
   "execution_count": 365,
   "metadata": {},
   "outputs": [
    {
     "name": "stdout",
     "output_type": "stream",
     "text": [
      "2 4 6 8 10 12 14 16 18 20 22 24 26 28 30 32 34 36 38 40 42 44 46 48 50 52 54 56 58 60 62 64 66 68 70 72 74 76 78 80 82 84 86 88 90 92 94 96 98 100 "
     ]
    }
   ],
   "source": [
    "# 1. 2부터 100 사이의 모든 짝수를 출력하는 \n",
    "# 반복 루프를 작성한다. \n",
    "for i in range(2, 101, 2):\n",
    "    print(i, end=\" \")"
   ]
  },
  {
   "cell_type": "code",
   "execution_count": 371,
   "metadata": {},
   "outputs": [
    {
     "name": "stdout",
     "output_type": "stream",
     "text": [
      "11 2104.851952299835\n"
     ]
    }
   ],
   "source": [
    "# 2. 어떤 사람이 복리이자율 7%로 1000만원을 저금했을 경우에 2000만원이 되는데\n",
    "# 몇 년이 걸리는지 계산하기 위하여 다음과 코드를 작성하였다. \n",
    "# 잘못된 점은 없는지 체크해보자. \n",
    "\n",
    "year = 0\n",
    "balance = 1000\n",
    "\n",
    "while balance < 2000 :\n",
    "\tyear = year + 1\n",
    "\tinterest = balance * 0.07\n",
    "\tbalance = balance + interest\n",
    "print(year, balance)"
   ]
  },
  {
   "cell_type": "code",
   "execution_count": 372,
   "metadata": {},
   "outputs": [
    {
     "name": "stdout",
     "output_type": "stream",
     "text": [
      "Hi !\n",
      "Hi !\n",
      "Hi !\n",
      "Hi !\n",
      "Hi !\n",
      "Hi !\n",
      "Hi !\n",
      "Hi !\n",
      "Hi !\n",
      "Hi !\n",
      "Hi !\n",
      "11\n"
     ]
    }
   ],
   "source": [
    "count = 0\n",
    "while count <= 10:\n",
    "\tprint(\"Hi !\")\n",
    "\tcount = count + 1\n",
    "print(count)"
   ]
  },
  {
   "cell_type": "code",
   "execution_count": 373,
   "metadata": {},
   "outputs": [
    {
     "name": "stdout",
     "output_type": "stream",
     "text": [
      "2\n",
      "4\n",
      "6\n",
      "8\n"
     ]
    }
   ],
   "source": [
    "i = 1\n",
    "while i < 10:\n",
    "\tif i%2 == 0:\n",
    "\t\tprint(i)\n",
    "\ti = i + 1\n"
   ]
  },
  {
   "cell_type": "code",
   "execution_count": 374,
   "metadata": {},
   "outputs": [
    {
     "name": "stdout",
     "output_type": "stream",
     "text": [
      "17\n"
     ]
    }
   ],
   "source": [
    "n = 1349\n",
    "sum = 0\n",
    "while n > 0 :\n",
    "\tdigit = n % 10   #0\n",
    "\tsum = sum + digit  #9+4 + 3  + 1 + 0\n",
    "\tn = n // 10      #1\n",
    "\n",
    "print(sum)\n"
   ]
  },
  {
   "cell_type": "code",
   "execution_count": 375,
   "metadata": {},
   "outputs": [
    {
     "name": "stdin",
     "output_type": "stream",
     "text": [
      "87 + 36의 값은? 1\n",
      "87 + 36의 값은? 1\n",
      "87 + 36의 값은? 1\n",
      "87 + 36의 값은? 2\n",
      "87 + 36의 값은? 4\n",
      "87 + 36의 값은? 5\n",
      "87 + 36의 값은? 133\n",
      "87 + 36의 값은? 123\n"
     ]
    },
    {
     "name": "stdout",
     "output_type": "stream",
     "text": [
      "맞았습니다.\n"
     ]
    }
   ],
   "source": [
    "while True:\n",
    "    su = int(input(\"87 + 36의 값은?\"))\n",
    "    if su == 87+36:\n",
    "        print(\"맞았습니다.\")\n",
    "        break;\n",
    "    "
   ]
  },
  {
   "cell_type": "code",
   "execution_count": 377,
   "metadata": {},
   "outputs": [
    {
     "name": "stdin",
     "output_type": "stream",
     "text": [
      "정수를 입력하시오: 1\n",
      "정수를 입력하시오: 2\n",
      "정수를 입력하시오: 3\n",
      "정수를 입력하시오: 4\n",
      "정수를 입력하시오: 5\n",
      "정수를 입력하시오: 6\n",
      "정수를 입력하시오: 0\n"
     ]
    },
    {
     "name": "stdout",
     "output_type": "stream",
     "text": [
      "21\n"
     ]
    }
   ],
   "source": [
    "total=0\n",
    "while True:\n",
    "    su = int(input(\"정수를 입력하시오:\"))\n",
    "    if su==0:break\n",
    "    total += su\n",
    "    \n",
    "print(total)    "
   ]
  },
  {
   "cell_type": "code",
   "execution_count": 381,
   "metadata": {},
   "outputs": [
    {
     "name": "stdout",
     "output_type": "stream",
     "text": [
      "4950\n"
     ]
    }
   ],
   "source": [
    "sum = 0\n",
    "for i in range(100):\n",
    "\tsum = sum + i\n",
    "print(sum)"
   ]
  },
  {
   "cell_type": "code",
   "execution_count": 383,
   "metadata": {},
   "outputs": [
    {
     "name": "stdout",
     "output_type": "stream",
     "text": [
      "4950\n"
     ]
    }
   ],
   "source": [
    "sum = 0\n",
    "i=0\n",
    "while(i<100):\n",
    "    sum += i\n",
    "    i += 1\n",
    "print(sum)    "
   ]
  },
  {
   "cell_type": "code",
   "execution_count": 384,
   "metadata": {},
   "outputs": [
    {
     "name": "stdout",
     "output_type": "stream",
     "text": [
      "448 100128\n"
     ]
    }
   ],
   "source": [
    "sum = 0\n",
    "i = 0\n",
    "while sum < 100000:\n",
    "\tsum = sum + i\n",
    "\ti = i + 1\n",
    "print(i, sum)"
   ]
  },
  {
   "cell_type": "code",
   "execution_count": 386,
   "metadata": {},
   "outputs": [
    {
     "name": "stdout",
     "output_type": "stream",
     "text": [
      "447 100128\n"
     ]
    }
   ],
   "source": [
    "sum = 0\n",
    "i = 0\n",
    "for i in range(448):\n",
    "    sum += i\n",
    "print(i, sum)    "
   ]
  },
  {
   "cell_type": "code",
   "execution_count": 434,
   "metadata": {},
   "outputs": [
    {
     "name": "stdout",
     "output_type": "stream",
     "text": [
      "447 100128\n"
     ]
    }
   ],
   "source": [
    "sum = 0\n",
    "i = 0\n",
    "for i in range(100000):\n",
    "    sum += i\n",
    "    if sum >= 100000:break\n",
    "print(i, sum)  "
   ]
  },
  {
   "cell_type": "code",
   "execution_count": 390,
   "metadata": {},
   "outputs": [
    {
     "name": "stdin",
     "output_type": "stream",
     "text": [
      "숫자1>> 5\n",
      "숫자2>> 6\n"
     ]
    },
    {
     "name": "stdout",
     "output_type": "stream",
     "text": [
      "1\n"
     ]
    }
   ],
   "source": [
    "# 11. 최대 공약수를 찾는 프로그램을 작성하여 보자. \n",
    "# 많은 알고리즘이 있지만 우리는 반복을 이용한 알고리즘을 사용해보자.\n",
    "# 사용자로부터 받은 두수가 x, y라고 하자. \n",
    "# 우리는 변수 i가 1부터 시작하여서 x와 y보다 작을 때까지 반복한다. \n",
    "# 한번 반복할 때마다 x와 y를 i로 나누어본다. \n",
    "# x와 y가 나누어떨어지면 i를 최대 공약수라고 생각한다. \n",
    "\n",
    "\n",
    "# 첫번째 정수: 32\n",
    "# 첫번째 정수: 12\n",
    "#  \n",
    "x = int(input(\"숫자1>>\"))\n",
    "y = int(input(\"숫자2>>\"))\n",
    "minSu = min(x, y)\n",
    "\n",
    "for su in range(minSu, 0, -1):\n",
    "    if x%su==0 and y%su==0:\n",
    "        break;\n",
    "print(su)\n",
    "\n"
   ]
  },
  {
   "cell_type": "code",
   "execution_count": 391,
   "metadata": {},
   "outputs": [
    {
     "name": "stdout",
     "output_type": "stream",
     "text": [
      "11 2104.851952299835\n"
     ]
    }
   ],
   "source": [
    "year = 0\n",
    "balance = 1000\n",
    "\n",
    "while balance < 2000 :\n",
    "\tyear = year + 1\n",
    "\tinterest = balance * 0.07\n",
    "\tbalance = balance + interest\n",
    "print(year, balance)"
   ]
  },
  {
   "cell_type": "code",
   "execution_count": 394,
   "metadata": {},
   "outputs": [],
   "source": [
    "del sum"
   ]
  },
  {
   "cell_type": "code",
   "execution_count": null,
   "metadata": {},
   "outputs": [],
   "source": []
  },
  {
   "cell_type": "code",
   "execution_count": 393,
   "metadata": {},
   "outputs": [
    {
     "name": "stdout",
     "output_type": "stream",
     "text": [
      "46.10464832285218\n"
     ]
    }
   ],
   "source": [
    "#13. 다음 수열의 합을 계산하는 프로그램을 작성하시오.\n",
    "#1/3 + 3/5 + 5/7 + ... 99/101\n",
    "\n",
    "total = 0\n",
    "for i in range(3, 102, 2):\n",
    "    total += (i-2)/i\n",
    "    \n",
    "print(total)    \n"
   ]
  },
  {
   "cell_type": "code",
   "execution_count": 395,
   "metadata": {},
   "outputs": [
    {
     "name": "stdout",
     "output_type": "stream",
     "text": [
      "1\t1\t1\t1\t\n",
      "2\t4\t8\t16\t\n",
      "3\t9\t27\t81\t\n",
      "4\t16\t64\t256\t\n",
      "5\t25\t125\t625\t\n",
      "6\t36\t216\t1296\t\n",
      "7\t49\t343\t2401\t\n",
      "8\t64\t512\t4096\t\n",
      "9\t81\t729\t6561\t\n",
      "10\t100\t1000\t10000\t\n"
     ]
    }
   ],
   "source": [
    "#14. 다음과 같이 1부터 10까지 1제곱값, 2제곱값, 3제곱값, 4제곱값을 출력하는 프로그램을 작성해보자. \n",
    "\n",
    "for i in range(1,11):\n",
    "    for j in range(1,5):\n",
    "        print(i**j, end=\"\\t\")\n",
    "    print()    \n",
    "\n"
   ]
  },
  {
   "cell_type": "code",
   "execution_count": 407,
   "metadata": {},
   "outputs": [
    {
     "name": "stdout",
     "output_type": "stream",
     "text": [
      "첫번째 주사위=  4  두번째 주사위=  5\n",
      "첫번째 주사위=  3  두번째 주사위=  5\n",
      "첫번째 주사위=  2  두번째 주사위=  1\n",
      "첫번째 주사위=  6  두번째 주사위=  5\n",
      "첫번째 주사위=  1  두번째 주사위=  1\n",
      "첫번째 주사위=  2  두번째 주사위=  3\n",
      "첫번째 주사위=  4  두번째 주사위=  2\n",
      "첫번째 주사위=  5  두번째 주사위=  5\n",
      "첫번째 주사위=  1  두번째 주사위=  1\n",
      "첫번째 주사위=  2  두번째 주사위=  4\n"
     ]
    }
   ],
   "source": [
    "from random import randint\n",
    "\n",
    "for i in range(10):\n",
    "    print(\"첫번째 주사위= \", randint(1,6), \" 두번째 주사위= \", randint(1,6))"
   ]
  },
  {
   "cell_type": "code",
   "execution_count": 415,
   "metadata": {},
   "outputs": [
    {
     "name": "stdout",
     "output_type": "stream",
     "text": [
      "하이~ python\n",
      "hello python\n"
     ]
    }
   ],
   "source": [
    "s = \"hello python\"\n",
    "s2 = s.replace(\"hello\", \"하이~\")\n",
    "\n",
    "print(s2)\n",
    "print(s) #원본 변경안됨 "
   ]
  },
  {
   "cell_type": "code",
   "execution_count": 414,
   "metadata": {},
   "outputs": [
    {
     "data": {
      "text/plain": [
       "'h2ll4 pyth4n'"
      ]
     },
     "execution_count": 414,
     "metadata": {},
     "output_type": "execute_result"
    }
   ],
   "source": [
    "transDict = str.maketrans('aeiou', '12345')\n",
    "s.translate(transDict)"
   ]
  },
  {
   "cell_type": "code",
   "execution_count": 429,
   "metadata": {},
   "outputs": [
    {
     "name": "stdout",
     "output_type": "stream",
     "text": [
      "['김재경', '조승희', '현유빈', '강성구', '김조은'] <class 'list'>\n",
      "김재경\n",
      "조승희\n",
      "현유빈\n",
      "강성구\n",
      "김조은\n"
     ]
    }
   ],
   "source": [
    "#split, join\n",
    "\n",
    "s = \"김재경,조승희-현유빈$강성구 김조은\"\n",
    "#s.split()  default는 공백으로 분리, 한개의 구분자로 분리 \n",
    "#여러개의 분리자를 넣으려면 regular expression를 사용 \n",
    "\n",
    "import re\n",
    "\n",
    "result = re.split(\",|\\$|-| \", s)\n",
    "print(result, type(result))\n",
    "\n",
    "for name in result:\n",
    "    print(name)"
   ]
  },
  {
   "cell_type": "code",
   "execution_count": 432,
   "metadata": {},
   "outputs": [
    {
     "data": {
      "text/plain": [
       "'김재경**조승희**현유빈**강성구**김조은'"
      ]
     },
     "execution_count": 432,
     "metadata": {},
     "output_type": "execute_result"
    }
   ],
   "source": [
    "#list->str\n",
    "\"**\".join(result)"
   ]
  }
 ],
 "metadata": {
  "kernelspec": {
   "display_name": "Python 3",
   "language": "python",
   "name": "python3"
  },
  "language_info": {
   "codemirror_mode": {
    "name": "ipython",
    "version": 3
   },
   "file_extension": ".py",
   "mimetype": "text/x-python",
   "name": "python",
   "nbconvert_exporter": "python",
   "pygments_lexer": "ipython3",
   "version": "3.8.3"
  }
 },
 "nbformat": 4,
 "nbformat_minor": 4
}
