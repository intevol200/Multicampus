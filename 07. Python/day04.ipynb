{
 "cells": [
  {
   "cell_type": "code",
   "execution_count": null,
   "metadata": {},
   "outputs": [],
   "source": [
    "#class : object를 만들기 위한 틀, teplate, 설계도 ,Person틀, int틀 \n",
    "#       속성(변수) + 행위(기능, 메서드)\n",
    "#object : class를 이용해서 만든 독립적인 실체(instance)\n",
    "#       object마다 변수의 값이 다르다. "
   ]
  },
  {
   "cell_type": "code",
   "execution_count": 61,
   "metadata": {},
   "outputs": [],
   "source": [
    "a = int(10)\n",
    "b = int(20)"
   ]
  },
  {
   "cell_type": "code",
   "execution_count": 62,
   "metadata": {},
   "outputs": [
    {
     "name": "stdout",
     "output_type": "stream",
     "text": [
      "<class 'int'>\n"
     ]
    }
   ],
   "source": [
    "print(type(a))"
   ]
  },
  {
   "cell_type": "code",
   "execution_count": 64,
   "metadata": {},
   "outputs": [
    {
     "data": {
      "text/plain": [
       "'HELLO'"
      ]
     },
     "execution_count": 64,
     "metadata": {},
     "output_type": "execute_result"
    }
   ],
   "source": [
    "#function, 함수 \n",
    "#input(\"입력>>\")\n",
    "\n",
    "#메서드 \n",
    "s = \"hello\"\n",
    "s2 = \"hello2\"\n",
    "s.upper()"
   ]
  },
  {
   "cell_type": "code",
   "execution_count": 112,
   "metadata": {},
   "outputs": [],
   "source": [
    "# 틀 (정의), object의 공통적인 부분을 구현 , 변수+함수(메서드) \n",
    "class Person:\n",
    "    #특성\n",
    "    \n",
    "    def __init__(self, name, age, balance):  #__ : 파이썬이 미리정의한 기능 , __init ;객체생성시 자동호출 \n",
    "        self.name = name\n",
    "        self.age = age\n",
    "        self.__balance = balance #정보은닉, 캡슐화 ,외부접근 금지 \n",
    "    #기능 (메서드)\n",
    "    def greeting(self):  #self는 객체를 의미한다. 변수이름은 상관없다.\n",
    "        print(self.name + \"!!!  안녕~\")\n",
    "        \n",
    "    def selfIntro(self):\n",
    "        print(\"나의 이름은 {}이고 나이는 {}입니다.\".format(self.name,self.age))\n",
    "        \n",
    "        \n",
    "    def getBalance(self):\n",
    "        print(\"나의 잔고는 {}입니다.\".format(self.__balance))"
   ]
  },
  {
   "cell_type": "code",
   "execution_count": 107,
   "metadata": {},
   "outputs": [],
   "source": [
    "del p1\n",
    "del p2"
   ]
  },
  {
   "cell_type": "code",
   "execution_count": 113,
   "metadata": {},
   "outputs": [],
   "source": [
    "#오브젝트, 실체 \n",
    "p1 = Person(\"홍길동\", 20, 1000)#객체생성(instance)->self\n",
    "p2 = Person(\"현유빈\", 22, 2000)"
   ]
  },
  {
   "cell_type": "code",
   "execution_count": 115,
   "metadata": {},
   "outputs": [
    {
     "name": "stdout",
     "output_type": "stream",
     "text": [
      "나의 잔고는 2000입니다.\n"
     ]
    }
   ],
   "source": [
    "p2.getBalance()"
   ]
  },
  {
   "cell_type": "code",
   "execution_count": 84,
   "metadata": {},
   "outputs": [
    {
     "data": {
      "text/plain": [
       "22"
      ]
     },
     "execution_count": 84,
     "metadata": {},
     "output_type": "execute_result"
    }
   ],
   "source": [
    "p1.name\n",
    "p1.age\n",
    "p2.name\n",
    "p2.age"
   ]
  },
  {
   "cell_type": "code",
   "execution_count": 87,
   "metadata": {},
   "outputs": [
    {
     "name": "stdout",
     "output_type": "stream",
     "text": [
      "홍길동!!!  안녕~\n"
     ]
    }
   ],
   "source": [
    "p1.greeting()"
   ]
  },
  {
   "cell_type": "code",
   "execution_count": 88,
   "metadata": {},
   "outputs": [
    {
     "name": "stdout",
     "output_type": "stream",
     "text": [
      "현유빈!!!  안녕~\n"
     ]
    }
   ],
   "source": [
    "p2.greeting()"
   ]
  },
  {
   "cell_type": "code",
   "execution_count": 71,
   "metadata": {},
   "outputs": [
    {
     "name": "stdout",
     "output_type": "stream",
     "text": [
      "<class '__main__.Person'>\n",
      "<class '__main__.Person'>\n"
     ]
    }
   ],
   "source": [
    "print(type(p1))\n",
    "print(type(p2))"
   ]
  },
  {
   "cell_type": "code",
   "execution_count": 92,
   "metadata": {},
   "outputs": [
    {
     "name": "stdout",
     "output_type": "stream",
     "text": [
      "나의 이름은 홍길동이고 나이는 20입니다.\n",
      "나의 이름은 현유빈이고 나이는 22입니다.\n"
     ]
    }
   ],
   "source": [
    "p1.selfIntro()\n",
    "p2.selfIntro()"
   ]
  },
  {
   "cell_type": "code",
   "execution_count": 149,
   "metadata": {},
   "outputs": [],
   "source": [
    "#class->object(instance)\n",
    "class Car:\n",
    "    def __init__(self, model, price, color ):\n",
    "        self.model = model;\n",
    "        self.__price = price\n",
    "        self.color = color\n",
    "    def forward(self):\n",
    "        print(\"{}색깔의 {} 자동차가 직진한다.가격은 {}\"\n",
    "              .format(self.color,self.model,self.__price  ))\n",
    "    def getPrice(self):  #getter\n",
    "        return self.__price\n",
    "    def setPrice(self, price):   #setter\n",
    "        self.__price = price"
   ]
  },
  {
   "cell_type": "code",
   "execution_count": 150,
   "metadata": {},
   "outputs": [
    {
     "name": "stdout",
     "output_type": "stream",
     "text": [
      "black색깔의 SM5 자동차가 직진한다.가격은 4000\n",
      "black색깔의 BMW520 자동차가 직진한다.가격은 7000\n",
      "SM5 BMW520 7000 8000\n"
     ]
    }
   ],
   "source": [
    "c1 = Car(\"SM5\", 4000, \"black\")  #instance생성 \n",
    "c2 = Car(\"BMW520\", 7000, \"black\")\n",
    "c1.forward()\n",
    "c2.forward()\n",
    "c1.setPrice(7000)\n",
    "c2.setPrice(8000)\n",
    "print(c1.model, c2.model, c1.getPrice(), c2.getPrice() )"
   ]
  },
  {
   "cell_type": "code",
   "execution_count": null,
   "metadata": {},
   "outputs": [],
   "source": [
    "#Object->Person->Student\n",
    "#               ->Teacher"
   ]
  },
  {
   "cell_type": "code",
   "execution_count": null,
   "metadata": {},
   "outputs": [],
   "source": []
  },
  {
   "cell_type": "code",
   "execution_count": 188,
   "metadata": {},
   "outputs": [],
   "source": [
    "class Person:   \n",
    "    shareBag = []  #class변수 : object들의 공유변수 \n",
    "    count = 0\n",
    "    def __init__(self, name, goods):\n",
    "        self.name = name  #  self.name : instance변수,  name: 지역변수 \n",
    "        Person.shareBag.append(goods)\n",
    "        Person.count += 1  #class변수가 누적 \n",
    "    \n",
    "    @classmethod\n",
    "    def getCount(cls):\n",
    "        return cls.count\n",
    "    \n",
    "    def show(self):\n",
    "        print(\"나의 이름은 {}입니다.\".format(self.name))\n",
    "        \n",
    "    @staticmethod    \n",
    "    def eat(food):\n",
    "        print(\"사람은 {}를 먹는다.\".format(food))"
   ]
  },
  {
   "cell_type": "code",
   "execution_count": 189,
   "metadata": {},
   "outputs": [
    {
     "name": "stdout",
     "output_type": "stream",
     "text": [
      "나의 이름은 김길동입니다.\n",
      "나의 이름은 조승희입니다.\n",
      "['사과', '스마트폰', 'coffee']\n",
      "['사과', '스마트폰', 'coffee']\n",
      "['사과', '스마트폰', 'coffee']\n",
      "사람은 밥를 먹는다.\n",
      "사람은 밥를 먹는다.\n",
      "사람은 밥를 먹는다.\n"
     ]
    },
    {
     "data": {
      "text/plain": [
       "3"
      ]
     },
     "execution_count": 189,
     "metadata": {},
     "output_type": "execute_result"
    }
   ],
   "source": [
    "kim = Person(\"김길동\", \"사과\")\n",
    "jo = Person(\"조승희\", \"스마트폰\")\n",
    "park = Person(\"박희\", \"coffee\")\n",
    "\n",
    "kim.show()\n",
    "jo.show()\n",
    "print(kim.shareBag)\n",
    "print(jo.shareBag)\n",
    "print(Person.shareBag)  # 더 나은 표현 \n",
    "\n",
    "kim.eat(\"밥\")\n",
    "jo.eat(\"밥\")  # instance method호출법 \n",
    "Person.eat(\"밥\")# 더 나은 표현 ...static method\n",
    "\n",
    "Person.getCount() \n"
   ]
  },
  {
   "cell_type": "code",
   "execution_count": 220,
   "metadata": {},
   "outputs": [],
   "source": [
    "class Person:\n",
    "    count=0  #class변수 ... instance들의 공유변수 \n",
    "    \n",
    "    def __init__(self, name):\n",
    "        print(\"instance생성시 자동 실행\")\n",
    "        self.name = name   #instance변수 \n",
    "        Person.count += 1\n",
    "    \n",
    "    def greeting(self):\n",
    "        print(\"greeting instance method\")\n",
    "        \n",
    "    @classmethod\n",
    "    def greeting2(cls):\n",
    "        print(\"greeting2 class method\")    \n",
    "        \n",
    "    @staticmethod\n",
    "    def greeting3():\n",
    "        print(\"greeting3 static method\")    "
   ]
  },
  {
   "cell_type": "code",
   "execution_count": 226,
   "metadata": {},
   "outputs": [],
   "source": [
    "class Student(Person):\n",
    "    def __init__(self, name, major): #정의하지않으면 부모것을 물려받는다. \n",
    "        print(\"학생의 init\")\n",
    "        super().__init__(name)  #부모의 init를 강제호출 \n",
    "        self.major = major\n",
    "    def study(self):\n",
    "        print(\"학생은 공부합니다.\")\n",
    "        \n",
    "        \n",
    "    #Override (덮어쓰기) : 부모가 가진 메서드를 재정의, \n",
    "    #부모거수행 안함, 나의 메서드만 수행함다.    \n",
    "    def greeting(self):\n",
    "        print(\"Student greeting instance method\")    "
   ]
  },
  {
   "cell_type": "code",
   "execution_count": 227,
   "metadata": {},
   "outputs": [
    {
     "name": "stdout",
     "output_type": "stream",
     "text": [
      "학생의 init\n",
      "instance생성시 자동 실행\n",
      "김학생 통계학과\n",
      "Student greeting instance method\n",
      "학생은 공부합니다.\n"
     ]
    }
   ],
   "source": [
    "s1 = Student(\"김학생\", \"통계학과\")\n",
    "print(s1.name, s1.major)\n",
    "s1.greeting()\n",
    "s1.study()"
   ]
  },
  {
   "cell_type": "code",
   "execution_count": null,
   "metadata": {},
   "outputs": [],
   "source": []
  },
  {
   "cell_type": "code",
   "execution_count": null,
   "metadata": {},
   "outputs": [],
   "source": []
  },
  {
   "cell_type": "code",
   "execution_count": 205,
   "metadata": {},
   "outputs": [
    {
     "name": "stdout",
     "output_type": "stream",
     "text": [
      "instance생성시 자동 실행\n",
      "instance생성시 자동 실행\n",
      "greeting instance method\n",
      "greeting2 class method\n",
      "greeting3 static method\n"
     ]
    },
    {
     "data": {
      "text/plain": [
       "2"
      ]
     },
     "execution_count": 205,
     "metadata": {},
     "output_type": "execute_result"
    }
   ],
   "source": [
    "p1 = Person(\"홍길동\")\n",
    "p2 = Person(\"홍길동2\")\n",
    "p1.greeting()\n",
    "Person.greeting2()\n",
    "Person.greeting3()\n",
    "Person.count"
   ]
  },
  {
   "cell_type": "code",
   "execution_count": 229,
   "metadata": {},
   "outputs": [
    {
     "data": {
      "text/plain": [
       "[__main__.Student, __main__.Person, object]"
      ]
     },
     "execution_count": 229,
     "metadata": {},
     "output_type": "execute_result"
    }
   ],
   "source": [
    "a = 10\n",
    "a = int(10)\n",
    "\n",
    "Student.mro()"
   ]
  },
  {
   "cell_type": "code",
   "execution_count": 233,
   "metadata": {},
   "outputs": [],
   "source": [
    "#규격서 \n",
    "from abc import *\n",
    "class Person(metaclass=ABCMeta):   \n",
    "    @abstractmethod\n",
    "    def f(self):\n",
    "        pass\n",
    "    @abstractmethod\n",
    "    def f2(self):\n",
    "        pass"
   ]
  },
  {
   "cell_type": "code",
   "execution_count": 239,
   "metadata": {},
   "outputs": [],
   "source": [
    "#규격서를 이용한 구현class\n",
    "class Student(Person):\n",
    "    def f(self):\n",
    "        print(\"f메서드 구현\")\n",
    "    def f2(self):\n",
    "        print(\"f2메서드 구현\")"
   ]
  },
  {
   "cell_type": "code",
   "execution_count": 240,
   "metadata": {},
   "outputs": [
    {
     "name": "stdout",
     "output_type": "stream",
     "text": [
      "f메서드 구현\n",
      "f2메서드 구현\n"
     ]
    }
   ],
   "source": [
    "a = Student()\n",
    "a.f()\n",
    "a.f2()"
   ]
  },
  {
   "cell_type": "markdown",
   "metadata": {},
   "source": [
    "# 예외"
   ]
  },
  {
   "cell_type": "code",
   "execution_count": 253,
   "metadata": {},
   "outputs": [
    {
     "ename": "IndexError",
     "evalue": "list index out of range",
     "output_type": "error",
     "traceback": [
      "\u001b[1;31m---------------------------------------------------------------------------\u001b[0m",
      "\u001b[1;31mIndexError\u001b[0m                                Traceback (most recent call last)",
      "\u001b[1;32m<ipython-input-253-663846eeaec3>\u001b[0m in \u001b[0;36m<module>\u001b[1;34m\u001b[0m\n\u001b[0;32m      1\u001b[0m \u001b[0ma\u001b[0m\u001b[1;33m=\u001b[0m\u001b[1;33m[\u001b[0m\u001b[1;36m1\u001b[0m\u001b[1;33m,\u001b[0m\u001b[1;36m2\u001b[0m\u001b[1;33m,\u001b[0m\u001b[1;36m3\u001b[0m\u001b[1;33m]\u001b[0m\u001b[1;33m\u001b[0m\u001b[1;33m\u001b[0m\u001b[0m\n\u001b[1;32m----> 2\u001b[1;33m \u001b[0ma\u001b[0m\u001b[1;33m[\u001b[0m\u001b[1;36m3\u001b[0m\u001b[1;33m]\u001b[0m\u001b[1;33m\u001b[0m\u001b[1;33m\u001b[0m\u001b[0m\n\u001b[0m",
      "\u001b[1;31mIndexError\u001b[0m: list index out of range"
     ]
    }
   ],
   "source": [
    "a=[1,2,3]\n",
    "a[3]"
   ]
  },
  {
   "cell_type": "code",
   "execution_count": 265,
   "metadata": {},
   "outputs": [
    {
     "name": "stdin",
     "output_type": "stream",
     "text": [
      "나누는수입력>> 3\n"
     ]
    },
    {
     "name": "stdout",
     "output_type": "stream",
     "text": [
      "3.3333333333333335\n"
     ]
    },
    {
     "name": "stdin",
     "output_type": "stream",
     "text": [
      "3의 배수 입력>> 3\n"
     ]
    },
    {
     "name": "stdout",
     "output_type": "stream",
     "text": [
      "1\n",
      "예외없이 처리종료\n",
      "예외발생 여부와 무관하게 모두 수행된다. \n",
      "프로그램이 종료\n"
     ]
    }
   ],
   "source": [
    "\n",
    "try:\n",
    "    #예외발생 가능성이 있는 문장들  \n",
    "    su=int(input(\"나누는수입력>>\"))    \n",
    "    a = 10/su\n",
    "    print(a)\n",
    "    \n",
    "    su2=int(input(\"3의 배수 입력>>\"))\n",
    "    if su2%3!=0:\n",
    "        raise Exception(\"반드시 3의배수를 입력하세요\")\n",
    "        #강제로 예외발생 \n",
    "    \n",
    "    b = [1,2,3]\n",
    "    print(b[0])\n",
    "    c = str(10) + \"입니다.\"\n",
    "except ZeroDivisionError as e:\n",
    "    #예외발생시 해야하는 로직 \n",
    "    print(\"ZeroDivisionError 예외발생.......\" , e)\n",
    "except IndexError as e:\n",
    "    print(\"index가 범위벗어났다.\" , e)\n",
    "except Exception as e:\n",
    "    print(\" 나머지 모든 exception\" , e)\n",
    "else:\n",
    "    print(\"예외없이 처리종료\")\n",
    "finally:\n",
    "    print(\"예외발생 여부와 무관하게 모두 수행된다. \")\n",
    "#예외처리를 하면 프로그램이 중단없이 계속 진행한다.     \n",
    "print(\"프로그램이 종료\")  "
   ]
  },
  {
   "cell_type": "code",
   "execution_count": 273,
   "metadata": {},
   "outputs": [
    {
     "data": {
      "text/plain": [
       "[0, 1, 2, 3, 4]"
      ]
     },
     "execution_count": 273,
     "metadata": {},
     "output_type": "execute_result"
    }
   ],
   "source": [
    "#iterator : 반복자, 순서대로 꺼낼수있는 객체 , lazy\n",
    "\n",
    "a = range(5)\n",
    "dir(a)\n",
    "\n",
    "dict(zip([1,2,3],[\"A\",\"B\",\"C\"]))\n",
    "list(a)"
   ]
  },
  {
   "cell_type": "code",
   "execution_count": 281,
   "metadata": {},
   "outputs": [
    {
     "name": "stdout",
     "output_type": "stream",
     "text": [
      "['__add__', '__class__', '__contains__', '__delattr__', '__dir__', '__doc__', '__eq__', '__format__', '__ge__', '__getattribute__', '__getitem__', '__getnewargs__', '__gt__', '__hash__', '__init__', '__init_subclass__', '__iter__', '__le__', '__len__', '__lt__', '__mul__', '__ne__', '__new__', '__reduce__', '__reduce_ex__', '__repr__', '__rmul__', '__setattr__', '__sizeof__', '__str__', '__subclasshook__', 'count', 'index']\n",
      "100\n",
      "200\n",
      "300\n"
     ]
    }
   ],
   "source": [
    "#문자열, 리스트, 딕셔너리, 세트,  튜플  ..... 반복 가능한 객체임\n",
    "\n",
    "a = \"Hello\"\n",
    "a=[10,20,30,40]\n",
    "a={\"name\":\"hong\", \"age\":20}\n",
    "a={100,200,300,100,100}\n",
    "a=(100,200,300)\n",
    "print(dir(a))  #___iter__\n",
    "for i in a:\n",
    "    print(i)"
   ]
  },
  {
   "cell_type": "code",
   "execution_count": 286,
   "metadata": {},
   "outputs": [
    {
     "data": {
      "text/plain": [
       "<tuple_iterator at 0x2393e5250d0>"
      ]
     },
     "execution_count": 286,
     "metadata": {},
     "output_type": "execute_result"
    }
   ],
   "source": [
    "a = \"Hello\"\n",
    "a=[10,20,30,40]\n",
    "a={\"name\":\"hong\", \"age\":20}\n",
    "a={100,200,300,100,100}\n",
    "a=(100,200,300)\n",
    "\n",
    "a.__iter__()"
   ]
  },
  {
   "cell_type": "code",
   "execution_count": 320,
   "metadata": {},
   "outputs": [],
   "source": [
    "a = \"Hello\"\n",
    "a=[10,20,30,40]\n",
    "a={\"name\":\"hong\", \"age\":20}\n",
    "a={100,200,300,100,100}\n",
    "a=(100,200,300)\n",
    "a = range(3)\n",
    "it = a.__iter__()  #iterator\n"
   ]
  },
  {
   "cell_type": "code",
   "execution_count": 319,
   "metadata": {},
   "outputs": [],
   "source": [
    "#it.__next__()"
   ]
  },
  {
   "cell_type": "code",
   "execution_count": 321,
   "metadata": {},
   "outputs": [
    {
     "name": "stdout",
     "output_type": "stream",
     "text": [
      "0\n",
      "1\n",
      "2\n"
     ]
    }
   ],
   "source": [
    "for i in a:\n",
    "    print(i)"
   ]
  },
  {
   "cell_type": "code",
   "execution_count": 347,
   "metadata": {},
   "outputs": [],
   "source": [
    "class Counter:\n",
    "    def __init__(self, stop):\n",
    "        self.current = 0    # 현재 숫자 유지, 0부터 지정된 숫자 직전까지 반복\n",
    "        self.stop = stop    # 반복을 끝낼 숫자\n",
    " \n",
    "    def __iter__(self):\n",
    "        return self         # 현재 인스턴스를 반환\n",
    " \n",
    "    def __next__(self):\n",
    "        if self.current < self.stop:    # 현재 숫자가 반복을 끝낼 숫자보다 작을 때\n",
    "            r = self.current            # 반환할 숫자를 변수에 저장\n",
    "            self.current += 2           # 현재 숫자를 1 증가시킴\n",
    "            return r                    # 숫자를 반환\n",
    "        else:                           # 현재 숫자가 반복을 끝낼 숫자보다 크거나 같을 때\n",
    "            raise StopIteration         # 예외 발생\n",
    " \n",
    "    def __getitem__(self, index):\n",
    "        if index < self.stop:\n",
    "            return index\n",
    "        else:\n",
    "            raise IndexError"
   ]
  },
  {
   "cell_type": "code",
   "execution_count": 333,
   "metadata": {},
   "outputs": [],
   "source": [
    "c = Counter(5)\n",
    "it = c.__iter__()"
   ]
  },
  {
   "cell_type": "code",
   "execution_count": 334,
   "metadata": {},
   "outputs": [
    {
     "data": {
      "text/plain": [
       "0"
      ]
     },
     "execution_count": 334,
     "metadata": {},
     "output_type": "execute_result"
    }
   ],
   "source": [
    "it.__next__()"
   ]
  },
  {
   "cell_type": "code",
   "execution_count": 337,
   "metadata": {},
   "outputs": [
    {
     "name": "stdout",
     "output_type": "stream",
     "text": [
      "0\n",
      "2\n",
      "4\n",
      "6\n",
      "8\n"
     ]
    }
   ],
   "source": [
    "for i in Counter(10):\n",
    "    print(i)"
   ]
  },
  {
   "cell_type": "code",
   "execution_count": 342,
   "metadata": {},
   "outputs": [
    {
     "name": "stdout",
     "output_type": "stream",
     "text": [
      "1 2 3 <class 'str'>\n",
      "['1', '2', '3']\n"
     ]
    }
   ],
   "source": [
    "alist = [1,2,3]\n",
    "\n",
    "a,b,c = map(str, alist)\n",
    "print(a,b,c, type(a))\n",
    "\n",
    "blist = list(map(str, alist))\n",
    "print(blist)"
   ]
  },
  {
   "cell_type": "code",
   "execution_count": 349,
   "metadata": {},
   "outputs": [
    {
     "data": {
      "text/plain": [
       "2"
      ]
     },
     "execution_count": 349,
     "metadata": {},
     "output_type": "execute_result"
    }
   ],
   "source": [
    "list(Counter(10))\n",
    "\n",
    "Counter(10)[2]"
   ]
  },
  {
   "cell_type": "markdown",
   "metadata": {},
   "source": [
    "# Generator (발생자 )\n",
    "### \"__inter__\"   \"__next__\"  자동생성해준다. "
   ]
  },
  {
   "cell_type": "code",
   "execution_count": 357,
   "metadata": {},
   "outputs": [],
   "source": [
    "def myGenerator():\n",
    "    print(\"A\")\n",
    "    yield 100\n",
    "    print(\"B\")\n",
    "    yield 200\n",
    "    print(\"C\")\n",
    "    yield 300"
   ]
  },
  {
   "cell_type": "code",
   "execution_count": 358,
   "metadata": {},
   "outputs": [
    {
     "name": "stdout",
     "output_type": "stream",
     "text": [
      "A\n",
      "100\n",
      "-------------------\n",
      "B\n",
      "200\n",
      "-------------------\n",
      "C\n",
      "300\n",
      "-------------------\n"
     ]
    }
   ],
   "source": [
    "f = myGenerator()\n",
    "for i in f:\n",
    "    print(i)\n",
    "    print(\"-------------------\")"
   ]
  },
  {
   "cell_type": "code",
   "execution_count": 355,
   "metadata": {},
   "outputs": [
    {
     "name": "stdout",
     "output_type": "stream",
     "text": [
      "['__class__', '__del__', '__delattr__', '__dir__', '__doc__', '__eq__', '__format__', '__ge__', '__getattribute__', '__gt__', '__hash__', '__init__', '__init_subclass__', '__iter__', '__le__', '__lt__', '__name__', '__ne__', '__new__', '__next__', '__qualname__', '__reduce__', '__reduce_ex__', '__repr__', '__setattr__', '__sizeof__', '__str__', '__subclasshook__', 'close', 'gi_code', 'gi_frame', 'gi_running', 'gi_yieldfrom', 'send', 'throw']\n"
     ]
    }
   ],
   "source": [
    "print(dir(f))"
   ]
  },
  {
   "cell_type": "markdown",
   "metadata": {},
   "source": [
    "# Decorator "
   ]
  },
  {
   "cell_type": "code",
   "execution_count": 363,
   "metadata": {},
   "outputs": [],
   "source": [
    "def hello():    \n",
    "    print(\"hello\")\n",
    "   "
   ]
  },
  {
   "cell_type": "code",
   "execution_count": 364,
   "metadata": {},
   "outputs": [],
   "source": [
    "def world():    \n",
    "    print(\"world\")\n",
    "   "
   ]
  },
  {
   "cell_type": "code",
   "execution_count": 365,
   "metadata": {},
   "outputs": [],
   "source": [
    "#함수가 파라메타가 될수있다. \n",
    "#함수가 return된다. \n",
    "def totalFunc(f):\n",
    "    print(f.__name__ + \"함수 시작~~~~~~~~\")\n",
    "    f()\n",
    "    print(f.__name__ + \"함수 끝~~~~~~~~\")"
   ]
  },
  {
   "cell_type": "code",
   "execution_count": 367,
   "metadata": {},
   "outputs": [
    {
     "name": "stdout",
     "output_type": "stream",
     "text": [
      "hello함수 시작~~~~~~~~\n",
      "hello\n",
      "hello함수 끝~~~~~~~~\n",
      "world함수 시작~~~~~~~~\n",
      "world\n",
      "world함수 끝~~~~~~~~\n"
     ]
    }
   ],
   "source": [
    "totalFunc(hello)\n",
    "totalFunc(world)"
   ]
  },
  {
   "cell_type": "code",
   "execution_count": 369,
   "metadata": {},
   "outputs": [],
   "source": [
    "def totalFunc(f):\n",
    "    def wrapper():\n",
    "        print(f.__name__ + \"함수 시작~~~~~~~~\")\n",
    "        f()\n",
    "        print(f.__name__ + \"함수 끝~~~~~~~~\")\n",
    "    return  wrapper   "
   ]
  },
  {
   "cell_type": "code",
   "execution_count": 371,
   "metadata": {},
   "outputs": [
    {
     "name": "stdout",
     "output_type": "stream",
     "text": [
      "hello함수 시작~~~~~~~~\n",
      "hello\n",
      "hello함수 끝~~~~~~~~\n"
     ]
    }
   ],
   "source": [
    "returnF = totalFunc(hello)\n",
    "returnF()"
   ]
  },
  {
   "cell_type": "code",
   "execution_count": 374,
   "metadata": {},
   "outputs": [],
   "source": [
    "@totalFunc\n",
    "def hello():\n",
    "    print(\"hello\")"
   ]
  },
  {
   "cell_type": "code",
   "execution_count": 375,
   "metadata": {},
   "outputs": [],
   "source": [
    "@totalFunc\n",
    "def world():\n",
    "    print(\"world\")"
   ]
  },
  {
   "cell_type": "code",
   "execution_count": 376,
   "metadata": {},
   "outputs": [
    {
     "name": "stdout",
     "output_type": "stream",
     "text": [
      "hello함수 시작~~~~~~~~\n",
      "hello\n",
      "hello함수 끝~~~~~~~~\n"
     ]
    }
   ],
   "source": [
    "hello()"
   ]
  },
  {
   "cell_type": "code",
   "execution_count": 377,
   "metadata": {},
   "outputs": [
    {
     "name": "stdout",
     "output_type": "stream",
     "text": [
      "world함수 시작~~~~~~~~\n",
      "world\n",
      "world함수 끝~~~~~~~~\n"
     ]
    }
   ],
   "source": [
    "world()"
   ]
  },
  {
   "cell_type": "code",
   "execution_count": 413,
   "metadata": {},
   "outputs": [],
   "source": [
    "def trace(f):\n",
    "    def wrapper(*args, **kwargs):\n",
    "        print(f.__name__ , \"함수입니다.\")\n",
    "        result = f(*args, **kwargs)\n",
    "        return result\n",
    "    return wrapper    "
   ]
  },
  {
   "cell_type": "code",
   "execution_count": 416,
   "metadata": {},
   "outputs": [],
   "source": [
    "@trace\n",
    "def add(*args, **kwargs):   #* :  가변인자, 값 여러개 \n",
    "    print(\"더하기합니다.\")\n",
    "    total=0\n",
    "    for i in args:\n",
    "        total += i   \n",
    "    for key, val in kwargs.items():\n",
    "        print(key ,\"-->\" , val)\n",
    "    \n",
    "    return total"
   ]
  },
  {
   "cell_type": "code",
   "execution_count": 400,
   "metadata": {},
   "outputs": [],
   "source": [
    "@trace\n",
    "def subtract(a,b):\n",
    "    print(\"빼기합니다.\")\n",
    "    return a-b"
   ]
  },
  {
   "cell_type": "code",
   "execution_count": 398,
   "metadata": {},
   "outputs": [],
   "source": [
    "#del add\n",
    "del subtract"
   ]
  },
  {
   "cell_type": "code",
   "execution_count": 417,
   "metadata": {},
   "outputs": [
    {
     "name": "stdout",
     "output_type": "stream",
     "text": [
      "add 함수입니다.\n",
      "더하기합니다.\n",
      "name --> 홍길동\n",
      "age --> 20\n",
      "55\n"
     ]
    }
   ],
   "source": [
    "\n",
    "mydict = {\"name\":\"홍길동\", \"age\":20}\n",
    "\n",
    "result = add(*[1,2,3,4,5,6,7,8,9,10], **mydict)  #* :unpacking \n",
    "print(result)\n"
   ]
  },
  {
   "cell_type": "code",
   "execution_count": 423,
   "metadata": {},
   "outputs": [],
   "source": [
    "@decoTest\n",
    "def sample():\n",
    "    print(\"~~~~sample~~~~~~\")"
   ]
  },
  {
   "cell_type": "code",
   "execution_count": 426,
   "metadata": {},
   "outputs": [],
   "source": [
    "@decoTest\n",
    "def sample2():\n",
    "    print(\"~~~~sample2~~~~~~\")\n",
    "    return \"Good\""
   ]
  },
  {
   "cell_type": "code",
   "execution_count": 428,
   "metadata": {},
   "outputs": [],
   "source": [
    "@decoTest\n",
    "def sample3(a,b):\n",
    "    print(\"~~~~sample3~~~~~~\")\n",
    "    return a+b"
   ]
  },
  {
   "cell_type": "code",
   "execution_count": 433,
   "metadata": {},
   "outputs": [],
   "source": [
    "@decoTest\n",
    "def sample4(**kwargs):\n",
    "    print(\"~~~~sample4~~~~~~\")\n",
    "    for key, val in kwargs.items():\n",
    "        print(key, \"-->\", val)\n",
    "    return len(kwargs.keys())"
   ]
  },
  {
   "cell_type": "code",
   "execution_count": 435,
   "metadata": {},
   "outputs": [],
   "source": [
    "@decoTest\n",
    "def sample5(*args, **kwargs):\n",
    "    print(\"~~~~sample5~~~~~~\")\n",
    "    \n",
    "    for key, val in kwargs.items():\n",
    "        print(key, \"-->\", val)\n",
    "    return len(args)"
   ]
  },
  {
   "cell_type": "code",
   "execution_count": 438,
   "metadata": {},
   "outputs": [
    {
     "name": "stdout",
     "output_type": "stream",
     "text": [
      "함수실행전 sample5\n",
      "~~~~sample5~~~~~~\n",
      "name --> 홍길동\n",
      "age --> 20\n",
      "함수실행후 sample5\n",
      "함수실행전 sample5\n",
      "~~~~sample5~~~~~~\n",
      "name --> kim\n",
      "age --> 10\n",
      "함수실행후 sample5\n"
     ]
    },
    {
     "data": {
      "text/plain": [
       "6"
      ]
     },
     "execution_count": 438,
     "metadata": {},
     "output_type": "execute_result"
    }
   ],
   "source": [
    "#sample()\n",
    "#sample3(10,20)\n",
    "#sample4(name=\"홍길동\", age=20)\n",
    "\n",
    "sample5(*[1,2,3,4,5,6], name=\"홍길동\", age=20)\n",
    "sample5(*[1,2,3,4,5,6],**{\"name\":\"kim\", \"age\":10})"
   ]
  },
  {
   "cell_type": "code",
   "execution_count": 424,
   "metadata": {},
   "outputs": [],
   "source": [
    "def decoTest(f):\n",
    "    def wrapper(*args, **kwargs):\n",
    "        print(\"함수실행전\", f.__name__)\n",
    "        result =  f(*args,**kwargs)        \n",
    "        print(\"함수실행후\", f.__name__)\n",
    "        return result  \n",
    "    return wrapper"
   ]
  },
  {
   "cell_type": "markdown",
   "metadata": {},
   "source": [
    "# 정규표현식 \n"
   ]
  },
  {
   "cell_type": "code",
   "execution_count": 482,
   "metadata": {},
   "outputs": [],
   "source": [
    "import re\n",
    "s = \"010-8888-9999\"\n",
    "s = \"Hello, World\"\n",
    "#p = \"^H\"\n",
    "p = \"Hi|He\"\n",
    "p = \"[01]{3}-[0-9]{4}\"\n",
    "p = \"^[A-Za-z]+\"  #^:시작, []:선택 , -:범위 , +:1개이상 , *:0개이상 \n",
    "                  #?:0,1 \n",
    "    \n",
    "s = \"나의 연락처는  010-8888-9999 입니다. 010-7777-6666 \"    \n",
    "p = \"[01]{3}-[0-9]{4}-[0-9]{4}\""
   ]
  },
  {
   "cell_type": "code",
   "execution_count": 483,
   "metadata": {},
   "outputs": [
    {
     "data": {
      "text/plain": [
       "['010-8888-9999', '010-7777-6666']"
      ]
     },
     "execution_count": 483,
     "metadata": {},
     "output_type": "execute_result"
    }
   ],
   "source": [
    "result = re.findall(p, s)\n",
    "result"
   ]
  },
  {
   "cell_type": "code",
   "execution_count": 450,
   "metadata": {},
   "outputs": [
    {
     "data": {
      "text/plain": [
       "2"
      ]
     },
     "execution_count": 450,
     "metadata": {},
     "output_type": "execute_result"
    }
   ],
   "source": [
    "s.find(\"ll\")  #찾은 위치 "
   ]
  },
  {
   "cell_type": "code",
   "execution_count": 489,
   "metadata": {},
   "outputs": [
    {
     "name": "stdout",
     "output_type": "stream",
     "text": [
      "010-4567-8963\n",
      "010\n",
      "4567\n",
      "8963\n"
     ]
    }
   ],
   "source": [
    "phone = \"010-4567-8963\"\n",
    "p = \"([01]{3})-([0-9]{4})-([0-9]{4})\"\n",
    "\n",
    "result = re.match(p, phone)\n",
    "print(result.group())\n",
    "print(result.group(1))\n",
    "print(result.group(2))\n",
    "print(result.group(3))"
   ]
  },
  {
   "cell_type": "code",
   "execution_count": 495,
   "metadata": {},
   "outputs": [
    {
     "data": {
      "text/plain": [
       "['가장', '가장']"
      ]
     },
     "execution_count": 495,
     "metadata": {},
     "output_type": "execute_result"
    }
   ],
   "source": [
    "import requests\n",
    "\n",
    "response = requests.get(\"https://www.daum.net/\")\n",
    "s = response.text\n",
    "re.findall(\"가장\", s)\n"
   ]
  },
  {
   "cell_type": "code",
   "execution_count": 501,
   "metadata": {},
   "outputs": [],
   "source": [
    "response = requests.get(\"https://api.bithumb.com/public/ticker/All\")\n",
    "s = response.text\n",
    "#re.findall(\"[0-9]{8,}\", s)"
   ]
  },
  {
   "cell_type": "markdown",
   "metadata": {},
   "source": [
    "# 모듈 : .py파일 ( class, 변수, 함수 )"
   ]
  },
  {
   "cell_type": "code",
   "execution_count": 505,
   "metadata": {},
   "outputs": [
    {
     "data": {
      "text/plain": [
       "120"
      ]
     },
     "execution_count": 505,
     "metadata": {},
     "output_type": "execute_result"
    }
   ],
   "source": [
    "import math\n",
    "\n",
    "math.pi\n",
    "math.ceil(2.1)  #무조건 올림\n",
    "math.floor(2.9)  #무조건 버림 \n",
    "math.factorial(5)"
   ]
  },
  {
   "cell_type": "code",
   "execution_count": 508,
   "metadata": {},
   "outputs": [],
   "source": [
    "import requests as req  #별명\n",
    "\n",
    "#req.get(\"https://www.naver.com/\").text"
   ]
  },
  {
   "cell_type": "code",
   "execution_count": 510,
   "metadata": {},
   "outputs": [
    {
     "data": {
      "text/plain": [
       "3.141592653589793"
      ]
     },
     "execution_count": 510,
     "metadata": {},
     "output_type": "execute_result"
    }
   ],
   "source": [
    "from math import *\n",
    "from math import pi as p\n",
    "\n",
    "p"
   ]
  },
  {
   "cell_type": "code",
   "execution_count": 511,
   "metadata": {},
   "outputs": [
    {
     "data": {
      "text/plain": [
       "<http.client.HTTPResponse at 0x2393ea58b20>"
      ]
     },
     "execution_count": 511,
     "metadata": {},
     "output_type": "execute_result"
    }
   ],
   "source": [
    "from urllib.request import urlopen \n",
    "\n",
    "urlopen(\"https://www.naver.com/\")"
   ]
  },
  {
   "cell_type": "code",
   "execution_count": 512,
   "metadata": {},
   "outputs": [
    {
     "data": {
      "text/plain": [
       "<http.client.HTTPResponse at 0x2393ea73c70>"
      ]
     },
     "execution_count": 512,
     "metadata": {},
     "output_type": "execute_result"
    }
   ],
   "source": [
    "import urllib.request #패키지.모듈\n",
    "\n",
    "urllib.request.urlopen(\"https://www.naver.com/\") "
   ]
  },
  {
   "cell_type": "code",
   "execution_count": 515,
   "metadata": {},
   "outputs": [
    {
     "name": "stdout",
     "output_type": "stream",
     "text": [
      "1파이썬 코드입니다.\n",
      "2파이썬 코드입니다.\n",
      "3파이썬 코드입니다.\n",
      "4파이썬 코드입니다.\n",
      "5파이썬 코드입니다.\n"
     ]
    }
   ],
   "source": [
    "#모듈 : .py파일(변수 + 함수 + class)\n",
    "import sample as sam\n",
    "\n",
    "sam.var1\n",
    "sam.func()"
   ]
  },
  {
   "cell_type": "code",
   "execution_count": 518,
   "metadata": {},
   "outputs": [
    {
     "name": "stdout",
     "output_type": "stream",
     "text": [
      "1파이썬 코드입니다.\n",
      "2파이썬 코드입니다.\n",
      "3파이썬 코드입니다.\n",
      "4파이썬 코드입니다.\n",
      "5파이썬 코드입니다.\n"
     ]
    }
   ],
   "source": [
    "#패키지는 폴더(파일의 묶음)\n",
    "#from mypackage.sample2 import func\n",
    "import mypackage.sample2\n",
    "mypackage.sample2.func()"
   ]
  }
 ],
 "metadata": {
  "kernelspec": {
   "display_name": "Python 3",
   "language": "python",
   "name": "python3"
  },
  "language_info": {
   "codemirror_mode": {
    "name": "ipython",
    "version": 3
   },
   "file_extension": ".py",
   "mimetype": "text/x-python",
   "name": "python",
   "nbconvert_exporter": "python",
   "pygments_lexer": "ipython3",
   "version": "3.8.3"
  }
 },
 "nbformat": 4,
 "nbformat_minor": 4
}
